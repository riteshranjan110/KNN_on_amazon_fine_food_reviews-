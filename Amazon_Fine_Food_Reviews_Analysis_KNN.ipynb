{
 "cells": [
  {
   "cell_type": "markdown",
   "metadata": {},
   "source": [
    "# Amazon Fine Food Reviews Analysis\n",
    "\n",
    "\n",
    "Data Source: https://www.kaggle.com/snap/amazon-fine-food-reviews <br>\n",
    "\n",
    "EDA: https://nycdatascience.com/blog/student-works/amazon-fine-foods-visualization/\n",
    "\n",
    "\n",
    "The Amazon Fine Food Reviews dataset consists of reviews of fine foods from Amazon.<br>\n",
    "\n",
    "Number of reviews: 568,454<br>\n",
    "Number of users: 256,059<br>\n",
    "Number of products: 74,258<br>\n",
    "Timespan: Oct 1999 - Oct 2012<br>\n",
    "Number of Attributes/Columns in data: 10 \n",
    "\n",
    "Attribute Information:\n",
    "\n",
    "1. Id\n",
    "2. ProductId - unique identifier for the product\n",
    "3. UserId - unqiue identifier for the user\n",
    "4. ProfileName\n",
    "5. HelpfulnessNumerator - number of users who found the review helpful\n",
    "6. HelpfulnessDenominator - number of users who indicated whether they found the review helpful or not\n",
    "7. Score - rating between 1 and 5\n",
    "8. Time - timestamp for the review\n",
    "9. Summary - brief summary of the review\n",
    "10. Text - text of the review\n",
    "\n",
    "\n",
    "#### Objective:\n",
    "Given a review, determine whether the review is positive (rating of 4 or 5) or negative (rating of 1 or 2).\n",
    "\n",
    "<br>\n",
    "[Q] How to determine if a review is positive or negative?<br>\n",
    "<br> \n",
    "[Ans] We could use Score/Rating. A rating of 4 or 5 can be cosnidered as a positive review. A rating of 1 or 2 can be considered as negative one. A review of rating 3 is considered nuetral and such reviews are ignored from our analysis. This is an approximate and proxy way of determining the polarity (positivity/negativity) of a review.\n",
    "\n",
    "\n"
   ]
  },
  {
   "cell_type": "markdown",
   "metadata": {},
   "source": [
    "# [1]. Reading Data"
   ]
  },
  {
   "cell_type": "markdown",
   "metadata": {},
   "source": [
    "## [1.1] Loading the data\n",
    "\n",
    "The dataset is available in two forms\n",
    "1. .csv file\n",
    "2. SQLite Database\n",
    "\n",
    "In order to load the data, We have used the SQLITE dataset as it is easier to query the data and visualise the data efficiently.\n",
    "<br> \n",
    "\n",
    "Here as we only want to get the global sentiment of the recommendations (positive or negative), we will purposefully ignore all Scores equal to 3. If the score is above 3, then the recommendation wil be set to \"positive\". Otherwise, it will be set to \"negative\"."
   ]
  },
  {
   "cell_type": "code",
   "execution_count": 1,
   "metadata": {},
   "outputs": [],
   "source": [
    "%matplotlib inline\n",
    "import warnings\n",
    "warnings.filterwarnings(\"ignore\")\n",
    "\n",
    "\n",
    "import sqlite3\n",
    "import pandas as pd\n",
    "import numpy as np\n",
    "import nltk\n",
    "import string\n",
    "import matplotlib.pyplot as plt\n",
    "import seaborn as sns\n",
    "from sklearn.feature_extraction.text import TfidfTransformer\n",
    "from sklearn.feature_extraction.text import TfidfVectorizer\n",
    "\n",
    "from sklearn.feature_extraction.text import CountVectorizer\n",
    "from sklearn.metrics import confusion_matrix\n",
    "from sklearn import metrics\n",
    "from sklearn.metrics import roc_curve, auc\n",
    "from nltk.stem.porter import PorterStemmer\n",
    "\n",
    "import re\n",
    "# Tutorial about Python regular expressions: https://pymotw.com/2/re/\n",
    "import string\n",
    "from nltk.corpus import stopwords\n",
    "from nltk.stem import PorterStemmer\n",
    "from nltk.stem.wordnet import WordNetLemmatizer\n",
    "\n",
    "from gensim.models import Word2Vec\n",
    "from gensim.models import KeyedVectors\n",
    "import pickle\n",
    "\n",
    "from tqdm import tqdm\n",
    "import os"
   ]
  },
  {
   "cell_type": "code",
   "execution_count": 2,
   "metadata": {},
   "outputs": [
    {
     "name": "stdout",
     "output_type": "stream",
     "text": [
      "Number of data points in our data (50000, 10)\n"
     ]
    },
    {
     "data": {
      "text/html": [
       "<div>\n",
       "<style scoped>\n",
       "    .dataframe tbody tr th:only-of-type {\n",
       "        vertical-align: middle;\n",
       "    }\n",
       "\n",
       "    .dataframe tbody tr th {\n",
       "        vertical-align: top;\n",
       "    }\n",
       "\n",
       "    .dataframe thead th {\n",
       "        text-align: right;\n",
       "    }\n",
       "</style>\n",
       "<table border=\"1\" class=\"dataframe\">\n",
       "  <thead>\n",
       "    <tr style=\"text-align: right;\">\n",
       "      <th></th>\n",
       "      <th>Id</th>\n",
       "      <th>ProductId</th>\n",
       "      <th>UserId</th>\n",
       "      <th>ProfileName</th>\n",
       "      <th>HelpfulnessNumerator</th>\n",
       "      <th>HelpfulnessDenominator</th>\n",
       "      <th>Score</th>\n",
       "      <th>Time</th>\n",
       "      <th>Summary</th>\n",
       "      <th>Text</th>\n",
       "    </tr>\n",
       "  </thead>\n",
       "  <tbody>\n",
       "    <tr>\n",
       "      <th>0</th>\n",
       "      <td>1</td>\n",
       "      <td>B001E4KFG0</td>\n",
       "      <td>A3SGXH7AUHU8GW</td>\n",
       "      <td>delmartian</td>\n",
       "      <td>1</td>\n",
       "      <td>1</td>\n",
       "      <td>1</td>\n",
       "      <td>1303862400</td>\n",
       "      <td>Good Quality Dog Food</td>\n",
       "      <td>I have bought several of the Vitality canned d...</td>\n",
       "    </tr>\n",
       "    <tr>\n",
       "      <th>1</th>\n",
       "      <td>2</td>\n",
       "      <td>B00813GRG4</td>\n",
       "      <td>A1D87F6ZCVE5NK</td>\n",
       "      <td>dll pa</td>\n",
       "      <td>0</td>\n",
       "      <td>0</td>\n",
       "      <td>0</td>\n",
       "      <td>1346976000</td>\n",
       "      <td>Not as Advertised</td>\n",
       "      <td>Product arrived labeled as Jumbo Salted Peanut...</td>\n",
       "    </tr>\n",
       "    <tr>\n",
       "      <th>2</th>\n",
       "      <td>3</td>\n",
       "      <td>B000LQOCH0</td>\n",
       "      <td>ABXLMWJIXXAIN</td>\n",
       "      <td>Natalia Corres \"Natalia Corres\"</td>\n",
       "      <td>1</td>\n",
       "      <td>1</td>\n",
       "      <td>1</td>\n",
       "      <td>1219017600</td>\n",
       "      <td>\"Delight\" says it all</td>\n",
       "      <td>This is a confection that has been around a fe...</td>\n",
       "    </tr>\n",
       "  </tbody>\n",
       "</table>\n",
       "</div>"
      ],
      "text/plain": [
       "   Id   ProductId          UserId                      ProfileName  \\\n",
       "0   1  B001E4KFG0  A3SGXH7AUHU8GW                       delmartian   \n",
       "1   2  B00813GRG4  A1D87F6ZCVE5NK                           dll pa   \n",
       "2   3  B000LQOCH0   ABXLMWJIXXAIN  Natalia Corres \"Natalia Corres\"   \n",
       "\n",
       "   HelpfulnessNumerator  HelpfulnessDenominator  Score        Time  \\\n",
       "0                     1                       1      1  1303862400   \n",
       "1                     0                       0      0  1346976000   \n",
       "2                     1                       1      1  1219017600   \n",
       "\n",
       "                 Summary                                               Text  \n",
       "0  Good Quality Dog Food  I have bought several of the Vitality canned d...  \n",
       "1      Not as Advertised  Product arrived labeled as Jumbo Salted Peanut...  \n",
       "2  \"Delight\" says it all  This is a confection that has been around a fe...  "
      ]
     },
     "execution_count": 2,
     "metadata": {},
     "output_type": "execute_result"
    }
   ],
   "source": [
    "# using SQLite Table to read data.\n",
    "con = sqlite3.connect('database.sqlite') \n",
    "\n",
    "# filtering only positive and negative reviews i.e. \n",
    "# not taking into consideration those reviews with Score=3\n",
    "# SELECT * FROM Reviews WHERE Score != 3 LIMIT 500000, will give top 500000 data points\n",
    "# you can change the number to any other number based on your computing power\n",
    "\n",
    "# filtered_data = pd.read_sql_query(\"\"\" SELECT * FROM Reviews WHERE Score != 3 LIMIT 500000\"\"\", con) \n",
    "\n",
    "filtered_data = pd.read_sql_query(\"\"\" SELECT * FROM Reviews WHERE Score != 3 LIMIT 50000\"\"\", con) \n",
    "\n",
    "# Give reviews with Score>3 a positive rating(1), and reviews with a score<3 a negative rating(0).\n",
    "def partition(x):\n",
    "    if x < 3:\n",
    "        return 0\n",
    "    return 1\n",
    "\n",
    "#changing reviews with score less than 3 to be positive and vice-versa\n",
    "actualScore = filtered_data['Score']\n",
    "positiveNegative = actualScore.map(partition) \n",
    "filtered_data['Score'] = positiveNegative\n",
    "print(\"Number of data points in our data\", filtered_data.shape)\n",
    "filtered_data.head(3)"
   ]
  },
  {
   "cell_type": "code",
   "execution_count": 3,
   "metadata": {},
   "outputs": [],
   "source": [
    "display = pd.read_sql_query(\"\"\"\n",
    "SELECT UserId, ProductId, ProfileName, Time, Score, Text, COUNT(*)\n",
    "FROM Reviews\n",
    "GROUP BY UserId\n",
    "HAVING COUNT(*)>1\n",
    "\"\"\", con)"
   ]
  },
  {
   "cell_type": "code",
   "execution_count": 4,
   "metadata": {
    "scrolled": true
   },
   "outputs": [
    {
     "name": "stdout",
     "output_type": "stream",
     "text": [
      "(80668, 7)\n"
     ]
    },
    {
     "data": {
      "text/html": [
       "<div>\n",
       "<style scoped>\n",
       "    .dataframe tbody tr th:only-of-type {\n",
       "        vertical-align: middle;\n",
       "    }\n",
       "\n",
       "    .dataframe tbody tr th {\n",
       "        vertical-align: top;\n",
       "    }\n",
       "\n",
       "    .dataframe thead th {\n",
       "        text-align: right;\n",
       "    }\n",
       "</style>\n",
       "<table border=\"1\" class=\"dataframe\">\n",
       "  <thead>\n",
       "    <tr style=\"text-align: right;\">\n",
       "      <th></th>\n",
       "      <th>UserId</th>\n",
       "      <th>ProductId</th>\n",
       "      <th>ProfileName</th>\n",
       "      <th>Time</th>\n",
       "      <th>Score</th>\n",
       "      <th>Text</th>\n",
       "      <th>COUNT(*)</th>\n",
       "    </tr>\n",
       "  </thead>\n",
       "  <tbody>\n",
       "    <tr>\n",
       "      <th>0</th>\n",
       "      <td>#oc-R115TNMSPFT9I7</td>\n",
       "      <td>B007Y59HVM</td>\n",
       "      <td>Breyton</td>\n",
       "      <td>1331510400</td>\n",
       "      <td>2</td>\n",
       "      <td>Overall its just OK when considering the price...</td>\n",
       "      <td>2</td>\n",
       "    </tr>\n",
       "    <tr>\n",
       "      <th>1</th>\n",
       "      <td>#oc-R11D9D7SHXIJB9</td>\n",
       "      <td>B005HG9ET0</td>\n",
       "      <td>Louis E. Emory \"hoppy\"</td>\n",
       "      <td>1342396800</td>\n",
       "      <td>5</td>\n",
       "      <td>My wife has recurring extreme muscle spasms, u...</td>\n",
       "      <td>3</td>\n",
       "    </tr>\n",
       "    <tr>\n",
       "      <th>2</th>\n",
       "      <td>#oc-R11DNU2NBKQ23Z</td>\n",
       "      <td>B007Y59HVM</td>\n",
       "      <td>Kim Cieszykowski</td>\n",
       "      <td>1348531200</td>\n",
       "      <td>1</td>\n",
       "      <td>This coffee is horrible and unfortunately not ...</td>\n",
       "      <td>2</td>\n",
       "    </tr>\n",
       "    <tr>\n",
       "      <th>3</th>\n",
       "      <td>#oc-R11O5J5ZVQE25C</td>\n",
       "      <td>B005HG9ET0</td>\n",
       "      <td>Penguin Chick</td>\n",
       "      <td>1346889600</td>\n",
       "      <td>5</td>\n",
       "      <td>This will be the bottle that you grab from the...</td>\n",
       "      <td>3</td>\n",
       "    </tr>\n",
       "    <tr>\n",
       "      <th>4</th>\n",
       "      <td>#oc-R12KPBODL2B5ZD</td>\n",
       "      <td>B007OSBE1U</td>\n",
       "      <td>Christopher P. Presta</td>\n",
       "      <td>1348617600</td>\n",
       "      <td>1</td>\n",
       "      <td>I didnt like this coffee. Instead of telling y...</td>\n",
       "      <td>2</td>\n",
       "    </tr>\n",
       "  </tbody>\n",
       "</table>\n",
       "</div>"
      ],
      "text/plain": [
       "               UserId   ProductId             ProfileName        Time  Score  \\\n",
       "0  #oc-R115TNMSPFT9I7  B007Y59HVM                 Breyton  1331510400      2   \n",
       "1  #oc-R11D9D7SHXIJB9  B005HG9ET0  Louis E. Emory \"hoppy\"  1342396800      5   \n",
       "2  #oc-R11DNU2NBKQ23Z  B007Y59HVM        Kim Cieszykowski  1348531200      1   \n",
       "3  #oc-R11O5J5ZVQE25C  B005HG9ET0           Penguin Chick  1346889600      5   \n",
       "4  #oc-R12KPBODL2B5ZD  B007OSBE1U   Christopher P. Presta  1348617600      1   \n",
       "\n",
       "                                                Text  COUNT(*)  \n",
       "0  Overall its just OK when considering the price...         2  \n",
       "1  My wife has recurring extreme muscle spasms, u...         3  \n",
       "2  This coffee is horrible and unfortunately not ...         2  \n",
       "3  This will be the bottle that you grab from the...         3  \n",
       "4  I didnt like this coffee. Instead of telling y...         2  "
      ]
     },
     "execution_count": 4,
     "metadata": {},
     "output_type": "execute_result"
    }
   ],
   "source": [
    "print(display.shape)\n",
    "display.head()"
   ]
  },
  {
   "cell_type": "code",
   "execution_count": 5,
   "metadata": {},
   "outputs": [
    {
     "data": {
      "text/html": [
       "<div>\n",
       "<style scoped>\n",
       "    .dataframe tbody tr th:only-of-type {\n",
       "        vertical-align: middle;\n",
       "    }\n",
       "\n",
       "    .dataframe tbody tr th {\n",
       "        vertical-align: top;\n",
       "    }\n",
       "\n",
       "    .dataframe thead th {\n",
       "        text-align: right;\n",
       "    }\n",
       "</style>\n",
       "<table border=\"1\" class=\"dataframe\">\n",
       "  <thead>\n",
       "    <tr style=\"text-align: right;\">\n",
       "      <th></th>\n",
       "      <th>UserId</th>\n",
       "      <th>ProductId</th>\n",
       "      <th>ProfileName</th>\n",
       "      <th>Time</th>\n",
       "      <th>Score</th>\n",
       "      <th>Text</th>\n",
       "      <th>COUNT(*)</th>\n",
       "    </tr>\n",
       "  </thead>\n",
       "  <tbody>\n",
       "    <tr>\n",
       "      <th>80638</th>\n",
       "      <td>AZY10LLTJ71NX</td>\n",
       "      <td>B006P7E5ZI</td>\n",
       "      <td>undertheshrine \"undertheshrine\"</td>\n",
       "      <td>1334707200</td>\n",
       "      <td>5</td>\n",
       "      <td>I was recommended to try green tea extract to ...</td>\n",
       "      <td>5</td>\n",
       "    </tr>\n",
       "  </tbody>\n",
       "</table>\n",
       "</div>"
      ],
      "text/plain": [
       "              UserId   ProductId                      ProfileName        Time  \\\n",
       "80638  AZY10LLTJ71NX  B006P7E5ZI  undertheshrine \"undertheshrine\"  1334707200   \n",
       "\n",
       "       Score                                               Text  COUNT(*)  \n",
       "80638      5  I was recommended to try green tea extract to ...         5  "
      ]
     },
     "execution_count": 5,
     "metadata": {},
     "output_type": "execute_result"
    }
   ],
   "source": [
    "display[display['UserId']=='AZY10LLTJ71NX']"
   ]
  },
  {
   "cell_type": "code",
   "execution_count": 6,
   "metadata": {},
   "outputs": [
    {
     "data": {
      "text/plain": [
       "393063"
      ]
     },
     "execution_count": 6,
     "metadata": {},
     "output_type": "execute_result"
    }
   ],
   "source": [
    "display['COUNT(*)'].sum()"
   ]
  },
  {
   "cell_type": "markdown",
   "metadata": {},
   "source": [
    "#  [2] Exploratory Data Analysis"
   ]
  },
  {
   "cell_type": "markdown",
   "metadata": {},
   "source": [
    "## [2.1] Data Cleaning: Deduplication\n",
    "\n",
    "It is observed (as shown in the table below) that the reviews data had many duplicate entries. Hence it was necessary to remove duplicates in order to get unbiased results for the analysis of the data.  Following is an example:"
   ]
  },
  {
   "cell_type": "code",
   "execution_count": 7,
   "metadata": {
    "scrolled": false
   },
   "outputs": [
    {
     "data": {
      "text/html": [
       "<div>\n",
       "<style scoped>\n",
       "    .dataframe tbody tr th:only-of-type {\n",
       "        vertical-align: middle;\n",
       "    }\n",
       "\n",
       "    .dataframe tbody tr th {\n",
       "        vertical-align: top;\n",
       "    }\n",
       "\n",
       "    .dataframe thead th {\n",
       "        text-align: right;\n",
       "    }\n",
       "</style>\n",
       "<table border=\"1\" class=\"dataframe\">\n",
       "  <thead>\n",
       "    <tr style=\"text-align: right;\">\n",
       "      <th></th>\n",
       "      <th>Id</th>\n",
       "      <th>ProductId</th>\n",
       "      <th>UserId</th>\n",
       "      <th>ProfileName</th>\n",
       "      <th>HelpfulnessNumerator</th>\n",
       "      <th>HelpfulnessDenominator</th>\n",
       "      <th>Score</th>\n",
       "      <th>Time</th>\n",
       "      <th>Summary</th>\n",
       "      <th>Text</th>\n",
       "    </tr>\n",
       "  </thead>\n",
       "  <tbody>\n",
       "    <tr>\n",
       "      <th>0</th>\n",
       "      <td>78445</td>\n",
       "      <td>B000HDL1RQ</td>\n",
       "      <td>AR5J8UI46CURR</td>\n",
       "      <td>Geetha Krishnan</td>\n",
       "      <td>2</td>\n",
       "      <td>2</td>\n",
       "      <td>5</td>\n",
       "      <td>1199577600</td>\n",
       "      <td>LOACKER QUADRATINI VANILLA WAFERS</td>\n",
       "      <td>DELICIOUS WAFERS. I FIND THAT EUROPEAN WAFERS ...</td>\n",
       "    </tr>\n",
       "    <tr>\n",
       "      <th>1</th>\n",
       "      <td>138317</td>\n",
       "      <td>B000HDOPYC</td>\n",
       "      <td>AR5J8UI46CURR</td>\n",
       "      <td>Geetha Krishnan</td>\n",
       "      <td>2</td>\n",
       "      <td>2</td>\n",
       "      <td>5</td>\n",
       "      <td>1199577600</td>\n",
       "      <td>LOACKER QUADRATINI VANILLA WAFERS</td>\n",
       "      <td>DELICIOUS WAFERS. I FIND THAT EUROPEAN WAFERS ...</td>\n",
       "    </tr>\n",
       "    <tr>\n",
       "      <th>2</th>\n",
       "      <td>138277</td>\n",
       "      <td>B000HDOPYM</td>\n",
       "      <td>AR5J8UI46CURR</td>\n",
       "      <td>Geetha Krishnan</td>\n",
       "      <td>2</td>\n",
       "      <td>2</td>\n",
       "      <td>5</td>\n",
       "      <td>1199577600</td>\n",
       "      <td>LOACKER QUADRATINI VANILLA WAFERS</td>\n",
       "      <td>DELICIOUS WAFERS. I FIND THAT EUROPEAN WAFERS ...</td>\n",
       "    </tr>\n",
       "    <tr>\n",
       "      <th>3</th>\n",
       "      <td>73791</td>\n",
       "      <td>B000HDOPZG</td>\n",
       "      <td>AR5J8UI46CURR</td>\n",
       "      <td>Geetha Krishnan</td>\n",
       "      <td>2</td>\n",
       "      <td>2</td>\n",
       "      <td>5</td>\n",
       "      <td>1199577600</td>\n",
       "      <td>LOACKER QUADRATINI VANILLA WAFERS</td>\n",
       "      <td>DELICIOUS WAFERS. I FIND THAT EUROPEAN WAFERS ...</td>\n",
       "    </tr>\n",
       "    <tr>\n",
       "      <th>4</th>\n",
       "      <td>155049</td>\n",
       "      <td>B000PAQ75C</td>\n",
       "      <td>AR5J8UI46CURR</td>\n",
       "      <td>Geetha Krishnan</td>\n",
       "      <td>2</td>\n",
       "      <td>2</td>\n",
       "      <td>5</td>\n",
       "      <td>1199577600</td>\n",
       "      <td>LOACKER QUADRATINI VANILLA WAFERS</td>\n",
       "      <td>DELICIOUS WAFERS. I FIND THAT EUROPEAN WAFERS ...</td>\n",
       "    </tr>\n",
       "  </tbody>\n",
       "</table>\n",
       "</div>"
      ],
      "text/plain": [
       "       Id   ProductId         UserId      ProfileName  HelpfulnessNumerator  \\\n",
       "0   78445  B000HDL1RQ  AR5J8UI46CURR  Geetha Krishnan                     2   \n",
       "1  138317  B000HDOPYC  AR5J8UI46CURR  Geetha Krishnan                     2   \n",
       "2  138277  B000HDOPYM  AR5J8UI46CURR  Geetha Krishnan                     2   \n",
       "3   73791  B000HDOPZG  AR5J8UI46CURR  Geetha Krishnan                     2   \n",
       "4  155049  B000PAQ75C  AR5J8UI46CURR  Geetha Krishnan                     2   \n",
       "\n",
       "   HelpfulnessDenominator  Score        Time  \\\n",
       "0                       2      5  1199577600   \n",
       "1                       2      5  1199577600   \n",
       "2                       2      5  1199577600   \n",
       "3                       2      5  1199577600   \n",
       "4                       2      5  1199577600   \n",
       "\n",
       "                             Summary  \\\n",
       "0  LOACKER QUADRATINI VANILLA WAFERS   \n",
       "1  LOACKER QUADRATINI VANILLA WAFERS   \n",
       "2  LOACKER QUADRATINI VANILLA WAFERS   \n",
       "3  LOACKER QUADRATINI VANILLA WAFERS   \n",
       "4  LOACKER QUADRATINI VANILLA WAFERS   \n",
       "\n",
       "                                                Text  \n",
       "0  DELICIOUS WAFERS. I FIND THAT EUROPEAN WAFERS ...  \n",
       "1  DELICIOUS WAFERS. I FIND THAT EUROPEAN WAFERS ...  \n",
       "2  DELICIOUS WAFERS. I FIND THAT EUROPEAN WAFERS ...  \n",
       "3  DELICIOUS WAFERS. I FIND THAT EUROPEAN WAFERS ...  \n",
       "4  DELICIOUS WAFERS. I FIND THAT EUROPEAN WAFERS ...  "
      ]
     },
     "execution_count": 7,
     "metadata": {},
     "output_type": "execute_result"
    }
   ],
   "source": [
    "display= pd.read_sql_query(\"\"\"\n",
    "SELECT *\n",
    "FROM Reviews\n",
    "WHERE Score != 3 AND UserId=\"AR5J8UI46CURR\"\n",
    "ORDER BY ProductID\n",
    "\"\"\", con)\n",
    "display.head()"
   ]
  },
  {
   "cell_type": "markdown",
   "metadata": {},
   "source": [
    "As it can be seen above that same user has multiple reviews with same values for HelpfulnessNumerator, HelpfulnessDenominator, Score, Time, Summary and Text and on doing analysis it was found that <br>\n",
    "<br> \n",
    "ProductId=B000HDOPZG was Loacker Quadratini Vanilla Wafer Cookies, 8.82-Ounce Packages (Pack of 8)<br>\n",
    "<br> \n",
    "ProductId=B000HDL1RQ was Loacker Quadratini Lemon Wafer Cookies, 8.82-Ounce Packages (Pack of 8) and so on<br>\n",
    "\n",
    "It was inferred after analysis that reviews with same parameters other than ProductId belonged to the same product just having different flavour or quantity. Hence in order to reduce redundancy it was decided to eliminate the rows having same parameters.<br>\n",
    "\n",
    "The method used for the same was that we first sort the data according to ProductId and then just keep the first similar product review and delelte the others. for eg. in the above just the review for ProductId=B000HDL1RQ remains. This method ensures that there is only one representative for each product and deduplication without sorting would lead to possibility of different representatives still existing for the same product."
   ]
  },
  {
   "cell_type": "code",
   "execution_count": 8,
   "metadata": {},
   "outputs": [],
   "source": [
    "#Sorting data according to ProductId in ascending order\n",
    "sorted_data=filtered_data.sort_values('ProductId', axis=0, ascending=True, inplace=False, kind='quicksort', na_position='last')"
   ]
  },
  {
   "cell_type": "code",
   "execution_count": 9,
   "metadata": {},
   "outputs": [
    {
     "data": {
      "text/plain": [
       "(46072, 10)"
      ]
     },
     "execution_count": 9,
     "metadata": {},
     "output_type": "execute_result"
    }
   ],
   "source": [
    "#Deduplication of entries\n",
    "final=sorted_data.drop_duplicates(subset={\"UserId\",\"ProfileName\",\"Time\",\"Text\"}, keep='first', inplace=False)\n",
    "final.shape"
   ]
  },
  {
   "cell_type": "code",
   "execution_count": 10,
   "metadata": {},
   "outputs": [
    {
     "data": {
      "text/plain": [
       "92.144"
      ]
     },
     "execution_count": 10,
     "metadata": {},
     "output_type": "execute_result"
    }
   ],
   "source": [
    "#Checking to see how much % of data still remains\n",
    "(final['Id'].size*1.0)/(filtered_data['Id'].size*1.0)*100"
   ]
  },
  {
   "cell_type": "markdown",
   "metadata": {},
   "source": [
    "<b>Observation:-</b> It was also seen that in two rows given below the value of HelpfulnessNumerator is greater than HelpfulnessDenominator which is not practically possible hence these two rows too are removed from calcualtions"
   ]
  },
  {
   "cell_type": "code",
   "execution_count": 11,
   "metadata": {},
   "outputs": [
    {
     "data": {
      "text/html": [
       "<div>\n",
       "<style scoped>\n",
       "    .dataframe tbody tr th:only-of-type {\n",
       "        vertical-align: middle;\n",
       "    }\n",
       "\n",
       "    .dataframe tbody tr th {\n",
       "        vertical-align: top;\n",
       "    }\n",
       "\n",
       "    .dataframe thead th {\n",
       "        text-align: right;\n",
       "    }\n",
       "</style>\n",
       "<table border=\"1\" class=\"dataframe\">\n",
       "  <thead>\n",
       "    <tr style=\"text-align: right;\">\n",
       "      <th></th>\n",
       "      <th>Id</th>\n",
       "      <th>ProductId</th>\n",
       "      <th>UserId</th>\n",
       "      <th>ProfileName</th>\n",
       "      <th>HelpfulnessNumerator</th>\n",
       "      <th>HelpfulnessDenominator</th>\n",
       "      <th>Score</th>\n",
       "      <th>Time</th>\n",
       "      <th>Summary</th>\n",
       "      <th>Text</th>\n",
       "    </tr>\n",
       "  </thead>\n",
       "  <tbody>\n",
       "    <tr>\n",
       "      <th>0</th>\n",
       "      <td>64422</td>\n",
       "      <td>B000MIDROQ</td>\n",
       "      <td>A161DK06JJMCYF</td>\n",
       "      <td>J. E. Stephens \"Jeanne\"</td>\n",
       "      <td>3</td>\n",
       "      <td>1</td>\n",
       "      <td>5</td>\n",
       "      <td>1224892800</td>\n",
       "      <td>Bought This for My Son at College</td>\n",
       "      <td>My son loves spaghetti so I didn't hesitate or...</td>\n",
       "    </tr>\n",
       "    <tr>\n",
       "      <th>1</th>\n",
       "      <td>44737</td>\n",
       "      <td>B001EQ55RW</td>\n",
       "      <td>A2V0I904FH7ABY</td>\n",
       "      <td>Ram</td>\n",
       "      <td>3</td>\n",
       "      <td>2</td>\n",
       "      <td>4</td>\n",
       "      <td>1212883200</td>\n",
       "      <td>Pure cocoa taste with crunchy almonds inside</td>\n",
       "      <td>It was almost a 'love at first bite' - the per...</td>\n",
       "    </tr>\n",
       "  </tbody>\n",
       "</table>\n",
       "</div>"
      ],
      "text/plain": [
       "      Id   ProductId          UserId              ProfileName  \\\n",
       "0  64422  B000MIDROQ  A161DK06JJMCYF  J. E. Stephens \"Jeanne\"   \n",
       "1  44737  B001EQ55RW  A2V0I904FH7ABY                      Ram   \n",
       "\n",
       "   HelpfulnessNumerator  HelpfulnessDenominator  Score        Time  \\\n",
       "0                     3                       1      5  1224892800   \n",
       "1                     3                       2      4  1212883200   \n",
       "\n",
       "                                        Summary  \\\n",
       "0             Bought This for My Son at College   \n",
       "1  Pure cocoa taste with crunchy almonds inside   \n",
       "\n",
       "                                                Text  \n",
       "0  My son loves spaghetti so I didn't hesitate or...  \n",
       "1  It was almost a 'love at first bite' - the per...  "
      ]
     },
     "execution_count": 11,
     "metadata": {},
     "output_type": "execute_result"
    }
   ],
   "source": [
    "display= pd.read_sql_query(\"\"\"\n",
    "SELECT *\n",
    "FROM Reviews\n",
    "WHERE Score != 3 AND Id=44737 OR Id=64422\n",
    "ORDER BY ProductID\n",
    "\"\"\", con)\n",
    "\n",
    "display.head()"
   ]
  },
  {
   "cell_type": "code",
   "execution_count": 12,
   "metadata": {},
   "outputs": [],
   "source": [
    "final=final[final.HelpfulnessNumerator<=final.HelpfulnessDenominator]"
   ]
  },
  {
   "cell_type": "code",
   "execution_count": 13,
   "metadata": {},
   "outputs": [
    {
     "name": "stdout",
     "output_type": "stream",
     "text": [
      "(46071, 10)\n"
     ]
    },
    {
     "data": {
      "text/plain": [
       "1    38479\n",
       "0     7592\n",
       "Name: Score, dtype: int64"
      ]
     },
     "execution_count": 13,
     "metadata": {},
     "output_type": "execute_result"
    }
   ],
   "source": [
    "#Before starting the next phase of preprocessing lets see the number of entries left\n",
    "print(final.shape)\n",
    "\n",
    "#How many positive and negative reviews are present in our dataset?\n",
    "final['Score'].value_counts()"
   ]
  },
  {
   "cell_type": "markdown",
   "metadata": {},
   "source": [
    "#  [3] Preprocessing"
   ]
  },
  {
   "cell_type": "markdown",
   "metadata": {},
   "source": [
    "## [3.1].  Preprocessing Review Text\n",
    "\n",
    "Now that we have finished deduplication our data requires some preprocessing before we go on further with analysis and making the prediction model.\n",
    "\n",
    "Hence in the Preprocessing phase we do the following in the order below:-\n",
    "\n",
    "1. Begin by removing the html tags\n",
    "2. Remove any punctuations or limited set of special characters like , or . or # etc.\n",
    "3. Check if the word is made up of english letters and is not alpha-numeric\n",
    "4. Check to see if the length of the word is greater than 2 (as it was researched that there is no adjective in 2-letters)\n",
    "5. Convert the word to lowercase\n",
    "6. Remove Stopwords\n",
    "7. Finally Snowball Stemming the word (it was obsereved to be better than Porter Stemming)<br>\n",
    "\n",
    "After which we collect the words used to describe positive and negative reviews"
   ]
  },
  {
   "cell_type": "code",
   "execution_count": 14,
   "metadata": {},
   "outputs": [
    {
     "name": "stdout",
     "output_type": "stream",
     "text": [
      "My dogs loves this chicken but its a product from China, so we wont be buying it anymore.  Its very hard to find any chicken products made in the USA but they are out there, but this one isnt.  Its too bad too because its a good product but I wont take any chances till they know what is going on with the china imports.\n",
      "==================================================\n",
      "this is yummy, easy and unusual. it makes a quick, delicous pie, crisp or cobbler. home made is better, but a heck of a lot more work. this is great to have on hand for last minute dessert needs where you really want to impress wih your creativity in cooking! recommended.\n",
      "==================================================\n",
      "Great flavor, low in calories, high in nutrients, high in protein! Usually protein powders are high priced and high in calories, this one is a great bargain and tastes great, I highly recommend for the lady gym rats, probably not \"macho\" enough for guys since it is soy based...\n",
      "==================================================\n",
      "For those of you wanting a high-quality, yet affordable green tea, you should definitely give this one a try. Let me first start by saying that everyone is looking for something different for their ideal tea, and I will attempt to briefly highlight what makes this tea attractive to a wide range of tea drinkers (whether you are a beginner or long-time tea enthusiast).  I have gone through over 12 boxes of this tea myself, and highly recommend it for the following reasons:<br /><br />-Quality:  First, this tea offers a smooth quality without any harsh or bitter after tones, which often turns people off from many green teas.  I've found my ideal brewing time to be between 3-5 minutes, giving you a light but flavorful cup of tea.  However, if you get distracted or forget about your tea and leave it brewing for 20+ minutes like I sometimes do, the quality of this tea is such that you still get a smooth but deeper flavor without the bad after taste.  The leaves themselves are whole leaves (not powdered stems, branches, etc commonly found in other brands), and the high-quality nylon bags also include chunks of tropical fruit and other discernible ingredients.  This isn't your standard cheap paper bag with a mix of unknown ingredients that have been ground down to a fine powder, leaving you to wonder what it is you are actually drinking.<br /><br />-Taste:  This tea offers notes of real pineapple and other hints of tropical fruits, yet isn't sweet or artificially flavored.  You have the foundation of a high-quality young hyson green tea for those true \"tea flavor\" lovers, yet the subtle hints of fruit make this a truly unique tea that I believe most will enjoy.  If you want it sweet, you can add sugar, splenda, etc but this really is not necessary as this tea offers an inherent warmth of flavor through it's ingredients.<br /><br />-Price:  This tea offers an excellent product at an exceptional price (especially when purchased at the prices Amazon offers).  Compared to other brands which I believe to be of similar quality (Mighty Leaf, Rishi, Two Leaves, etc.), Revolution offers a superior product at an outstanding price.  I have been purchasing this through Amazon for less per box than I would be paying at my local grocery store for Lipton, etc.<br /><br />Overall, this is a wonderful tea that is comparable, and even better than, other teas that are priced much higher.  It offers a well-balanced cup of green tea that I believe many will enjoy.  In terms of taste, quality, and price, I would argue you won't find a better combination that that offered by Revolution's Tropical Green Tea.\n",
      "==================================================\n"
     ]
    }
   ],
   "source": [
    "# printing some random reviews\n",
    "sent_0 = final['Text'].values[0]\n",
    "print(sent_0)\n",
    "print(\"=\"*50)\n",
    "\n",
    "sent_1000 = final['Text'].values[1000]\n",
    "print(sent_1000)\n",
    "print(\"=\"*50)\n",
    "\n",
    "sent_1500 = final['Text'].values[1500]\n",
    "print(sent_1500)\n",
    "print(\"=\"*50)\n",
    "\n",
    "sent_4900 = final['Text'].values[4900]\n",
    "print(sent_4900)\n",
    "print(\"=\"*50)"
   ]
  },
  {
   "cell_type": "code",
   "execution_count": 15,
   "metadata": {},
   "outputs": [
    {
     "name": "stdout",
     "output_type": "stream",
     "text": [
      "My dogs loves this chicken but its a product from China, so we wont be buying it anymore.  Its very hard to find any chicken products made in the USA but they are out there, but this one isnt.  Its too bad too because its a good product but I wont take any chances till they know what is going on with the china imports.\n"
     ]
    }
   ],
   "source": [
    "# remove urls from text python: https://stackoverflow.com/a/40823105/4084039\n",
    "sent_0 = re.sub(r\"http\\S+\", \"\", sent_0)\n",
    "sent_1000 = re.sub(r\"http\\S+\", \"\", sent_1000)\n",
    "sent_150 = re.sub(r\"http\\S+\", \"\", sent_1500)\n",
    "sent_4900 = re.sub(r\"http\\S+\", \"\", sent_4900)\n",
    "\n",
    "print(sent_0)"
   ]
  },
  {
   "cell_type": "code",
   "execution_count": 16,
   "metadata": {},
   "outputs": [
    {
     "name": "stdout",
     "output_type": "stream",
     "text": [
      "My dogs loves this chicken but its a product from China, so we wont be buying it anymore.  Its very hard to find any chicken products made in the USA but they are out there, but this one isnt.  Its too bad too because its a good product but I wont take any chances till they know what is going on with the china imports.\n",
      "==================================================\n",
      "this is yummy, easy and unusual. it makes a quick, delicous pie, crisp or cobbler. home made is better, but a heck of a lot more work. this is great to have on hand for last minute dessert needs where you really want to impress wih your creativity in cooking! recommended.\n",
      "==================================================\n",
      "Great flavor, low in calories, high in nutrients, high in protein! Usually protein powders are high priced and high in calories, this one is a great bargain and tastes great, I highly recommend for the lady gym rats, probably not \"macho\" enough for guys since it is soy based...\n",
      "==================================================\n",
      "For those of you wanting a high-quality, yet affordable green tea, you should definitely give this one a try. Let me first start by saying that everyone is looking for something different for their ideal tea, and I will attempt to briefly highlight what makes this tea attractive to a wide range of tea drinkers (whether you are a beginner or long-time tea enthusiast).  I have gone through over 12 boxes of this tea myself, and highly recommend it for the following reasons:-Quality:  First, this tea offers a smooth quality without any harsh or bitter after tones, which often turns people off from many green teas.  I've found my ideal brewing time to be between 3-5 minutes, giving you a light but flavorful cup of tea.  However, if you get distracted or forget about your tea and leave it brewing for 20+ minutes like I sometimes do, the quality of this tea is such that you still get a smooth but deeper flavor without the bad after taste.  The leaves themselves are whole leaves (not powdered stems, branches, etc commonly found in other brands), and the high-quality nylon bags also include chunks of tropical fruit and other discernible ingredients.  This isn't your standard cheap paper bag with a mix of unknown ingredients that have been ground down to a fine powder, leaving you to wonder what it is you are actually drinking.-Taste:  This tea offers notes of real pineapple and other hints of tropical fruits, yet isn't sweet or artificially flavored.  You have the foundation of a high-quality young hyson green tea for those true \"tea flavor\" lovers, yet the subtle hints of fruit make this a truly unique tea that I believe most will enjoy.  If you want it sweet, you can add sugar, splenda, etc but this really is not necessary as this tea offers an inherent warmth of flavor through it's ingredients.-Price:  This tea offers an excellent product at an exceptional price (especially when purchased at the prices Amazon offers).  Compared to other brands which I believe to be of similar quality (Mighty Leaf, Rishi, Two Leaves, etc.), Revolution offers a superior product at an outstanding price.  I have been purchasing this through Amazon for less per box than I would be paying at my local grocery store for Lipton, etc.Overall, this is a wonderful tea that is comparable, and even better than, other teas that are priced much higher.  It offers a well-balanced cup of green tea that I believe many will enjoy.  In terms of taste, quality, and price, I would argue you won't find a better combination that that offered by Revolution's Tropical Green Tea.\n"
     ]
    }
   ],
   "source": [
    "# https://stackoverflow.com/questions/16206380/python-beautifulsoup-how-to-remove-all-tags-from-an-element\n",
    "from bs4 import BeautifulSoup\n",
    "\n",
    "soup = BeautifulSoup(sent_0, 'lxml')\n",
    "sent_0 = soup.get_text()\n",
    "print(sent_0)\n",
    "print(\"=\"*50)\n",
    "\n",
    "soup = BeautifulSoup(sent_1000, 'lxml')\n",
    "sent_1000 = soup.get_text()\n",
    "print(sent_1000)\n",
    "print(\"=\"*50)\n",
    "\n",
    "soup = BeautifulSoup(sent_1500, 'lxml')\n",
    "sent_1500 = soup.get_text()\n",
    "print(sent_1500)\n",
    "print(\"=\"*50)\n",
    "\n",
    "soup = BeautifulSoup(sent_4900, 'lxml')\n",
    "sent_4900 = soup.get_text()\n",
    "print(sent_4900)"
   ]
  },
  {
   "cell_type": "code",
   "execution_count": 17,
   "metadata": {},
   "outputs": [],
   "source": [
    "# https://stackoverflow.com/a/47091490/4084039\n",
    "import re\n",
    "\n",
    "def decontracted(phrase):\n",
    "    # specific\n",
    "    phrase = re.sub(r\"won't\", \"will not\", phrase)\n",
    "    phrase = re.sub(r\"can\\'t\", \"can not\", phrase)\n",
    "    phrase = re.sub(r\"wont\",\"will not\",phrase) # in some words aposthepe is missing\n",
    "    phrase = re.sub(r\"its\",\"it is\",phrase)\n",
    "    phrase = re.sub(r\"Its\",\"It is\",phrase)\n",
    "    phrase = re.sub(r\"isnt\",\"is not\",phrase)\n",
    "\n",
    "    # general\n",
    "    phrase = re.sub(r\"n\\'t\", \" not\", phrase)\n",
    "    phrase = re.sub(r\"\\'re\", \" are\", phrase)\n",
    "    phrase = re.sub(r\"\\'s\", \" is\", phrase)\n",
    "    phrase = re.sub(r\"\\'d\", \" would\", phrase)\n",
    "    phrase = re.sub(r\"\\'ll\", \" will\", phrase)\n",
    "    phrase = re.sub(r\"\\'t\", \" not\", phrase)\n",
    "    phrase = re.sub(r\"\\'ve\", \" have\", phrase)\n",
    "    phrase = re.sub(r\"\\'m\", \" am\", phrase)\n",
    "    return phrase"
   ]
  },
  {
   "cell_type": "code",
   "execution_count": 18,
   "metadata": {},
   "outputs": [
    {
     "name": "stdout",
     "output_type": "stream",
     "text": [
      "My dogs loves this chicken but it is a product from China, so we will not be buying it anymore.  It is very hard to find any chicken products made in the USA but they are out there, but this one is not.  It is too bad too because it is a good product but I will not take any chances till they know what is going on with the china imports.\n",
      "==================================================\n"
     ]
    }
   ],
   "source": [
    "sent_0 = decontracted(sent_0)\n",
    "print(sent_0)\n",
    "print(\"=\"*50)"
   ]
  },
  {
   "cell_type": "code",
   "execution_count": 19,
   "metadata": {},
   "outputs": [
    {
     "name": "stdout",
     "output_type": "stream",
     "text": [
      "For those of you wanting a high-quality, yet affordable green tea, you should definitely give this one a try. Let me first start by saying that everyone is looking for something different for their ideal tea, and I will attempt to briefly highlight what makes this tea attractive to a wide range of tea drinkers (whether you are a beginner or long-time tea enthusiast).  I have gone through over  boxes of this tea myself, and highly recommend it for the following reasons:-Quality:  First, this tea offers a smooth quality without any harsh or bitter after tones, which often turns people off from many green teas.  I've found my ideal brewing time to be between  minutes, giving you a light but flavorful cup of tea.  However, if you get distracted or forget about your tea and leave it brewing for  minutes like I sometimes do, the quality of this tea is such that you still get a smooth but deeper flavor without the bad after taste.  The leaves themselves are whole leaves (not powdered stems, branches, etc commonly found in other brands), and the high-quality nylon bags also include chunks of tropical fruit and other discernible ingredients.  This isn't your standard cheap paper bag with a mix of unknown ingredients that have been ground down to a fine powder, leaving you to wonder what it is you are actually drinking.-Taste:  This tea offers notes of real pineapple and other hints of tropical fruits, yet isn't sweet or artificially flavored.  You have the foundation of a high-quality young hyson green tea for those true \"tea flavor\" lovers, yet the subtle hints of fruit make this a truly unique tea that I believe most will enjoy.  If you want it sweet, you can add sugar, splenda, etc but this really is not necessary as this tea offers an inherent warmth of flavor through it's ingredients.-Price:  This tea offers an excellent product at an exceptional price (especially when purchased at the prices Amazon offers).  Compared to other brands which I believe to be of similar quality (Mighty Leaf, Rishi, Two Leaves, etc.), Revolution offers a superior product at an outstanding price.  I have been purchasing this through Amazon for less per box than I would be paying at my local grocery store for Lipton, etc.Overall, this is a wonderful tea that is comparable, and even better than, other teas that are priced much higher.  It offers a well-balanced cup of green tea that I believe many will enjoy.  In terms of taste, quality, and price, I would argue you won't find a better combination that that offered by Revolution's Tropical Green Tea.\n"
     ]
    }
   ],
   "source": [
    "#remove words with numbers python: https://stackoverflow.com/a/18082370/4084039\n",
    "sent_4900 = re.sub(\"\\S*\\d\\S*\", \"\", sent_4900).strip()\n",
    "print(sent_4900)"
   ]
  },
  {
   "cell_type": "code",
   "execution_count": 20,
   "metadata": {},
   "outputs": [
    {
     "name": "stdout",
     "output_type": "stream",
     "text": [
      "For those of you wanting a high quality yet affordable green tea you should definitely give this one a try Let me first start by saying that everyone is looking for something different for their ideal tea and I will attempt to briefly highlight what makes this tea attractive to a wide range of tea drinkers whether you are a beginner or long time tea enthusiast I have gone through over boxes of this tea myself and highly recommend it for the following reasons Quality First this tea offers a smooth quality without any harsh or bitter after tones which often turns people off from many green teas I ve found my ideal brewing time to be between minutes giving you a light but flavorful cup of tea However if you get distracted or forget about your tea and leave it brewing for minutes like I sometimes do the quality of this tea is such that you still get a smooth but deeper flavor without the bad after taste The leaves themselves are whole leaves not powdered stems branches etc commonly found in other brands and the high quality nylon bags also include chunks of tropical fruit and other discernible ingredients This isn t your standard cheap paper bag with a mix of unknown ingredients that have been ground down to a fine powder leaving you to wonder what it is you are actually drinking Taste This tea offers notes of real pineapple and other hints of tropical fruits yet isn t sweet or artificially flavored You have the foundation of a high quality young hyson green tea for those true tea flavor lovers yet the subtle hints of fruit make this a truly unique tea that I believe most will enjoy If you want it sweet you can add sugar splenda etc but this really is not necessary as this tea offers an inherent warmth of flavor through it s ingredients Price This tea offers an excellent product at an exceptional price especially when purchased at the prices Amazon offers Compared to other brands which I believe to be of similar quality Mighty Leaf Rishi Two Leaves etc Revolution offers a superior product at an outstanding price I have been purchasing this through Amazon for less per box than I would be paying at my local grocery store for Lipton etc Overall this is a wonderful tea that is comparable and even better than other teas that are priced much higher It offers a well balanced cup of green tea that I believe many will enjoy In terms of taste quality and price I would argue you won t find a better combination that that offered by Revolution s Tropical Green Tea \n"
     ]
    }
   ],
   "source": [
    "#remove special character: https://stackoverflow.com/a/5843547/4084039\n",
    "sent_4900 = re.sub('[^A-Za-z0-9]+', ' ', sent_4900)\n",
    "print(sent_4900)"
   ]
  },
  {
   "cell_type": "code",
   "execution_count": 21,
   "metadata": {},
   "outputs": [],
   "source": [
    "# https://gist.github.com/sebleier/554280\n",
    "# we are removing the words from the stop words list: 'no', 'nor', 'not'\n",
    "# <br /><br /> ==> after the above steps, we are getting \"br br\"\n",
    "# we are including them into stop words list\n",
    "# instead of <br /> if we have <br/> these tags would have revmoved in the 1st step\n",
    "\n",
    "stopwords= set(['br', 'the', 'i', 'me', 'my', 'myself', 'we', 'our', 'ours', 'ourselves', 'you', \"you're\", \"you've\",\\\n",
    "            \"you'll\", \"you'd\", 'your', 'yours', 'yourself', 'yourselves', 'he', 'him', 'his', 'himself', \\\n",
    "            'she', \"she's\", 'her', 'hers', 'herself', 'it', \"it's\", 'its', 'itself', 'they', 'them', 'their',\\\n",
    "            'theirs', 'themselves', 'what', 'which', 'who', 'whom', 'this', 'that', \"that'll\", 'these', 'those', \\\n",
    "            'am', 'is', 'are', 'was', 'were', 'be', 'been', 'being', 'have', 'has', 'had', 'having', 'do', 'does', \\\n",
    "            'did', 'doing', 'a', 'an', 'the', 'and', 'but', 'if', 'or', 'because', 'as', 'until', 'while', 'of', \\\n",
    "            'at', 'by', 'for', 'with', 'about', 'against', 'between', 'into', 'through', 'during', 'before', 'after',\\\n",
    "            'above', 'below', 'to', 'from', 'up', 'down', 'in', 'out', 'on', 'off', 'over', 'under', 'again', 'further',\\\n",
    "            'then', 'once', 'here', 'there', 'when', 'where', 'why', 'how', 'all', 'any', 'both', 'each', 'few', 'more',\\\n",
    "            'most', 'other', 'some', 'such', 'only', 'own', 'same', 'so', 'than', 'too', 'very', \\\n",
    "            's', 't', 'can', 'will', 'just', 'don', \"don't\", 'should', \"should've\", 'now', 'd', 'll', 'm', 'o', 're', \\\n",
    "            've', 'y', 'ain', 'aren', \"aren't\", 'couldn', \"couldn't\", 'didn', \"didn't\", 'doesn', \"doesn't\", 'hadn',\\\n",
    "            \"hadn't\", 'hasn', \"hasn't\", 'haven', \"haven't\", 'isn', \"isn't\", 'ma', 'mightn', \"mightn't\", 'mustn',\\\n",
    "            \"mustn't\", 'needn', \"needn't\", 'shan', \"shan't\", 'shouldn', \"shouldn't\", 'wasn', \"wasn't\", 'weren', \"weren't\", \\\n",
    "            'won', \"won't\", 'wouldn', \"wouldn't\"])"
   ]
  },
  {
   "cell_type": "code",
   "execution_count": 22,
   "metadata": {},
   "outputs": [
    {
     "name": "stderr",
     "output_type": "stream",
     "text": [
      "100%|██████████████████████████████████████████████████████████████████████████| 46071/46071 [00:36<00:00, 1271.93it/s]\n"
     ]
    }
   ],
   "source": [
    "# Combining all the above stundents \n",
    "import itertools\n",
    "from tqdm import tqdm\n",
    "preprocessed_reviews = []\n",
    "# tqdm is for printing the status bar\n",
    "for sentence in tqdm(final['Text'].values):\n",
    "    sentence = re.sub(r\"http\\S+\", \"\", sentence)\n",
    "    sentence = BeautifulSoup(sentence, 'lxml').get_text()\n",
    "    sentence = decontracted(sentence)\n",
    "    sentence = re.sub(\"\\S*\\d\\S*\", \"\", sentence).strip()\n",
    "    sentence = re.sub('[^A-Za-z]+', ' ', sentence)\n",
    "    \n",
    "    #https://www.analyticsvidhya.com/blog/2014/11/text-data-cleaning-steps-python/\n",
    "    # This removes words such as aawwww or happpyyy or awsooommmee etc\n",
    "    sentence = ''.join(''.join(s)[:2] for _, s in itertools.groupby(sentence))\n",
    "    \n",
    "    # https://gist.github.com/sebleier/554280\n",
    "    sentence = ' '.join(e.lower() for e in sentence.split() if e.lower() not in stopwords)\n",
    "    preprocessed_reviews.append(sentence.strip())"
   ]
  },
  {
   "cell_type": "code",
   "execution_count": 23,
   "metadata": {},
   "outputs": [
    {
     "name": "stdout",
     "output_type": "stream",
     "text": [
      " aaww aaww aa aaww\n"
     ]
    }
   ],
   "source": [
    "smpl = \" aaaaww aaaww aaa aawwww\"\n",
    "sent = ''.join(''.join(s)[:2] for _, s in itertools.groupby(smpl))\n",
    "print(sent)"
   ]
  },
  {
   "cell_type": "code",
   "execution_count": 24,
   "metadata": {},
   "outputs": [
    {
     "data": {
      "text/plain": [
       "'wanting high quality yet affordable green tea definitely give one try let first start saying everyone looking something different ideal tea attempt briefly highlight makes tea attractive wide range tea drinkers whether beginner long time tea enthusiast gone boxes tea highly recommend following reasons quality first tea offers smooth quality without harsh bitter tones often turns people many green teas found ideal brewing time minutes giving light flavorful cup tea however get distracted forget tea leave brewing minutes like sometimes quality tea still get smooth deeper flavor without bad taste leaves whole leaves not powdered stems branches etc commonly found brands high quality nylon bags also include chunks tropical fruit discernible ingredients not standard cheap paper bag mix unknown ingredients ground fine powder leaving wonder actually drinking taste tea offers notes real pineapple hints tropical fruit yet not sweet artificially flavored foundation high quality young hyson green tea true tea flavor lovers yet subtle hints fruit make truly unique tea believe enjoy want sweet add sugar splenda etc really not necessary tea offers inherent warmth flavor ingredients price tea offers excellent product exceptional price especially purchased prices amazon offers compared brands believe similar quality mighty leaf rishi two leaves etc revolution offers superior product outstanding price purchasing amazon less per box would paying local grocery store lipton etc overall wonderful tea comparable even better teas priced much higher offers well balanced cup green tea believe many enjoy terms taste quality price would argue not find better combination offered revolution tropical green tea'"
      ]
     },
     "execution_count": 24,
     "metadata": {},
     "output_type": "execute_result"
    }
   ],
   "source": [
    "preprocessed_reviews[4900]"
   ]
  },
  {
   "cell_type": "markdown",
   "metadata": {},
   "source": [
    "<h2><font color='red'>[3.2] Preprocessing Review Summary</font></h2>"
   ]
  },
  {
   "cell_type": "code",
   "execution_count": 25,
   "metadata": {},
   "outputs": [
    {
     "name": "stderr",
     "output_type": "stream",
     "text": [
      "100%|██████████████████████████████████████████████████████████████████████████| 46071/46071 [00:17<00:00, 2563.52it/s]\n"
     ]
    }
   ],
   "source": [
    "## Similartly performing preprocessing for review summary also.\n",
    "\n",
    "preprocessed_summary=[]\n",
    "\n",
    "for sent in tqdm(final['Summary'].values):\n",
    "    sent = re.sub(r\"http\\S+\",\"\",sent)\n",
    "    sent = BeautifulSoup(sent,'lxml').get_text()\n",
    "    sent = decontracted(sent)\n",
    "    sent = re.sub(r\"\\S+\\d\\S+\",\"\",sent).strip()\n",
    "    sent = re.sub(r\"[^A-Za-z0]+\",\" \",sent)\n",
    "    \n",
    "    #https://www.analyticsvidhya.com/blog/2014/11/text-data-cleaning-steps-python/\n",
    "    # This removes words such as aawwww or happpyyy or awsooommmee etc\n",
    "    sent = ''.join(''.join(s)[:2] for _, s in itertools.groupby(sent))\n",
    "    \n",
    "    # https://gist.github.com/sebleier/554280\n",
    "    sent = ' '.join(w.lower() for w in sent.split() if w.lower() not in stopwords)\n",
    "    preprocessed_summary.append(sent.strip())"
   ]
  },
  {
   "cell_type": "code",
   "execution_count": 26,
   "metadata": {},
   "outputs": [
    {
     "data": {
      "text/plain": [
       "'truly well balanced green tea'"
      ]
     },
     "execution_count": 26,
     "metadata": {},
     "output_type": "execute_result"
    }
   ],
   "source": [
    "preprocessed_summary[4900]"
   ]
  },
  {
   "cell_type": "code",
   "execution_count": 27,
   "metadata": {},
   "outputs": [
    {
     "data": {
      "text/plain": [
       "'A Truly Well-Balanced Green Tea'"
      ]
     },
     "execution_count": 27,
     "metadata": {},
     "output_type": "execute_result"
    }
   ],
   "source": [
    "final['Summary'].values[4900]"
   ]
  },
  {
   "cell_type": "code",
   "execution_count": 28,
   "metadata": {},
   "outputs": [
    {
     "name": "stderr",
     "output_type": "stream",
     "text": [
      "100%|█████████████████████████████████████████████████████████████████████████| 46071/46071 [00:00<00:00, 69422.22it/s]\n"
     ]
    }
   ],
   "source": [
    "# Removing those words which are of lenght 2\n",
    "# This will remove non relevant words then we will perform featurization\n",
    "cleaned_reviews = []\n",
    "for sent in tqdm(preprocessed_reviews):\n",
    "    sentence = ' '.join(w for w in sent.split() if len(w)>2)\n",
    "    cleaned_reviews.append(sentence.strip())"
   ]
  },
  {
   "cell_type": "code",
   "execution_count": 29,
   "metadata": {},
   "outputs": [
    {
     "name": "stdout",
     "output_type": "stream",
     "text": [
      "dogs loves chicken product china not buying anymore hard find chicken products made usa one not bad good product not take chances till know going china imports\n"
     ]
    }
   ],
   "source": [
    "print(cleaned_reviews[0])"
   ]
  },
  {
   "cell_type": "code",
   "execution_count": 30,
   "metadata": {},
   "outputs": [
    {
     "data": {
      "text/html": [
       "<div>\n",
       "<style scoped>\n",
       "    .dataframe tbody tr th:only-of-type {\n",
       "        vertical-align: middle;\n",
       "    }\n",
       "\n",
       "    .dataframe tbody tr th {\n",
       "        vertical-align: top;\n",
       "    }\n",
       "\n",
       "    .dataframe thead th {\n",
       "        text-align: right;\n",
       "    }\n",
       "</style>\n",
       "<table border=\"1\" class=\"dataframe\">\n",
       "  <thead>\n",
       "    <tr style=\"text-align: right;\">\n",
       "      <th></th>\n",
       "      <th>Id</th>\n",
       "      <th>ProductId</th>\n",
       "      <th>UserId</th>\n",
       "      <th>ProfileName</th>\n",
       "      <th>HelpfulnessNumerator</th>\n",
       "      <th>HelpfulnessDenominator</th>\n",
       "      <th>Score</th>\n",
       "      <th>Time</th>\n",
       "      <th>Summary</th>\n",
       "      <th>Text</th>\n",
       "      <th>Cleaned_review</th>\n",
       "    </tr>\n",
       "  </thead>\n",
       "  <tbody>\n",
       "    <tr>\n",
       "      <th>22620</th>\n",
       "      <td>24750</td>\n",
       "      <td>2734888454</td>\n",
       "      <td>A13ISQV0U9GZIC</td>\n",
       "      <td>Sandikaye</td>\n",
       "      <td>1</td>\n",
       "      <td>1</td>\n",
       "      <td>0</td>\n",
       "      <td>1192060800</td>\n",
       "      <td>made in china</td>\n",
       "      <td>My dogs loves this chicken but its a product f...</td>\n",
       "      <td>dogs loves chicken product china not buying an...</td>\n",
       "    </tr>\n",
       "    <tr>\n",
       "      <th>22621</th>\n",
       "      <td>24751</td>\n",
       "      <td>2734888454</td>\n",
       "      <td>A1C298ITT645B6</td>\n",
       "      <td>Hugh G. Pritchard</td>\n",
       "      <td>0</td>\n",
       "      <td>0</td>\n",
       "      <td>1</td>\n",
       "      <td>1195948800</td>\n",
       "      <td>Dog Lover Delites</td>\n",
       "      <td>Our dogs just love them.  I saw them in a pet ...</td>\n",
       "      <td>dogs love saw pet store tag attached regarding...</td>\n",
       "    </tr>\n",
       "    <tr>\n",
       "      <th>2546</th>\n",
       "      <td>2774</td>\n",
       "      <td>B00002NCJC</td>\n",
       "      <td>A196AJHU9EASJN</td>\n",
       "      <td>Alex Chaffee</td>\n",
       "      <td>0</td>\n",
       "      <td>0</td>\n",
       "      <td>1</td>\n",
       "      <td>1282953600</td>\n",
       "      <td>thirty bucks?</td>\n",
       "      <td>Why is this $[...] when the same product is av...</td>\n",
       "      <td>product available victor traps unreal course t...</td>\n",
       "    </tr>\n",
       "    <tr>\n",
       "      <th>2547</th>\n",
       "      <td>2775</td>\n",
       "      <td>B00002NCJC</td>\n",
       "      <td>A13RRPGE79XFFH</td>\n",
       "      <td>reader48</td>\n",
       "      <td>0</td>\n",
       "      <td>0</td>\n",
       "      <td>1</td>\n",
       "      <td>1281052800</td>\n",
       "      <td>Flies Begone</td>\n",
       "      <td>We have used the Victor fly bait for 3 seasons...</td>\n",
       "      <td>used victor fly bait seasons not beat great pr...</td>\n",
       "    </tr>\n",
       "    <tr>\n",
       "      <th>1145</th>\n",
       "      <td>1244</td>\n",
       "      <td>B00002Z754</td>\n",
       "      <td>A3B8RCEI0FXFI6</td>\n",
       "      <td>B G Chase</td>\n",
       "      <td>10</td>\n",
       "      <td>10</td>\n",
       "      <td>1</td>\n",
       "      <td>962236800</td>\n",
       "      <td>WOW Make your own 'slickers' !</td>\n",
       "      <td>I just received my shipment and could hardly w...</td>\n",
       "      <td>received shipment could hardly wait try produc...</td>\n",
       "    </tr>\n",
       "  </tbody>\n",
       "</table>\n",
       "</div>"
      ],
      "text/plain": [
       "          Id   ProductId          UserId        ProfileName  \\\n",
       "22620  24750  2734888454  A13ISQV0U9GZIC          Sandikaye   \n",
       "22621  24751  2734888454  A1C298ITT645B6  Hugh G. Pritchard   \n",
       "2546    2774  B00002NCJC  A196AJHU9EASJN       Alex Chaffee   \n",
       "2547    2775  B00002NCJC  A13RRPGE79XFFH           reader48   \n",
       "1145    1244  B00002Z754  A3B8RCEI0FXFI6          B G Chase   \n",
       "\n",
       "       HelpfulnessNumerator  HelpfulnessDenominator  Score        Time  \\\n",
       "22620                     1                       1      0  1192060800   \n",
       "22621                     0                       0      1  1195948800   \n",
       "2546                      0                       0      1  1282953600   \n",
       "2547                      0                       0      1  1281052800   \n",
       "1145                     10                      10      1   962236800   \n",
       "\n",
       "                              Summary  \\\n",
       "22620                   made in china   \n",
       "22621               Dog Lover Delites   \n",
       "2546                    thirty bucks?   \n",
       "2547                     Flies Begone   \n",
       "1145   WOW Make your own 'slickers' !   \n",
       "\n",
       "                                                    Text  \\\n",
       "22620  My dogs loves this chicken but its a product f...   \n",
       "22621  Our dogs just love them.  I saw them in a pet ...   \n",
       "2546   Why is this $[...] when the same product is av...   \n",
       "2547   We have used the Victor fly bait for 3 seasons...   \n",
       "1145   I just received my shipment and could hardly w...   \n",
       "\n",
       "                                          Cleaned_review  \n",
       "22620  dogs loves chicken product china not buying an...  \n",
       "22621  dogs love saw pet store tag attached regarding...  \n",
       "2546   product available victor traps unreal course t...  \n",
       "2547   used victor fly bait seasons not beat great pr...  \n",
       "1145   received shipment could hardly wait try produc...  "
      ]
     },
     "execution_count": 30,
     "metadata": {},
     "output_type": "execute_result"
    }
   ],
   "source": [
    "final[\"Cleaned_review\"] = cleaned_reviews\n",
    "final.head(5)"
   ]
  },
  {
   "cell_type": "markdown",
   "metadata": {},
   "source": [
    "# [4] Featurization"
   ]
  },
  {
   "cell_type": "markdown",
   "metadata": {},
   "source": [
    "## [4.1] BAG OF WORDS"
   ]
  },
  {
   "cell_type": "code",
   "execution_count": 31,
   "metadata": {},
   "outputs": [
    {
     "name": "stdout",
     "output_type": "stream",
     "text": [
      "some feature names  ['aaa', 'aaah', 'aaahh', 'aaaww', 'aachen', 'aadp', 'aaf', 'aafco', 'aah', 'aahhs']\n",
      "==================================================\n",
      "the type of count vectorizer  <class 'scipy.sparse.csr.csr_matrix'>\n",
      "the shape of out text BOW vectorizer  (46071, 38772)\n",
      "the number of unique words  38772\n"
     ]
    }
   ],
   "source": [
    "#BoW\n",
    "count_vect1 = CountVectorizer() #in scikit-learn\n",
    "count_vect1.fit(cleaned_reviews)\n",
    "print(\"some feature names \", count_vect1.get_feature_names()[:10])\n",
    "print('='*50)\n",
    "\n",
    "final_counts = count_vect1.transform(cleaned_reviews)\n",
    "print(\"the type of count vectorizer \",type(final_counts))\n",
    "print(\"the shape of out text BOW vectorizer \",final_counts.get_shape())\n",
    "print(\"the number of unique words \", final_counts.get_shape()[1])"
   ]
  },
  {
   "cell_type": "markdown",
   "metadata": {},
   "source": [
    "## [4.2] Bi-Grams and n-Grams."
   ]
  },
  {
   "cell_type": "code",
   "execution_count": 33,
   "metadata": {},
   "outputs": [
    {
     "name": "stdout",
     "output_type": "stream",
     "text": [
      "the type of count vectorizer  <class 'scipy.sparse.csr.csr_matrix'>\n",
      "the shape of out text BOW vectorizer  (46071, 59655)\n",
      "the number of unique words including both unigrams and bigrams  59655\n",
      "['aafco', 'aback', 'abandon', 'abandoned', 'abdominal', 'ability', 'ability buy', 'able', 'able add', 'able afford']\n"
     ]
    }
   ],
   "source": [
    "#bi-gram, tri-gram and n-gram\n",
    "\n",
    "#removing stop words like \"not\" should be avoided before building n-grams\n",
    "# count_vect = CountVectorizer(ngram_range=(1,2))\n",
    "# please do read the CountVectorizer documentation http://scikit-learn.org/stable/modules/generated/sklearn.feature_extraction.text.CountVectorizer.html\n",
    "\n",
    "# you can choose these numebrs min_df=10, max_features=5000, of your choice\n",
    "count_vect2 = CountVectorizer(ngram_range=(1,2), min_df=5)\n",
    "final_bigram_counts = count_vect2.fit_transform(cleaned_reviews)\n",
    "print(\"the type of count vectorizer \",type(final_bigram_counts))\n",
    "print(\"the shape of out text BOW vectorizer \",final_bigram_counts.get_shape())\n",
    "print(\"the number of unique words including both unigrams and bigrams \", final_bigram_counts.get_shape()[1])\n",
    "bigram_features = count_vect2.get_feature_names()\n",
    "print(bigram_features[:10])"
   ]
  },
  {
   "cell_type": "markdown",
   "metadata": {},
   "source": [
    "## [4.3] TF-IDF"
   ]
  },
  {
   "cell_type": "code",
   "execution_count": 34,
   "metadata": {},
   "outputs": [
    {
     "name": "stdout",
     "output_type": "stream",
     "text": [
      "some sample features(unique words in the corpus) ['aaa', 'aaah', 'aaahh', 'aaaww', 'aachen', 'aadp', 'aaf', 'aafco', 'aah', 'aahhs']\n",
      "==================================================\n",
      "the type of count vectorizer  <class 'scipy.sparse.csr.csr_matrix'>\n",
      "the shape of out text TFIDF vectorizer  (46071, 38772)\n",
      "the number of unique words including both unigrams and bigrams  38772\n"
     ]
    }
   ],
   "source": [
    "# tfidf on unigrams\n",
    "tf_idf_vect1 = TfidfVectorizer()\n",
    "tf_idf_vect1.fit(cleaned_reviews)\n",
    "print(\"some sample features(unique words in the corpus)\",tf_idf_vect1.get_feature_names()[0:10])\n",
    "print('='*50)\n",
    "\n",
    "final_tf_idf1 = tf_idf_vect1.transform(cleaned_reviews)\n",
    "print(\"the type of count vectorizer \",type(final_tf_idf1))\n",
    "print(\"the shape of out text TFIDF vectorizer \",final_tf_idf1.get_shape())\n",
    "print(\"the number of unique words including both unigrams and bigrams \", final_tf_idf1.get_shape()[1])"
   ]
  },
  {
   "cell_type": "code",
   "execution_count": 38,
   "metadata": {},
   "outputs": [
    {
     "name": "stdout",
     "output_type": "stream",
     "text": [
      "some sample features(unique words in the corpus) ['aafco', 'aback', 'abandon', 'abandoned', 'abbott', 'abby', 'abc', 'abdomen', 'abdominal', 'abdominal pain']\n",
      "==================================================\n",
      "the type of count vectorizer  <class 'scipy.sparse.csr.csr_matrix'>\n",
      "the shape of out text TFIDF vectorizer  (46071, 115699)\n",
      "the number of unique words including both unigrams and bigrams  115699\n"
     ]
    }
   ],
   "source": [
    "# Tfidf on bigrams\n",
    "tf_idf_vect2 = TfidfVectorizer(ngram_range=(1,2),min_df=3)\n",
    "tf_idf_vect2.fit(cleaned_reviews)\n",
    "print(\"some sample features(unique words in the corpus)\",tf_idf_vect2.get_feature_names()[0:10])\n",
    "print('='*50)\n",
    "\n",
    "final_tf_idf2 = tf_idf_vect2.transform(cleaned_reviews)\n",
    "print(\"the type of count vectorizer \",type(final_tf_idf2))\n",
    "print(\"the shape of out text TFIDF vectorizer \",final_tf_idf2.get_shape())\n",
    "print(\"the number of unique words including both unigrams and bigrams \", final_tf_idf2.get_shape()[1])"
   ]
  },
  {
   "cell_type": "markdown",
   "metadata": {},
   "source": [
    "## [4.4] Word2Vec"
   ]
  },
  {
   "cell_type": "code",
   "execution_count": 39,
   "metadata": {},
   "outputs": [
    {
     "name": "stderr",
     "output_type": "stream",
     "text": [
      "100%|████████████████████████████████████████████████████████████████████████| 46071/46071 [00:00<00:00, 133611.51it/s]\n"
     ]
    }
   ],
   "source": [
    "# Train your own Word2Vec model using your own text corpus\n",
    "i=0\n",
    "list_of_sentence=[]\n",
    "for sentence in tqdm(cleaned_reviews):\n",
    "    list_of_sentence.append(sentence.split())"
   ]
  },
  {
   "cell_type": "code",
   "execution_count": 40,
   "metadata": {},
   "outputs": [],
   "source": [
    "outfile = open(\"list_of_sentence\",\"wb\")\n",
    "pickle.dump(list_of_sentence,outfile)\n",
    "outfile.close()"
   ]
  },
  {
   "cell_type": "code",
   "execution_count": 42,
   "metadata": {
    "scrolled": true
   },
   "outputs": [
    {
     "name": "stdout",
     "output_type": "stream",
     "text": [
      "[('awesome', 0.8226403594017029), ('fantastic', 0.8149124979972839), ('good', 0.8089359998703003), ('terrific', 0.7827798128128052), ('excellent', 0.7694401741027832), ('amazing', 0.7551678419113159), ('wonderful', 0.7451079487800598), ('perfect', 0.7331461906433105), ('decent', 0.728928804397583), ('fabulous', 0.6842518448829651)]\n",
      "==================================================\n",
      "[('nastiest', 0.7852265238761902), ('greatest', 0.7365906238555908), ('best', 0.7324913740158081), ('experienced', 0.710783839225769), ('tastiest', 0.7016306519508362), ('ive', 0.6797410249710083), ('hottest', 0.6664899587631226), ('smoothest', 0.6598447561264038), ('awful', 0.6534530520439148), ('blandest', 0.6448079943656921)]\n"
     ]
    }
   ],
   "source": [
    "# Using Google News Word2Vectors\n",
    "\n",
    "# in this project we are using a pretrained model by google\n",
    "# its 3.3G file, once you load this into your memory \n",
    "# it occupies ~9Gb \n",
    "# To use this code-snippet, download \"GoogleNews-vectors-negative300.bin\" \n",
    "# from https://drive.google.com/file/d/0B7XkCwpI5KDYNlNUTTlSS21pQmM/edit\n",
    "# it's 1.9GB in size.\n",
    "\n",
    "\n",
    "# http://kavita-ganesan.com/gensim-word2vec-tutorial-starter-code/#.W17SRFAzZPY\n",
    "# you can comment this whole cell\n",
    "# or change these varible according to your need\n",
    "\n",
    "is_your_ram_gt_16g=False\n",
    "want_to_use_google_w2v =False\n",
    "want_to_train_w2v = True\n",
    "\n",
    "if want_to_train_w2v:\n",
    "    # min_count = 5 considers only words that occured atleast 5 times\n",
    "    w2v_model=Word2Vec(list_of_sentence,min_count=3,size=50, workers=4)\n",
    "    print(w2v_model.wv.most_similar('great'))\n",
    "    print('='*50)\n",
    "    print(w2v_model.wv.most_similar('worst'))\n",
    "    \n",
    "elif want_to_use_google_w2v and is_your_ram_gt_16g:\n",
    "    if os.path.isfile('GoogleNews-vectors-negative300.bin'):\n",
    "        w2v_model=KeyedVectors.load_word2vec_format('GoogleNews-vectors-negative300.bin', binary=True)\n",
    "        print(w2v_model.wv.most_similar('great'))\n",
    "        print(w2v_model.wv.most_similar('worst'))\n",
    "    else:\n",
    "        print(\"you don't have gogole's word2vec file, keep want_to_train_w2v = True, to train your own w2v \")"
   ]
  },
  {
   "cell_type": "code",
   "execution_count": 43,
   "metadata": {},
   "outputs": [
    {
     "name": "stdout",
     "output_type": "stream",
     "text": [
      "number of words that occured minimum 5 times  16667\n",
      "sample words  ['dogs', 'loves', 'chicken', 'product', 'china', 'not', 'buying', 'anymore', 'hard', 'find', 'products', 'made', 'usa', 'one', 'bad', 'good', 'take', 'chances', 'till', 'know', 'going', 'imports', 'love', 'saw', 'pet', 'store', 'tag', 'attached', 'regarding', 'satisfied', 'safe', 'available', 'victor', 'traps', 'unreal', 'course', 'total', 'fly', 'pretty', 'stinky', 'right', 'nearby', 'used', 'bait', 'seasons', 'beat', 'great', 'received', 'shipment', 'could']\n"
     ]
    }
   ],
   "source": [
    "w2v_words = list(w2v_model.wv.vocab)\n",
    "print(\"number of words that occured minimum 5 times \",len(w2v_words))\n",
    "print(\"sample words \", w2v_words[0:50])"
   ]
  },
  {
   "cell_type": "markdown",
   "metadata": {},
   "source": [
    "## [4.4.1] Converting text into vectors using Avg W2V, TFIDF-W2V"
   ]
  },
  {
   "cell_type": "markdown",
   "metadata": {},
   "source": [
    "#### [4.4.1.1] Avg W2v"
   ]
  },
  {
   "cell_type": "code",
   "execution_count": 44,
   "metadata": {},
   "outputs": [
    {
     "name": "stdout",
     "output_type": "stream",
     "text": [
      "46071\n",
      "50\n"
     ]
    }
   ],
   "source": [
    "# average Word2Vec\n",
    "# compute average word2vec for each review.\n",
    "sent_vectors = []; # the avg-w2v for each sentence/review is stored in this list\n",
    "for sent in list_of_sentence: # for each review/sentence\n",
    "    sent_vec = np.zeros(50) # as word vectors are of zero length 50, you might need to change this to 300 if you use google's w2v\n",
    "    cnt_words =0; # num of words with a valid vector in the sentence/review\n",
    "    for word in sent: # for each word in a review/sentence\n",
    "        if word in w2v_words:\n",
    "            vec = w2v_model.wv[word]\n",
    "            sent_vec += vec\n",
    "            cnt_words += 1\n",
    "    if cnt_words != 0:\n",
    "        sent_vec /= cnt_words\n",
    "    sent_vectors.append(sent_vec)\n",
    "print(len(sent_vectors))\n",
    "print(len(sent_vectors[0]))"
   ]
  },
  {
   "cell_type": "markdown",
   "metadata": {},
   "source": [
    "#### [4.4.1.2] TFIDF weighted W2v"
   ]
  },
  {
   "cell_type": "code",
   "execution_count": 161,
   "metadata": {},
   "outputs": [],
   "source": [
    "# S = [\"abc def pqr\", \"def def def abc\", \"pqr pqr def\"]\n",
    "model = TfidfVectorizer()\n",
    "tf_idf_matrix = model.fit_transform(cleaned_reviews)\n",
    "# we are converting a dictionary with word as a key, and the idf as a value\n",
    "dictionary = dict(zip(model.get_feature_names(), list(model.idf_)))"
   ]
  },
  {
   "cell_type": "code",
   "execution_count": 142,
   "metadata": {
    "scrolled": true
   },
   "outputs": [],
   "source": [
    "# TF-IDF weighted Word2Vec\n",
    "tfidf_feat = model.get_feature_names() # tfidf words/col-names\n",
    "# final_tf_idf is the sparse matrix with row= sentence, col=word and cell_val = tfidf\n",
    "\n",
    "tfidf_sent_vectors = []; # the tfidf-w2v for each sentence/review is stored in this list\n",
    "row=0;\n",
    "for sent in list_of_sentence: # for each review/sentence \n",
    "    sent_vec = np.zeros(50) # as word vectors are of zero length\n",
    "    weight_sum =0; # num of words with a valid vector in the sentence/review\n",
    "    for word in sent: # for each word in a review/sentence\n",
    "        if word in w2v_words and word in tfidf_feat:\n",
    "            vec = w2v_model.wv[word]\n",
    "            #tf_idf = tf_idf_matrix[row, tfidf_feat.index(word)]\n",
    "            # to reduce the computation we are \n",
    "            # dictionary[word] = idf value of word in whole courpus\n",
    "            # sent.count(word) = tf values of word in this review\n",
    "            tf_idf = dictionary[word]*(sent.count(word)/len(sent))\n",
    "            sent_vec += (vec * tf_idf)\n",
    "            weight_sum += tf_idf\n",
    "    if weight_sum != 0:\n",
    "        sent_vec /= weight_sum\n",
    "    tfidf_sent_vectors.append(sent_vec)\n",
    "    row += 1"
   ]
  },
  {
   "cell_type": "code",
   "execution_count": 47,
   "metadata": {},
   "outputs": [
    {
     "name": "stdout",
     "output_type": "stream",
     "text": [
      "46071\n",
      "50\n"
     ]
    }
   ],
   "source": [
    "print(len(tfidf_sent_vectors))\n",
    "print(len(tfidf_sent_vectors[0]))"
   ]
  },
  {
   "cell_type": "markdown",
   "metadata": {},
   "source": [
    "# [5] Assignment 3: KNN"
   ]
  },
  {
   "cell_type": "markdown",
   "metadata": {},
   "source": [
    "<ol>\n",
    "    <li><strong>Apply Knn(brute force version) on these feature sets</strong>\n",
    "        <ul>\n",
    "            <li><font color='red'>SET 1:</font>Review text, preprocessed one converted into vectors using (BOW)</li>\n",
    "            <li><font color='red'>SET 2:</font>Review text, preprocessed one converted into vectors using (TFIDF)</li>\n",
    "            <li><font color='red'>SET 3:</font>Review text, preprocessed one converted into vectors using (AVG W2v)</li>\n",
    "            <li><font color='red'>SET 4:</font>Review text, preprocessed one converted into vectors using (TFIDF W2v)</li>\n",
    "        </ul>\n",
    "    </li>\n",
    "    <br>\n",
    "    <li><strong>Apply Knn(kd tree version) on these feature sets</strong>\n",
    "        <br><font color='red'>NOTE: </font>sklearn implementation of kd-tree accepts only dense matrices, you need to convert the sparse matrices of CountVectorizer/TfidfVectorizer into dense matices. You can convert sparse matrices to dense using .toarray() attribute. For more information please visit this <a href='https://docs.scipy.org/doc/scipy-0.18.1/reference/generated/scipy.sparse.csr_matrix.toarray.html'>link</a>\n",
    "        <ul>\n",
    "            <li><font color='red'>SET 5:</font>Review text, preprocessed one converted into vectors using (BOW) but with restriction on maximum features generated.\n",
    "            <pre>\n",
    "            count_vect = CountVectorizer(min_df=10, max_features=500) \n",
    "            count_vect.fit(preprocessed_reviews)\n",
    "            </pre>\n",
    "            </li>\n",
    "            <li><font color='red'>SET 6:</font>Review text, preprocessed one converted into vectors using (TFIDF) but with restriction on maximum features generated.\n",
    "            <pre>\n",
    "                tf_idf_vect = TfidfVectorizer(min_df=10, max_features=500)\n",
    "                tf_idf_vect.fit(preprocessed_reviews)\n",
    "            </pre>\n",
    "            </li>\n",
    "            <li><font color='red'>SET 3:</font>Review text, preprocessed one converted into vectors using (AVG W2v)</li>\n",
    "            <li><font color='red'>SET 4:</font>Review text, preprocessed one converted into vectors using (TFIDF W2v)</li>\n",
    "        </ul>\n",
    "    </li>\n",
    "    <br>\n",
    "    <li><strong>The hyper paramter tuning(find best K)</strong>\n",
    "        <ul>\n",
    "    <li>Find the best hyper parameter which will give the maximum <a href='https://www.appliedaicourse.com/course/applied-ai-course-online/lessons/receiver-operating-characteristic-curve-roc-curve-and-auc-1/'>AUC</a> value</li>\n",
    "    <li>Find the best hyper paramter using k-fold cross validation or simple cross validation data</li>\n",
    "    <li>Use gridsearch cv or randomsearch cv or you can also write your own for loops to do this task of hyperparameter tuning</li>\n",
    "        </ul>\n",
    "    </li>\n",
    "    <br>\n",
    "    <li>\n",
    "    <strong>Representation of results</strong>\n",
    "        <ul>\n",
    "    <li>You need to plot the performance of model both on train data and cross validation data for each hyper parameter, like shown in the figure\n",
    "    <img src='train_cv_auc.JPG' width=300px></li>\n",
    "    <li>Once after you found the best hyper parameter, you need to train your model with it, and find the AUC on test data and plot the ROC curve on both train and test.\n",
    "    <img src='train_test_auc.JPG' width=300px></li>\n",
    "    <li>Along with plotting ROC curve, you need to print the <a href='https://www.appliedaicourse.com/course/applied-ai-course-online/lessons/confusion-matrix-tpr-fpr-fnr-tnr-1/'>confusion matrix</a> with predicted and original labels of test data points\n",
    "    <img src='confusion_matrix.png' width=300px></li>\n",
    "        </ul>\n",
    "    </li>\n",
    "    <br>\n",
    "    <li><strong>Conclusion</strong>\n",
    "        <ul>\n",
    "    <li>You need to summarize the results at the end of the notebook, summarize it in the table format. To print out a table please refer to this prettytable library<a href='http://zetcode.com/python/prettytable/'> link</a> \n",
    "        <img src='summary.JPG' width=400px>\n",
    "    </li>\n",
    "        </ul>\n",
    "</ol>"
   ]
  },
  {
   "cell_type": "markdown",
   "metadata": {},
   "source": [
    "<h4><font color='red'>Note: Data Leakage</font></h4>\n",
    "\n",
    "1. There will be an issue of data-leakage if you vectorize the entire data and then split it into train/cv/test.\n",
    "2. To avoid the issue of data-leakag, make sure to split your data first and then vectorize it. \n",
    "3. While vectorizing your data, apply the method fit_transform() on you train data, and apply the method transform() on cv/test data.\n",
    "4. For more details please go through this <a href='https://soundcloud.com/applied-ai-course/leakage-bow-and-tfidf'>link.</a>"
   ]
  },
  {
   "cell_type": "markdown",
   "metadata": {},
   "source": [
    "## [5.1] Applying KNN brute force"
   ]
  },
  {
   "cell_type": "markdown",
   "metadata": {},
   "source": [
    "### [5.1.1] Applying KNN brute force on BOW,<font color='red'> SET 1</font>"
   ]
  },
  {
   "cell_type": "code",
   "execution_count": 82,
   "metadata": {},
   "outputs": [
    {
     "name": "stderr",
     "output_type": "stream",
     "text": [
      "C:\\Users\\rites\\Anaconda3\\lib\\site-packages\\sklearn\\cross_validation.py:41: DeprecationWarning: This module was deprecated in version 0.18 in favor of the model_selection module into which all the refactored classes and functions are moved. Also note that the interface of the new CV iterators are different from that of this module. This module will be removed in 0.20.\n",
      "  \"This module will be removed in 0.20.\", DeprecationWarning)\n"
     ]
    },
    {
     "name": "stdout",
     "output_type": "stream",
     "text": [
      "32249 32249 13822 13822\n"
     ]
    }
   ],
   "source": [
    "from sklearn.cross_validation import train_test_split\n",
    "\n",
    "# cleaned_reviews contains all the required reviews\n",
    "# Splitting cleaned_reviews into train and test dataset\n",
    "\n",
    "X = cleaned_reviews\n",
    "Y = final['Score']\n",
    "\n",
    "X_train,X_test,Y_train,Y_test = train_test_split(X,Y,test_size=0.3,random_state=42)\n",
    "print(len(X_train),len(Y_train),len(X_test),len(Y_test))"
   ]
  },
  {
   "cell_type": "code",
   "execution_count": 84,
   "metadata": {},
   "outputs": [
    {
     "name": "stdout",
     "output_type": "stream",
     "text": [
      "(32249, 32938) (13822, 32938)\n"
     ]
    }
   ],
   "source": [
    "# Now we will vectorize train and test datasets separately using BagofWords\n",
    "# Use fit_transform to vectorize train dataset and transform to vectorize test dataset\n",
    "count_vect2 = CountVectorizer()\n",
    "X_train = count_vect2.fit_transform(X_train)\n",
    "X_test = count_vect2.transform(X_test)\n",
    "print(X_train.shape,X_test.shape)"
   ]
  },
  {
   "cell_type": "code",
   "execution_count": 89,
   "metadata": {},
   "outputs": [
    {
     "name": "stdout",
     "output_type": "stream",
     "text": [
      "Cross Validation Accuracy for k = 1 is 77.87% and auc is 0.58\n",
      "Cross Validation Accuracy for k = 3 is 82.47% and auc is 0.62\n",
      "Cross Validation Accuracy for k = 5 is 83.00% and auc is 0.64\n",
      "Cross Validation Accuracy for k = 7 is 83.24% and auc is 0.64\n",
      "Cross Validation Accuracy for k = 9 is 83.40% and auc is 0.65\n",
      "Cross Validation Accuracy for k = 11 is 83.30% and auc is 0.66\n",
      "Cross Validation Accuracy for k = 13 is 83.28% and auc is 0.66\n",
      "Cross Validation Accuracy for k = 15 is 83.30% and auc is 0.66\n",
      "Cross Validation Accuracy for k = 17 is 83.33% and auc is 0.66\n",
      "Cross Validation Accuracy for k = 19 is 83.32% and auc is 0.66\n",
      "Cross Validation Accuracy for k = 21 is 83.33% and auc is 0.66\n",
      "Cross Validation Accuracy for k = 23 is 83.37% and auc is 0.67\n",
      "Cross Validation Accuracy for k = 25 is 83.37% and auc is 0.67\n",
      "Cross Validation Accuracy for k = 27 is 83.40% and auc is 0.68\n",
      "Cross Validation Accuracy for k = 29 is 83.39% and auc is 0.68\n"
     ]
    }
   ],
   "source": [
    "# We will do time based splitting and do 10 fold cross validation \n",
    "# This is done as reviews keeps changing with time and hence time based splitting is required\n",
    "from sklearn.model_selection import TimeSeriesSplit\n",
    "from sklearn.metrics import roc_auc_score\n",
    "from sklearn.metrics import accuracy_score\n",
    "\n",
    "# Time series object\n",
    "tscv = TimeSeriesSplit(n_splits=10)\n",
    "\n",
    "from sklearn.neighbors import KNeighborsClassifier\n",
    "from sklearn.metrics import accuracy_score\n",
    "\n",
    "param_list = [1,3,5,7,9,11,13,15,17,19,21,23,25,27,29]\n",
    "acc_list = []\n",
    "auc_list = []\n",
    "\n",
    "for k in range(1,30,2):\n",
    "    # KNN Classifier\n",
    "    clf = KNeighborsClassifier(n_neighbors=k,algorithm='brute',leaf_size=30)\n",
    "    i=0\n",
    "    acc=0.0\n",
    "    auc=0.0\n",
    "    for train_index,test_index in tscv.split(X_train):\n",
    "        x_train = X_train[0:train_index[-1]][:] # row 0 to train_index(excluding)\n",
    "        y_train = Y_train[0:train_index[-1]][:] # row 0 to train_index(excluding)\n",
    "        x_test = X_train[train_index[-1]:test_index[-1]][:] # row from train_index to test_index(excluding) will be selected\n",
    "        y_test = Y_train[train_index[-1]:test_index[-1]][:] # row from train_index to test_index(excluding) will be selected\n",
    "    \n",
    "        clf.fit(x_train,y_train)\n",
    "    \n",
    "        predict_y = clf.predict(x_test)\n",
    "        predict_probab = clf.predict_proba(x_test)[:,1]\n",
    "        i += 1\n",
    "        acc += accuracy_score(y_test,predict_y,normalize=True) * float(100)\n",
    "        auc += roc_auc_score(y_test,predict_probab)\n",
    "    \n",
    "    acc_list.append(acc)\n",
    "    auc_list.append(auc)\n",
    "    print(\"Cross Validation Accuracy for k = {:d} is {:.2f}% and auc is {:.2f}\".format(k,acc/i,auc/i))\n",
    "        \n",
    "        "
   ]
  },
  {
   "cell_type": "code",
   "execution_count": 90,
   "metadata": {},
   "outputs": [
    {
     "data": {
      "image/png": "[encoded data removed]",
      "text/plain": [
       "<matplotlib.figure.Figure at 0x184be26b198>"
      ]
     },
     "metadata": {},
     "output_type": "display_data"
    }
   ],
   "source": [
    "import matplotlib.pyplot as plt\n",
    "\n",
    "# Plotting graph of auc and parameter\n",
    "\n",
    "plt.plot(param_list,auc_list)\n",
    "plt.xlabel(\"Parameter for K-NN\")\n",
    "plt.ylabel(\"Area Under Curve\")\n",
    "plt.title(\"Plot of parameter Vs AUC \")\n",
    "plt.show()"
   ]
  },
  {
   "cell_type": "code",
   "execution_count": 91,
   "metadata": {},
   "outputs": [
    {
     "data": {
      "image/png": "[encoded data removed]",
      "text/plain": [
       "<matplotlib.figure.Figure at 0x184bc724588>"
      ]
     },
     "metadata": {},
     "output_type": "display_data"
    }
   ],
   "source": [
    "\n",
    "# Plotting graph of accuracy and parameter\n",
    "\n",
    "plt.plot(param_list,acc_list)\n",
    "plt.xlabel(\"Parameter for K-NN\")\n",
    "plt.ylabel(\"Accuracy\")\n",
    "plt.title(\"Plot of parameter Vs Accuracy \")\n",
    "plt.show()"
   ]
  },
  {
   "cell_type": "code",
   "execution_count": 92,
   "metadata": {},
   "outputs": [
    {
     "name": "stdout",
     "output_type": "stream",
     "text": [
      "Final Accuracy is 84.05% and auc is 0.67\n"
     ]
    }
   ],
   "source": [
    "# Training final model on best auc and taking k = 21\n",
    "\n",
    "final_clf = KNeighborsClassifier(n_neighbors=21,algorithm='brute',leaf_size=30)\n",
    "\n",
    "final_clf.fit(X_train,Y_train)\n",
    "\n",
    "predict_y = final_clf.predict(X_test)\n",
    "predict_probab = final_clf.predict_proba(X_test)[:,1] # This returns only probability of +ve class \n",
    "\n",
    "acc = accuracy_score(Y_test,predict_y,normalize=True)* float(100)\n",
    "auc = roc_auc_score(Y_test,predict_probab)\n",
    "print(\"Final Accuracy is {:.2f}% and auc is {:.2f}\".format(acc,auc))\n"
   ]
  },
  {
   "cell_type": "code",
   "execution_count": 53,
   "metadata": {},
   "outputs": [],
   "source": [
    "outfile = open(\"BOW_burte\",\"wb\")\n",
    "pickle.dump(final_clf,outfile)\n",
    "outfile.close()"
   ]
  },
  {
   "cell_type": "code",
   "execution_count": 79,
   "metadata": {},
   "outputs": [],
   "source": [
    "# Plotting confusion matrix of this model\n",
    "from sklearn.metrics import confusion_matrix\n",
    "import seaborn as sns\n",
    "import matplotlib.pyplot as plt\n",
    "\n",
    "def confusion_matrix_plot(y_test,predict_y):\n",
    "    C = confusion_matrix(y_test,predict_y) # This matrix contains true +ve , false +ve , true -ve and false -ve\n",
    "    \n",
    "    # Calculating precision matrix\n",
    "    \n",
    "    P = (C/C.sum(axis=0)) \n",
    "    # Explaination \n",
    "    # axis = 0 will calculate sum about columns and divide each element in that column with that sum \n",
    "    # C = [1,4\n",
    "    #      2,7]\n",
    "    # C.sum(axis=1) is [3,11]\n",
    "    # P = [1/3 , 4/11\n",
    "    #      2/3 , 3/11]\n",
    "    \n",
    "    # Calculating recall matrix\n",
    "    \n",
    "    R = (((C.T)/(C.sum(axis=1))).T)\n",
    "    # Explaination\n",
    "    # axis = 1 will calculate sum about rows and divide all the elements in that row with that sum.\n",
    "    # C = [1 , 4\n",
    "    #      2 , 7]\n",
    "    # C.T will be [1 , 2\n",
    "    #              4 , 7]\n",
    "    # C.sum(axis=0) is [5,9]\n",
    "    # (C.T)/(C.sum(axis=1)) will be [1/5 , 4/5\n",
    "    #                                2/9 , 7/9]\n",
    "    \n",
    "    labels = [0,1] # This list contains class labels\n",
    "    \n",
    "    # cmap object which contains color code\n",
    "    cmap = sns.light_palette(\"orange\")\n",
    "    \n",
    "    #Plotting confusion matrix\n",
    "    print(\"=========== Confusion matrix ==========\")\n",
    "    plt.figure(figsize=(4,4))\n",
    "    sns.heatmap(C,annot=True,cmap=cmap,fmt=\".3f\",xticklabels=labels,yticklabels=labels)\n",
    "    plt.xlabel(\"Predicted Class\")\n",
    "    plt.ylabel(\"Actual Class\")\n",
    "    plt.show()\n",
    "    \n",
    "    # Plotting Precision confusion matrix\n",
    "    print(\"=========== Precision Matrix ==========\")\n",
    "    plt.figure(figsize=(4,4))\n",
    "    sns.heatmap(P,annot=True,cmap=cmap,fmt=\".3f\",xticklabels=labels,yticklabels=labels)\n",
    "    plt.xlabel(\"Predicted Class\")\n",
    "    plt.ylabel(\"Actual Class\")\n",
    "    plt.show()\n",
    "    \n",
    "    # Plotting Recall Matrix\n",
    "    print(\"=========== Recall Matrix =============\")\n",
    "    plt.figure(figsize=(4,4))\n",
    "    sns.heatmap(R,annot=True,cmap=cmap,fmt=\".3f\",xticklabels=labels,yticklabels=labels)\n",
    "    plt.xlabel(\"Predicted Class\")\n",
    "    plt.ylabel(\"Actual Class\")\n",
    "    plt.show()\n",
    "    "
   ]
  },
  {
   "cell_type": "code",
   "execution_count": 93,
   "metadata": {},
   "outputs": [
    {
     "name": "stdout",
     "output_type": "stream",
     "text": [
      "=========== Confusion matrix ==========\n"
     ]
    },
    {
     "data": {
      "image/png": "[encoded data removed]",
      "text/plain": [
       "<matplotlib.figure.Figure at 0x184bc7373c8>"
      ]
     },
     "metadata": {},
     "output_type": "display_data"
    },
    {
     "name": "stdout",
     "output_type": "stream",
     "text": [
      "=========== Precision Matrix ==========\n"
     ]
    },
    {
     "data": {
      "image/png": "[encoded data removed]",
      "text/plain": [
       "<matplotlib.figure.Figure at 0x184bdc5a3c8>"
      ]
     },
     "metadata": {},
     "output_type": "display_data"
    },
    {
     "name": "stdout",
     "output_type": "stream",
     "text": [
      "=========== Recall Matrix =============\n"
     ]
    },
    {
     "data": {
      "image/png": "[encoded data removed]",
      "text/plain": [
       "<matplotlib.figure.Figure at 0x184c0279f98>"
      ]
     },
     "metadata": {},
     "output_type": "display_data"
    }
   ],
   "source": [
    "# Calling confusion_matrix_plot\n",
    "\n",
    "confusion_matrix_plot(Y_test,predict_y)"
   ]
  },
  {
   "cell_type": "code",
   "execution_count": 94,
   "metadata": {},
   "outputs": [
    {
     "name": "stdout",
     "output_type": "stream",
     "text": [
      "             precision    recall  f1-score   support\n",
      "\n",
      "          0       0.48      0.15      0.23      2176\n",
      "          1       0.86      0.97      0.91     11646\n",
      "\n",
      "avg / total       0.80      0.84      0.80     13822\n",
      "\n"
     ]
    }
   ],
   "source": [
    "from sklearn.metrics import classification_report\n",
    "\n",
    "print(classification_report(Y_test,predict_y))"
   ]
  },
  {
   "cell_type": "code",
   "execution_count": 58,
   "metadata": {
    "scrolled": true
   },
   "outputs": [
    {
     "data": {
      "image/png": "[encoded data removed]",
      "text/plain": [
       "<matplotlib.figure.Figure at 0x14c0ca316a0>"
      ]
     },
     "metadata": {},
     "output_type": "display_data"
    }
   ],
   "source": [
    "# Plotting ROC Curve\n",
    "from sklearn.metrics import roc_curve\n",
    "\n",
    "fpr,tpr,threshold = roc_curve(Y_test,predict_y)\n",
    "\n",
    "plt.plot([0,1],[0,1])\n",
    "plt.plot(fpr,tpr)\n",
    "plt.xlabel(\"fpr\")\n",
    "plt.ylabel(\"tpr\")\n",
    "plt.title(\"ROC curve for KNN with k= 23\")\n",
    "plt.show()"
   ]
  },
  {
   "cell_type": "code",
   "execution_count": 59,
   "metadata": {},
   "outputs": [
    {
     "name": "stdout",
     "output_type": "stream",
     "text": [
      "Area under ROC curve is =0.620 \n"
     ]
    }
   ],
   "source": [
    "# Printing area under curve\n",
    "\n",
    "print(\"Area under ROC curve is ={:.3f} \".format(roc_auc_score(Y_test,predict_probab)))"
   ]
  },
  {
   "cell_type": "markdown",
   "metadata": {},
   "source": [
    "# Observations\n",
    "\n",
    "#### 1. Precision and recall for +ve class is good but for -ve class is very bad ."
   ]
  },
  {
   "cell_type": "markdown",
   "metadata": {},
   "source": [
    "### [5.1.2] Applying KNN brute force on TFIDF"
   ]
  },
  {
   "cell_type": "code",
   "execution_count": 109,
   "metadata": {},
   "outputs": [],
   "source": [
    "# In this section Tfidf will be used for vectorization\n",
    "# Splitting datasets into train and test datasets\n",
    "\n",
    "X_train,X_test,Y_train,Y_test = train_test_split(X,Y,test_size=0.3,random_state=42)\n",
    "\n",
    "# Now we will vectorize train and test datasets separately using Tfidf \n",
    "# Use fit_transform to vectorize train dataset and transform to vectorize test dataset\n",
    "X_train = tf_idf_vect2.fit_transform(X_train)\n",
    "X_test = tf_idf_vect2.transform(X_test)"
   ]
  },
  {
   "cell_type": "code",
   "execution_count": 111,
   "metadata": {},
   "outputs": [
    {
     "name": "stdout",
     "output_type": "stream",
     "text": [
      "Cross Validation Accuracy for k = 1 is 83.24% and auc is 0.50\n",
      "Cross Validation Accuracy for k = 3 is 83.23% and auc is 0.50\n",
      "Cross Validation Accuracy for k = 5 is 83.19% and auc is 0.51\n",
      "Cross Validation Accuracy for k = 7 is 83.22% and auc is 0.52\n",
      "Cross Validation Accuracy for k = 9 is 83.24% and auc is 0.52\n",
      "Cross Validation Accuracy for k = 11 is 83.24% and auc is 0.53\n",
      "Cross Validation Accuracy for k = 13 is 83.25% and auc is 0.53\n",
      "Cross Validation Accuracy for k = 15 is 83.28% and auc is 0.53\n",
      "Cross Validation Accuracy for k = 17 is 83.27% and auc is 0.55\n",
      "Cross Validation Accuracy for k = 19 is 83.27% and auc is 0.56\n",
      "Cross Validation Accuracy for k = 21 is 83.28% and auc is 0.56\n",
      "Cross Validation Accuracy for k = 23 is 83.27% and auc is 0.58\n",
      "Cross Validation Accuracy for k = 25 is 83.26% and auc is 0.59\n",
      "Cross Validation Accuracy for k = 27 is 83.25% and auc is 0.60\n",
      "Cross Validation Accuracy for k = 29 is 83.26% and auc is 0.60\n"
     ]
    }
   ],
   "source": [
    "# Performing time series split cross validation\n",
    "\n",
    "acc_list=[]\n",
    "auc_list=[]\n",
    "\n",
    "for k in range(1,30,2):\n",
    "    # KNN Classifier\n",
    "    clf = KNeighborsClassifier(n_neighbors=k,algorithm='brute',leaf_size=30)\n",
    "    i=0\n",
    "    acc=0.0\n",
    "    auc=0.0\n",
    "    for train_index,test_index in tscv.split(X_train):\n",
    "        x_train = X_train[0:train_index[-1]][:] # row 0 to train_index(excluding)\n",
    "        y_train = Y_train[0:train_index[-1]][:] # row 0 to train_index(excluding)\n",
    "        x_test = X_train[train_index[-1]:test_index[-1]][:] # row from train_index to test_index(excluding) will be selected\n",
    "        y_test = Y_train[train_index[-1]:test_index[-1]][:] # row from train_index to test_index(excluding) will be selected\n",
    "    \n",
    "        clf.fit(x_train,y_train)\n",
    "    \n",
    "        predict_y = clf.predict(x_test)\n",
    "        predict_probab = clf.predict_proba(x_test)[:,1]\n",
    "        i += 1\n",
    "        acc += accuracy_score(y_test,predict_y,normalize=True) * float(100)\n",
    "        auc += roc_auc_score(y_test,predict_probab)\n",
    "    \n",
    "    \n",
    "    auc_list.append(auc)\n",
    "    acc_list.append(acc)\n",
    "    print(\"Cross Validation Accuracy for k = {:d} is {:.2f}% and auc is {:.2f}\".format(k,acc/i,auc/i))\n",
    "        "
   ]
  },
  {
   "cell_type": "code",
   "execution_count": 112,
   "metadata": {},
   "outputs": [
    {
     "data": {
      "image/png": "[encoded data removed]",
      "text/plain": [
       "<matplotlib.figure.Figure at 0x1a2a3774c18>"
      ]
     },
     "metadata": {},
     "output_type": "display_data"
    }
   ],
   "source": [
    "import matplotlib.pyplot as plt\n",
    "\n",
    "# Plotting graph of auc and parameter\n",
    "\n",
    "plt.plot(param_list,auc_list)\n",
    "plt.xlabel(\"Parameter for K-NN\")\n",
    "plt.ylabel(\"Area Under Curve\")\n",
    "plt.title(\"Plot of parameter Vs AUC \")\n",
    "plt.show()"
   ]
  },
  {
   "cell_type": "code",
   "execution_count": 113,
   "metadata": {},
   "outputs": [
    {
     "data": {
      "image/png": "[encoded data removed]",
      "text/plain": [
       "<matplotlib.figure.Figure at 0x1a2a3c1d128>"
      ]
     },
     "metadata": {},
     "output_type": "display_data"
    }
   ],
   "source": [
    "\n",
    "\n",
    "# Plotting graph of auc and parameter\n",
    "\n",
    "plt.plot(param_list,auc_list)\n",
    "plt.xlabel(\"Parameter for K-NN\")\n",
    "plt.ylabel(\"Accuracy\")\n",
    "plt.title(\"Plot of parameter Vs Accuracy \")\n",
    "plt.show()"
   ]
  },
  {
   "cell_type": "code",
   "execution_count": 63,
   "metadata": {},
   "outputs": [
    {
     "name": "stdout",
     "output_type": "stream",
     "text": [
      "Final Accuracy is 84.26% and auc is 0.51\n"
     ]
    }
   ],
   "source": [
    "# Training final model on best auc and taking k = 25\n",
    "\n",
    "final_clf = KNeighborsClassifier(n_neighbors=25,algorithm='brute',leaf_size=30)\n",
    "\n",
    "final_clf.fit(X_train,Y_train)\n",
    "\n",
    "predict_y = final_clf.predict(X_test)\n",
    "predict_probab = final_clf.predict_proba(X_test)[:,1] # This returns only probability of +ve class \n",
    "\n",
    "acc = accuracy_score(Y_test,predict_y,normalize=True)* float(100)\n",
    "auc = roc_auc_score(Y_test,predict_probab)\n",
    "print(\"Final Accuracy is {:.2f}% and auc is {:.2f}\".format(acc,auc))\n",
    "\n",
    "#print(\"For k = 29 final accuracy is {:.2f}% and auc is {:.3f}%\".format(acc,auc))"
   ]
  },
  {
   "cell_type": "code",
   "execution_count": null,
   "metadata": {},
   "outputs": [],
   "source": [
    "outfile = open(\"BOW_burte\",\"wb\")\n",
    "pickle.dump(final_clf,outfile)\n",
    "outfile.close()"
   ]
  },
  {
   "cell_type": "code",
   "execution_count": 64,
   "metadata": {},
   "outputs": [
    {
     "name": "stdout",
     "output_type": "stream",
     "text": [
      "=========== Confusion matrix ==========\n"
     ]
    },
    {
     "data": {
      "image/png": "[encoded data removed]",
      "text/plain": [
       "<matplotlib.figure.Figure at 0x14c1ca9d5c0>"
      ]
     },
     "metadata": {},
     "output_type": "display_data"
    },
    {
     "name": "stdout",
     "output_type": "stream",
     "text": [
      "=========== Precision Matrix ==========\n"
     ]
    },
    {
     "data": {
      "image/png": "[encoded data removed]",
      "text/plain": [
       "<matplotlib.figure.Figure at 0x14c14395f60>"
      ]
     },
     "metadata": {},
     "output_type": "display_data"
    },
    {
     "name": "stdout",
     "output_type": "stream",
     "text": [
      "=========== Recall Matrix =============\n"
     ]
    },
    {
     "data": {
      "image/png": "[encoded data removed]",
      "text/plain": [
       "<matplotlib.figure.Figure at 0x14c20566240>"
      ]
     },
     "metadata": {},
     "output_type": "display_data"
    }
   ],
   "source": [
    "# Calling confusion_matrix_plot\n",
    "\n",
    "confusion_matrix_plot(Y_test,predict_y)"
   ]
  },
  {
   "cell_type": "code",
   "execution_count": 65,
   "metadata": {},
   "outputs": [
    {
     "name": "stdout",
     "output_type": "stream",
     "text": [
      "             precision    recall  f1-score   support\n",
      "\n",
      "          0       0.00      0.00      0.00      2176\n",
      "          1       0.84      1.00      0.91     11646\n",
      "\n",
      "avg / total       0.71      0.84      0.77     13822\n",
      "\n"
     ]
    }
   ],
   "source": [
    "from sklearn.metrics import classification_report\n",
    "\n",
    "print(classification_report(Y_test,predict_y))"
   ]
  },
  {
   "cell_type": "code",
   "execution_count": 66,
   "metadata": {},
   "outputs": [
    {
     "data": {
      "image/png": "[encoded data removed]",
      "text/plain": [
       "<matplotlib.figure.Figure at 0x14c43728da0>"
      ]
     },
     "metadata": {},
     "output_type": "display_data"
    }
   ],
   "source": [
    "# Plotting ROC Curve\n",
    "from sklearn.metrics import roc_curve\n",
    "\n",
    "fpr,tpr,threshold = roc_curve(Y_test,predict_y)\n",
    "\n",
    "plt.plot([0,1],[0,1])\n",
    "plt.plot(fpr,tpr)\n",
    "plt.xlabel(\"fpr\")\n",
    "plt.ylabel(\"tpr\")\n",
    "plt.title(\"ROC curve for KNN with k= 11\")\n",
    "plt.show()"
   ]
  },
  {
   "cell_type": "code",
   "execution_count": 67,
   "metadata": {},
   "outputs": [
    {
     "name": "stdout",
     "output_type": "stream",
     "text": [
      "Area under ROC curve is =0.510 \n"
     ]
    }
   ],
   "source": [
    "# Printing area under curve\n",
    "\n",
    "print(\"Area under ROC curve is ={:.3f} \".format(roc_auc_score(Y_test,predict_probab)))"
   ]
  },
  {
   "cell_type": "markdown",
   "metadata": {},
   "source": [
    "### [5.1.3] Applying KNN brute force on AVG W2V,<font color='red'> SET 3</font>"
   ]
  },
  {
   "cell_type": "code",
   "execution_count": 95,
   "metadata": {},
   "outputs": [
    {
     "name": "stdout",
     "output_type": "stream",
     "text": [
      "['like', 'one', 'alot', 'literally', 'tastes', 'like', 'chocolate', 'brownie', 'nuts', 'not', 'overly', 'sweet', 'either', 'nice', 'energy', 'bar', 'work', 'healthy', 'taste', 'good', 'raw', 'completely', 'organic', 'good', 'fiber', 'protein', 'sugar', 'agave', 'nectar', 'also', 'healthy', 'alternative', 'sugars', 'definitely', 'buying', 'brand', 'trying', 'flavors']\n"
     ]
    }
   ],
   "source": [
    "# In this section avg_w2v will be used for vectorization\n",
    "# Splitting datasets into train and test datasets\n",
    "\n",
    "X_train,X_test,Y_train,Y_test = train_test_split(list_of_sentence,Y,test_size=0.3,random_state=42)\n",
    "print(X_train[0])\n"
   ]
  },
  {
   "cell_type": "code",
   "execution_count": 96,
   "metadata": {},
   "outputs": [
    {
     "name": "stdout",
     "output_type": "stream",
     "text": [
      "32249\n",
      "50\n"
     ]
    }
   ],
   "source": [
    "# Now we will vectorize train dataset usin avg_w2v\n",
    "train_sent_vectors = []; # the avg-w2v for each sentence/review is stored in this list\n",
    "for sent in X_train: # for each review/sentence\n",
    "    sent_vec = np.zeros(50) # as word vectors are of zero length 50, you might need to change this to 300 if you use google's w2v\n",
    "    cnt_words =0; # num of words with a valid vector in the sentence/review\n",
    "    for word in sent: # for each word in a review/sentence\n",
    "        if word in w2v_words:\n",
    "            vec = w2v_model.wv[word]\n",
    "            sent_vec += vec\n",
    "            cnt_words += 1\n",
    "    if cnt_words != 0:\n",
    "        sent_vec /= cnt_words\n",
    "    train_sent_vectors.append(sent_vec)\n",
    "print(len(train_sent_vectors))\n",
    "print(len(train_sent_vectors[0]))"
   ]
  },
  {
   "cell_type": "code",
   "execution_count": 97,
   "metadata": {},
   "outputs": [
    {
     "name": "stdout",
     "output_type": "stream",
     "text": [
      "13822\n",
      "50\n"
     ]
    }
   ],
   "source": [
    "# Vectorization of test dataset using avg_w2v\n",
    "\n",
    "test_sent_vectors = []; # the avg-w2v for each sentence/review is stored in this list\n",
    "for sent in X_test: # for each review/sentence\n",
    "    sent_vec = np.zeros(50) # as word vectors are of zero length 50, you might need to change this to 300 if you use google's w2v\n",
    "    cnt_words =0; # num of words with a valid vector in the sentence/review\n",
    "    for word in sent: # for each word in a review/sentence\n",
    "        if word in w2v_words:\n",
    "            vec = w2v_model.wv[word]\n",
    "            sent_vec += vec\n",
    "            cnt_words += 1\n",
    "    if cnt_words != 0:\n",
    "        sent_vec /= cnt_words\n",
    "    test_sent_vectors.append(sent_vec)\n",
    "print(len(test_sent_vectors))\n",
    "print(len(test_sent_vectors[0]))"
   ]
  },
  {
   "cell_type": "code",
   "execution_count": 102,
   "metadata": {},
   "outputs": [
    {
     "name": "stdout",
     "output_type": "stream",
     "text": [
      "Cross Validation Accuracy for k = 1 is 82.09% and auc is 0.67\n",
      "Cross Validation Accuracy for k = 3 is 85.13% and auc is 0.77\n",
      "Cross Validation Accuracy for k = 5 is 85.80% and auc is 0.81\n",
      "Cross Validation Accuracy for k = 7 is 86.30% and auc is 0.83\n",
      "Cross Validation Accuracy for k = 9 is 86.54% and auc is 0.84\n",
      "Cross Validation Accuracy for k = 11 is 86.58% and auc is 0.85\n",
      "Cross Validation Accuracy for k = 13 is 86.59% and auc is 0.86\n",
      "Cross Validation Accuracy for k = 15 is 86.67% and auc is 0.86\n",
      "Cross Validation Accuracy for k = 17 is 86.71% and auc is 0.86\n",
      "Cross Validation Accuracy for k = 19 is 86.73% and auc is 0.87\n",
      "Cross Validation Accuracy for k = 21 is 86.72% and auc is 0.87\n",
      "Cross Validation Accuracy for k = 23 is 86.70% and auc is 0.87\n",
      "Cross Validation Accuracy for k = 25 is 86.69% and auc is 0.87\n",
      "Cross Validation Accuracy for k = 27 is 86.62% and auc is 0.87\n",
      "Cross Validation Accuracy for k = 29 is 86.65% and auc is 0.87\n"
     ]
    }
   ],
   "source": [
    "# 10 fold cross validation using time series splitting\n",
    "\n",
    "auc_list=[]\n",
    "acc_list=[]\n",
    "\n",
    "for k in range(1,30,2):\n",
    "    # KNN Classifier\n",
    "    clf = KNeighborsClassifier(n_neighbors=k,algorithm='brute',leaf_size=30)\n",
    "    i=0\n",
    "    acc=0.0\n",
    "    auc=0.0\n",
    "    for train_index,test_index in tscv.split(train_sent_vectors):\n",
    "        x_train = train_sent_vectors[0:train_index[-1]][:] # row 0 to train_index(excluding)\n",
    "        y_train = Y_train[0:train_index[-1]][:] # row 0 to train_index(excluding)\n",
    "        x_test = train_sent_vectors[train_index[-1]:test_index[-1]][:] # row from train_index to test_index will be selected\n",
    "        y_test = Y_train[train_index[-1]:test_index[-1]][:] # row from train_index to test_index(excluding) will be selected\n",
    "    \n",
    "        clf.fit(x_train,y_train)\n",
    "    \n",
    "        predict_y = clf.predict(x_test)\n",
    "        predict_probab = clf.predict_proba(x_test)[:,1]\n",
    "        i += 1\n",
    "        acc += accuracy_score(y_test,predict_y,normalize=True) * float(100)\n",
    "        auc += roc_auc_score(y_test,predict_probab)\n",
    "    auc_list.append(auc)\n",
    "    acc_list.append(acc)\n",
    "    print(\"Cross Validation Accuracy for k = {:d} is {:.2f}% and auc is {:.2f}\".format(k,acc/i,auc/i))"
   ]
  },
  {
   "cell_type": "code",
   "execution_count": 103,
   "metadata": {},
   "outputs": [
    {
     "data": {
      "image/png": "[encoded data removed]",
      "text/plain": [
       "<matplotlib.figure.Figure at 0x1a29e863208>"
      ]
     },
     "metadata": {},
     "output_type": "display_data"
    }
   ],
   "source": [
    "import matplotlib.pyplot as plt\n",
    "\n",
    "# Plotting graph of auc and parameter\n",
    "\n",
    "plt.plot(param_list,auc_list)\n",
    "plt.xlabel(\"Parameter for K-NN\")\n",
    "plt.ylabel(\"Area Under Curve\")\n",
    "plt.title(\"Plot of parameter Vs AUC \")\n",
    "plt.show()"
   ]
  },
  {
   "cell_type": "code",
   "execution_count": 104,
   "metadata": {},
   "outputs": [
    {
     "data": {
      "image/png": "[encoded data removed]",
      "text/plain": [
       "<matplotlib.figure.Figure at 0x1a2a7ad6668>"
      ]
     },
     "metadata": {},
     "output_type": "display_data"
    }
   ],
   "source": [
    "\n",
    "\n",
    "# Plotting graph of accuracy and parameter\n",
    "\n",
    "plt.plot(param_list,acc_list)\n",
    "plt.xlabel(\"Parameter for K-NN\")\n",
    "plt.ylabel(\"Accuracy\")\n",
    "plt.title(\"Plot of parameter Vs Accuracy \")\n",
    "plt.show()"
   ]
  },
  {
   "cell_type": "code",
   "execution_count": 105,
   "metadata": {},
   "outputs": [
    {
     "name": "stdout",
     "output_type": "stream",
     "text": [
      "Final Accuracy is 87.77% and auc is 0.87\n"
     ]
    }
   ],
   "source": [
    "# Training final model on best auc and taking k = 17\n",
    "\n",
    "final_clf = KNeighborsClassifier(n_neighbors=17,algorithm='brute',leaf_size=30)\n",
    "\n",
    "final_clf.fit(train_sent_vectors,Y_train)\n",
    "\n",
    "predict_y = final_clf.predict(test_sent_vectors)\n",
    "predict_probab = final_clf.predict_proba(test_sent_vectors)[:,1] # This returns only probability of +ve class \n",
    "\n",
    "acc = accuracy_score(Y_test,predict_y,normalize=True)* float(100)\n",
    "auc = roc_auc_score(Y_test,predict_probab)\n",
    "print(\"Final Accuracy is {:.2f}% and auc is {:.2f}\".format(acc,auc))\n",
    "\n",
    "#print(\"For k = 29 final accuracy is {:.2f}% and auc is {:.2f}%\".format(acc,auc))"
   ]
  },
  {
   "cell_type": "code",
   "execution_count": 77,
   "metadata": {},
   "outputs": [
    {
     "name": "stdout",
     "output_type": "stream",
     "text": [
      "=========== Confusion matrix ==========\n"
     ]
    },
    {
     "data": {
      "image/png": "[encoded data removed]",
      "text/plain": [
       "<matplotlib.figure.Figure at 0x14c0f349470>"
      ]
     },
     "metadata": {},
     "output_type": "display_data"
    },
    {
     "name": "stdout",
     "output_type": "stream",
     "text": [
      "=========== Precision Matrix ==========\n"
     ]
    },
    {
     "data": {
      "image/png": "[encoded data removed]",
      "text/plain": [
       "<matplotlib.figure.Figure at 0x14c0f28cb38>"
      ]
     },
     "metadata": {},
     "output_type": "display_data"
    },
    {
     "name": "stdout",
     "output_type": "stream",
     "text": [
      "=========== Recall Matrix =============\n"
     ]
    },
    {
     "data": {
      "image/png": "[encoded data removed]",
      "text/plain": [
       "<matplotlib.figure.Figure at 0x14c3eb238d0>"
      ]
     },
     "metadata": {},
     "output_type": "display_data"
    }
   ],
   "source": [
    "# Calling confusion_matrix_plot\n",
    "\n",
    "confusion_matrix_plot(Y_test,predict_y)"
   ]
  },
  {
   "cell_type": "code",
   "execution_count": 78,
   "metadata": {},
   "outputs": [
    {
     "name": "stdout",
     "output_type": "stream",
     "text": [
      "             precision    recall  f1-score   support\n",
      "\n",
      "          0       0.72      0.35      0.47      2176\n",
      "          1       0.89      0.97      0.93     11646\n",
      "\n",
      "avg / total       0.86      0.88      0.86     13822\n",
      "\n"
     ]
    }
   ],
   "source": [
    "from sklearn.metrics import classification_report\n",
    "\n",
    "print(classification_report(Y_test,predict_y))"
   ]
  },
  {
   "cell_type": "code",
   "execution_count": 80,
   "metadata": {},
   "outputs": [
    {
     "data": {
      "image/png": "[encoded data removed]",
      "text/plain": [
       "<matplotlib.figure.Figure at 0x14c3e822b00>"
      ]
     },
     "metadata": {},
     "output_type": "display_data"
    }
   ],
   "source": [
    "# Plotting ROC Curve\n",
    "from sklearn.metrics import roc_curve\n",
    "\n",
    "fpr,tpr,threshold = roc_curve(Y_test,predict_y)\n",
    "\n",
    "plt.plot([0,1],[0,1])\n",
    "plt.plot(fpr,tpr)\n",
    "plt.xlabel(\"fpr\")\n",
    "plt.ylabel(\"tpr\")\n",
    "plt.title(\"ROC curve for KNN with k= 21\")\n",
    "plt.show()"
   ]
  },
  {
   "cell_type": "code",
   "execution_count": 81,
   "metadata": {},
   "outputs": [
    {
     "name": "stdout",
     "output_type": "stream",
     "text": [
      "Area under ROC curve is =0.878 \n"
     ]
    }
   ],
   "source": [
    "# Printing area under curve\n",
    "\n",
    "print(\"Area under ROC curve is ={:.3f} \".format(roc_auc_score(Y_test,predict_probab)))"
   ]
  },
  {
   "cell_type": "markdown",
   "metadata": {},
   "source": [
    "### [5.1.4] Applying KNN brute force on TFIDF W2V"
   ]
  },
  {
   "cell_type": "code",
   "execution_count": 173,
   "metadata": {},
   "outputs": [],
   "source": [
    "X_train,X_test,Y_train,Y_test = train_test_split(cleaned_reviews,Y,test_size=0.3,random_state=42)"
   ]
  },
  {
   "cell_type": "code",
   "execution_count": 174,
   "metadata": {},
   "outputs": [],
   "source": [
    "model = TfidfVectorizer()\n",
    "model.fit_transform(cleaned_reviews)\n",
    "tfidf_feat = model.get_feature_names()"
   ]
  },
  {
   "cell_type": "code",
   "execution_count": 175,
   "metadata": {},
   "outputs": [],
   "source": [
    "# Vectorizing train dataset\n",
    "\n",
    "# TF-IDF weighted Word2Vec\n",
    " # tfidf words/col-names\n",
    "# final_tf_idf is the sparse matrix with row= sentence, col=word and cell_val = tfidf\n",
    "\n",
    "train_tfidf_sent_vectors = []; # the tfidf-w2v for each sentence/review is stored in this list\n",
    "row=0;\n",
    "for sent in X_train: # for each review/sentence \n",
    "    sent_vec = np.zeros(50) # as word vectors are of zero length\n",
    "    weight_sum =0; # num of words with a valid vector in the sentence/review\n",
    "    for word in sent: # for each word in a review/sentence\n",
    "        if word in w2v_words and word in tfidf_feat:\n",
    "            vec = w2v_model.wv[word]\n",
    "            #tf_idf = tf_idf_matrix[row, tfidf_feat.index(word)]\n",
    "            # to reduce the computation we are \n",
    "            # dictionary[word] = idf value of word in whole courpus\n",
    "            # sent.count(word) = tf values of word in this review\n",
    "            tf_idf = dictionary[word]*(sent.count(word)/len(sent))\n",
    "            sent_vec += (vec * tf_idf)\n",
    "            weight_sum += 1\n",
    "    if weight_sum != 0:\n",
    "        sent_vec /= weight_sum\n",
    "    train_tfidf_sent_vectors.append(sent_vec)\n",
    "    row += 1\n"
   ]
  },
  {
   "cell_type": "code",
   "execution_count": 176,
   "metadata": {},
   "outputs": [],
   "source": [
    "outfile = open(\"tfidf_w2v_train_vect\",\"wb\")\n",
    "pickle.dump(train_tfidf_sent_vectors,outfile)\n",
    "outfile.close()"
   ]
  },
  {
   "cell_type": "code",
   "execution_count": 146,
   "metadata": {},
   "outputs": [],
   "source": [
    "infile = open(\"tfidf_w2v_train_vect\",\"rb\")\n",
    "train_tfidf_sent_vectors = pickle.load(infile)\n",
    "infile.close()"
   ]
  },
  {
   "cell_type": "code",
   "execution_count": 177,
   "metadata": {},
   "outputs": [],
   "source": [
    "# TF-IDF weighted Word2Vec\n",
    "model.fit_transform(X_test)\n",
    "tfidf_feat = model.get_feature_names()\n",
    "test_tfidf_sent_vectors = []; # the tfidf-w2v for each sentence/review is stored in this list\n",
    "row=0;\n",
    "for sent in X_test: # for each review/sentence \n",
    "    sent_vec = np.zeros(50) # as word vectors are of zero length\n",
    "    weight_sum =0; # num of words with a valid vector in the sentence/review\n",
    "    for word in sent: # for each word in a review/sentence\n",
    "        if word in w2v_words and word in tfidf_feat:\n",
    "            vec = w2v_model.wv[word]\n",
    "            #tf_idf = tf_idf_matrix[row, tfidf_feat.index(word)]\n",
    "            # to reduce the computation we are \n",
    "            # dictionary[word] = idf value of word in whole courpus\n",
    "            # sent.count(word) = tf values of word in this review\n",
    "            tf_idf = dictionary[word]*(sent.count(word)/len(sent))\n",
    "            sent_vec += (vec * tf_idf)\n",
    "            weight_sum +=1\n",
    "    if weight_sum != 0:\n",
    "        sent_vec /= weight_sum\n",
    "    test_tfidf_sent_vectors.append(sent_vec)\n",
    "    row += 1"
   ]
  },
  {
   "cell_type": "code",
   "execution_count": 178,
   "metadata": {},
   "outputs": [],
   "source": [
    "outfile = open(\"tfidf_w2v_test_vect\",\"wb\")\n",
    "pickle.dump(test_tfidf_sent_vectors,outfile)\n",
    "outfile.close()"
   ]
  },
  {
   "cell_type": "code",
   "execution_count": 179,
   "metadata": {},
   "outputs": [
    {
     "name": "stdout",
     "output_type": "stream",
     "text": [
      "Cross Validation Accuracy for k = 1 is 82.09% and auc is 0.67\n",
      "Cross Validation Accuracy for k = 3 is 85.13% and auc is 0.77\n",
      "Cross Validation Accuracy for k = 5 is 85.80% and auc is 0.81\n",
      "Cross Validation Accuracy for k = 7 is 86.30% and auc is 0.83\n",
      "Cross Validation Accuracy for k = 9 is 86.54% and auc is 0.84\n",
      "Cross Validation Accuracy for k = 11 is 86.58% and auc is 0.85\n",
      "Cross Validation Accuracy for k = 13 is 86.59% and auc is 0.86\n",
      "Cross Validation Accuracy for k = 15 is 86.67% and auc is 0.86\n",
      "Cross Validation Accuracy for k = 17 is 86.71% and auc is 0.86\n",
      "Cross Validation Accuracy for k = 19 is 86.73% and auc is 0.87\n",
      "Cross Validation Accuracy for k = 21 is 86.72% and auc is 0.87\n",
      "Cross Validation Accuracy for k = 23 is 86.70% and auc is 0.87\n",
      "Cross Validation Accuracy for k = 25 is 86.69% and auc is 0.87\n",
      "Cross Validation Accuracy for k = 27 is 86.62% and auc is 0.87\n",
      "Cross Validation Accuracy for k = 29 is 86.65% and auc is 0.87\n"
     ]
    }
   ],
   "source": [
    "# 10 fold cross validation using time series splitting\n",
    "\n",
    "acc_list = []\n",
    "auc_list = []\n",
    "\n",
    "for k in range(1,30,2):\n",
    "    # KNN Classifier\n",
    "    clf = KNeighborsClassifier(n_neighbors=k,algorithm='brute',leaf_size=30)\n",
    "    i=0\n",
    "    acc=0.0\n",
    "    auc=0.0\n",
    "    for train_index,test_index in tscv.split(train_tfidf_sent_vectors):\n",
    "        x_train = train_sent_vectors[0:train_index[-1]][:] # row 0 to train_index(excluding)\n",
    "        y_train = Y_train[0:train_index[-1]][:] # row 0 to train_index(excluding)\n",
    "        x_test = train_sent_vectors[train_index[-1]:test_index[-1]][:] # row from train_index to test_index will be selected\n",
    "        y_test = Y_train[train_index[-1]:test_index[-1]][:] # row from train_index to test_index(excluding) will be selected\n",
    "    \n",
    "        clf.fit(x_train,y_train)\n",
    "    \n",
    "        predict_y = clf.predict(x_test)\n",
    "        predict_probab = clf.predict_proba(x_test)[:,1]\n",
    "        i += 1\n",
    "        acc += accuracy_score(y_test,predict_y,normalize=True) * float(100)\n",
    "        auc += roc_auc_score(y_test,predict_probab)\n",
    "    \n",
    "    acc_list.append(acc)\n",
    "    auc_list.append(auc)\n",
    "    print(\"Cross Validation Accuracy for k = {:d} is {:.2f}% and auc is {:.2f}\".format(k,acc/i,auc/i))"
   ]
  },
  {
   "cell_type": "code",
   "execution_count": 180,
   "metadata": {},
   "outputs": [
    {
     "data": {
      "image/png": "[encoded data removed]",
      "text/plain": [
       "<matplotlib.figure.Figure at 0x1a2a7c0ccf8>"
      ]
     },
     "metadata": {},
     "output_type": "display_data"
    }
   ],
   "source": [
    "import matplotlib.pyplot as plt\n",
    "\n",
    "# Plotting graph of auc and parameter\n",
    "\n",
    "plt.plot(param_list,auc_list)\n",
    "plt.xlabel(\"Parameter for K-NN\")\n",
    "plt.ylabel(\"Area Under Curve\")\n",
    "plt.title(\"Plot of parameter Vs AUC \")\n",
    "plt.show()"
   ]
  },
  {
   "cell_type": "code",
   "execution_count": 181,
   "metadata": {},
   "outputs": [
    {
     "data": {
      "image/png": "[encoded data removed]",
      "text/plain": [
       "<matplotlib.figure.Figure at 0x1a2a7c0ca90>"
      ]
     },
     "metadata": {},
     "output_type": "display_data"
    }
   ],
   "source": [
    "plt.plot(param_list,acc_list)\n",
    "plt.xlabel(\"Parameter for K-NN\")\n",
    "plt.ylabel(\"Accuracy\")\n",
    "plt.title(\"Plot of parameter Vs Accuracy \")\n",
    "plt.show()"
   ]
  },
  {
   "cell_type": "code",
   "execution_count": 182,
   "metadata": {},
   "outputs": [
    {
     "name": "stdout",
     "output_type": "stream",
     "text": [
      "Final Accuracy is 84.26% and auc is 0.50\n"
     ]
    }
   ],
   "source": [
    "# Training final model on best auc and taking k = 17\n",
    "\n",
    "final_clf = KNeighborsClassifier(n_neighbors=21,algorithm='brute',leaf_size=30)\n",
    "\n",
    "final_clf.fit(train_tfidf_sent_vectors,Y_train)\n",
    "\n",
    "predict_y = final_clf.predict(test_tfidf_sent_vectors)\n",
    "predict_probab = final_clf.predict_proba(test_tfidf_sent_vectors)[:,1] # This returns only probability of +ve class \n",
    "\n",
    "acc = accuracy_score(Y_test,predict_y,normalize=True)* float(100)\n",
    "auc = roc_auc_score(Y_test,predict_probab)\n",
    "print(\"Final Accuracy is {:.2f}% and auc is {:.2f}\".format(acc,auc))\n"
   ]
  },
  {
   "cell_type": "code",
   "execution_count": 183,
   "metadata": {},
   "outputs": [
    {
     "name": "stdout",
     "output_type": "stream",
     "text": [
      "=========== Confusion matrix ==========\n"
     ]
    },
    {
     "data": {
      "image/png": "[encoded data removed]",
      "text/plain": [
       "<matplotlib.figure.Figure at 0x1a2c2905dd8>"
      ]
     },
     "metadata": {},
     "output_type": "display_data"
    },
    {
     "name": "stdout",
     "output_type": "stream",
     "text": [
      "=========== Precision Matrix ==========\n"
     ]
    },
    {
     "data": {
      "image/png": "[encoded data removed]",
      "text/plain": [
       "<matplotlib.figure.Figure at 0x1a29ee3cc18>"
      ]
     },
     "metadata": {},
     "output_type": "display_data"
    },
    {
     "name": "stdout",
     "output_type": "stream",
     "text": [
      "=========== Recall Matrix =============\n"
     ]
    },
    {
     "data": {
      "image/png": "[encoded data removed]",
      "text/plain": [
       "<matplotlib.figure.Figure at 0x1a2c3d77cc0>"
      ]
     },
     "metadata": {},
     "output_type": "display_data"
    }
   ],
   "source": [
    "# Calling confusion_matrix_plot\n",
    "\n",
    "confusion_matrix_plot(Y_test,predict_y)"
   ]
  },
  {
   "cell_type": "code",
   "execution_count": 184,
   "metadata": {},
   "outputs": [
    {
     "name": "stdout",
     "output_type": "stream",
     "text": [
      "             precision    recall  f1-score   support\n",
      "\n",
      "          0       0.00      0.00      0.00      2176\n",
      "          1       0.84      1.00      0.91     11646\n",
      "\n",
      "avg / total       0.71      0.84      0.77     13822\n",
      "\n"
     ]
    }
   ],
   "source": [
    "from sklearn.metrics import classification_report\n",
    "\n",
    "print(classification_report(Y_test,predict_y))"
   ]
  },
  {
   "cell_type": "code",
   "execution_count": 185,
   "metadata": {},
   "outputs": [
    {
     "data": {
      "image/png": "[encoded data removed]",
      "text/plain": [
       "<matplotlib.figure.Figure at 0x1a2c398f898>"
      ]
     },
     "metadata": {},
     "output_type": "display_data"
    },
    {
     "name": "stdout",
     "output_type": "stream",
     "text": [
      "Area under ROC curve is =0.500 \n"
     ]
    }
   ],
   "source": [
    "# Plotting ROC Curve\n",
    "from sklearn.metrics import roc_curve\n",
    "\n",
    "fpr,tpr,threshold = roc_curve(Y_test,predict_y)\n",
    "\n",
    "plt.plot([0,1],[0,1])\n",
    "plt.plot(fpr,tpr)\n",
    "plt.xlabel(\"fpr\")\n",
    "plt.ylabel(\"tpr\")\n",
    "plt.title(\"ROC curve for KNN with k= 21\")\n",
    "plt.show()\n",
    "\n",
    "# Printing area under curve\n",
    "\n",
    "print(\"Area under ROC curve is ={:.3f} \".format(roc_auc_score(Y_test,predict_probab)))"
   ]
  },
  {
   "cell_type": "markdown",
   "metadata": {},
   "source": [
    "## [5.2] Applying KNN kd-tree"
   ]
  },
  {
   "cell_type": "markdown",
   "metadata": {},
   "source": [
    "### [5.2.1] Applying KNN kd-tree on BOW,<font color='red'> SET 5</font>"
   ]
  },
  {
   "cell_type": "code",
   "execution_count": 60,
   "metadata": {},
   "outputs": [
    {
     "name": "stdout",
     "output_type": "stream",
     "text": [
      "32249 13822\n"
     ]
    }
   ],
   "source": [
    "# Kd tree works slow for high dimensional data.\n",
    "# Therefore taking top 5000 features\n",
    "count_vect = CountVectorizer(max_features=5000)\n",
    "\n",
    "X = cleaned_reviews\n",
    "# Splitting data into train and test dataset\n",
    "X_train,X_test,Y_train,Y_test = train_test_split(X,Y,test_size=0.3,random_state=42)\n",
    "print(len(X_train),len(X_test))"
   ]
  },
  {
   "cell_type": "code",
   "execution_count": 61,
   "metadata": {},
   "outputs": [
    {
     "data": {
      "text/plain": [
       "(13822, 5000)"
      ]
     },
     "execution_count": 61,
     "metadata": {},
     "output_type": "execute_result"
    }
   ],
   "source": [
    "# Vectorizing train and test dataset seperately\n",
    "X_train = count_vect.fit_transform(X_train)\n",
    "X_train.shape\n",
    "\n",
    "X_test = count_vect.transform(X_test)\n",
    "X_test.shape"
   ]
  },
  {
   "cell_type": "code",
   "execution_count": 68,
   "metadata": {},
   "outputs": [
    {
     "name": "stdout",
     "output_type": "stream",
     "text": [
      "Cross Validation Accuracy for k = 1 is 77.79% and auc is 0.58\n",
      "Cross Validation Accuracy for k = 3 is 82.71% and auc is 0.63\n",
      "Cross Validation Accuracy for k = 5 is 83.07% and auc is 0.65\n",
      "Cross Validation Accuracy for k = 7 is 83.23% and auc is 0.65\n",
      "Cross Validation Accuracy for k = 9 is 83.31% and auc is 0.66\n",
      "Cross Validation Accuracy for k = 11 is 83.37% and auc is 0.66\n",
      "Cross Validation Accuracy for k = 13 is 83.37% and auc is 0.67\n",
      "Cross Validation Accuracy for k = 15 is 83.35% and auc is 0.67\n",
      "Cross Validation Accuracy for k = 17 is 83.42% and auc is 0.67\n",
      "Cross Validation Accuracy for k = 19 is 83.43% and auc is 0.67\n",
      "Cross Validation Accuracy for k = 21 is 83.43% and auc is 0.68\n",
      "Cross Validation Accuracy for k = 23 is 83.48% and auc is 0.68\n",
      "Cross Validation Accuracy for k = 25 is 83.44% and auc is 0.68\n",
      "Cross Validation Accuracy for k = 27 is 83.47% and auc is 0.69\n",
      "Cross Validation Accuracy for k = 29 is 83.44% and auc is 0.69\n"
     ]
    }
   ],
   "source": [
    "# Performing 10 fold cross validation on time split data\n",
    "from sklearn.neighbors import KNeighborsClassifier\n",
    "from sklearn.model_selection import TimeSeriesSplit\n",
    "\n",
    "tscv = TimeSeriesSplit(n_splits=10)\n",
    "\n",
    "param_list=[1,3,5,7,9,11,13,15,17,19,21,23,25,27,19]\n",
    "auc_list = []\n",
    "acc_list = []\n",
    "\n",
    "for k in range(1,30,2):\n",
    "    clf = KNeighborsClassifier(n_neighbors=k,algorithm='kd_tree',leaf_size=40)\n",
    "    acc = 0.0\n",
    "    auc = 0.0\n",
    "    i=0\n",
    "    for train_index,test_index in tscv.split(X_train):\n",
    "        x_train = X_train[0:train_index[-1]][:] # row 0 to train_index(excluding)\n",
    "        y_train = Y_train[0:train_index[-1]][:] # row 0 to train_index(excluding)\n",
    "        x_test = X_train[train_index[-1]:test_index[-1]][:] # row from train_index to test_index will be selected\n",
    "        y_test = Y_train[train_index[-1]:test_index[-1]][:] # row from train_index to test_index(excluding) will be selected\n",
    "    \n",
    "        clf.fit(x_train,y_train)\n",
    "    \n",
    "        predict_y = clf.predict(x_test)\n",
    "        predict_probab = clf.predict_proba(x_test)[:,1]\n",
    "        i += 1\n",
    "        acc += accuracy_score(y_test,predict_y,normalize=True) * float(100)\n",
    "        auc += roc_auc_score(y_test,predict_probab)\n",
    "    \n",
    "    auc_list.append(auc)\n",
    "    acc_list.append(acc)\n",
    "    print(\"Cross Validation Accuracy for k = {:d} is {:.2f}% and auc is {:.2f}\".format(k,acc/i,auc/i))\n",
    "    "
   ]
  },
  {
   "cell_type": "code",
   "execution_count": 69,
   "metadata": {},
   "outputs": [
    {
     "data": {
      "image/png": "[encoded data removed]",
      "text/plain": [
       "<matplotlib.figure.Figure at 0x1a29db93a90>"
      ]
     },
     "metadata": {},
     "output_type": "display_data"
    }
   ],
   "source": [
    "import matplotlib.pyplot as plt\n",
    "\n",
    "# Plotting graph of auc and parameter\n",
    "\n",
    "plt.plot(param_list,auc_list)\n",
    "plt.xlabel(\"Parameter for K-NN\")\n",
    "plt.ylabel(\"Area Under Curve\")\n",
    "plt.title(\"Plot of parameter Vs AUC \")\n",
    "plt.show()"
   ]
  },
  {
   "cell_type": "code",
   "execution_count": 73,
   "metadata": {},
   "outputs": [
    {
     "data": {
      "image/png": "[encoded data removed]",
      "text/plain": [
       "<matplotlib.figure.Figure at 0x1a29e604908>"
      ]
     },
     "metadata": {},
     "output_type": "display_data"
    }
   ],
   "source": [
    "# Plotting graph of accuracy and parameter\n",
    "\n",
    "acc_list = [x*10.0 for x in acc_list]\n",
    "\n",
    "plt.plot(param_list,acc_list)\n",
    "plt.xlabel(\"Parameter for K-NN\")\n",
    "plt.ylabel(\"Accuracy\")\n",
    "plt.title(\"Plot of parameter Vs Accuracy \")\n",
    "plt.show()"
   ]
  },
  {
   "cell_type": "code",
   "execution_count": 75,
   "metadata": {},
   "outputs": [
    {
     "name": "stdout",
     "output_type": "stream",
     "text": [
      "Accuracy of model for k = 25 is 83.89 and AUC is 0.68\n"
     ]
    }
   ],
   "source": [
    "# Testing final model for k = 25\n",
    "\n",
    "final_clf = KNeighborsClassifier(n_neighbors=25,algorithm='kd_tree',leaf_size=40)\n",
    "final_clf.fit(X_train,Y_train)\n",
    "\n",
    "predict_y = final_clf.predict(X_test)\n",
    "predict_probab = final_clf.predict_proba(X_test)[:,1]\n",
    "\n",
    "acc = accuracy_score(Y_test,predict_y,normalize=True)* float(100)\n",
    "auc = roc_auc_score(Y_test,predict_probab)\n",
    "\n",
    "print(\"Accuracy of model for k = 25 is {:.2f} and AUC is {:.2f}\".format(acc,auc))"
   ]
  },
  {
   "cell_type": "code",
   "execution_count": 76,
   "metadata": {},
   "outputs": [
    {
     "name": "stdout",
     "output_type": "stream",
     "text": [
      "=========== Confusion matrix ==========\n"
     ]
    },
    {
     "data": {
      "image/png": "[encoded data removed]",
      "text/plain": [
       "<matplotlib.figure.Figure at 0x1a29e604828>"
      ]
     },
     "metadata": {},
     "output_type": "display_data"
    },
    {
     "name": "stdout",
     "output_type": "stream",
     "text": [
      "=========== Precision Matrix ==========\n"
     ]
    },
    {
     "data": {
      "image/png": "[encoded data removed]",
      "text/plain": [
       "<matplotlib.figure.Figure at 0x1a29eb110b8>"
      ]
     },
     "metadata": {},
     "output_type": "display_data"
    },
    {
     "name": "stdout",
     "output_type": "stream",
     "text": [
      "=========== Recall Matrix =============\n"
     ]
    },
    {
     "data": {
      "image/png": "[encoded data removed]",
      "text/plain": [
       "<matplotlib.figure.Figure at 0x1a29e6f0080>"
      ]
     },
     "metadata": {},
     "output_type": "display_data"
    }
   ],
   "source": [
    "# Plotting confusion matrix plot\n",
    "confusion_matrix_plot(Y_test,predict_y)"
   ]
  },
  {
   "cell_type": "code",
   "execution_count": 77,
   "metadata": {},
   "outputs": [
    {
     "name": "stdout",
     "output_type": "stream",
     "text": [
      "             precision    recall  f1-score   support\n",
      "\n",
      "          0       0.46      0.14      0.21      2176\n",
      "          1       0.86      0.97      0.91     11646\n",
      "\n",
      "avg / total       0.79      0.84      0.80     13822\n",
      "\n"
     ]
    }
   ],
   "source": [
    "from sklearn.metrics import classification_report\n",
    "\n",
    "print(classification_report(Y_test,predict_y))"
   ]
  },
  {
   "cell_type": "code",
   "execution_count": 78,
   "metadata": {},
   "outputs": [
    {
     "data": {
      "image/png": "[encoded data removed]",
      "text/plain": [
       "<matplotlib.figure.Figure at 0x1a2bc964f60>"
      ]
     },
     "metadata": {},
     "output_type": "display_data"
    },
    {
     "name": "stdout",
     "output_type": "stream",
     "text": [
      "Area under ROC curve is =0.681 \n"
     ]
    }
   ],
   "source": [
    "# Plotting ROC Curve\n",
    "from sklearn.metrics import roc_curve\n",
    "\n",
    "fpr,tpr,threshold = roc_curve(Y_test,predict_y)\n",
    "\n",
    "plt.plot([0,1],[0,1])\n",
    "plt.plot(fpr,tpr)\n",
    "plt.xlabel(\"fpr\")\n",
    "plt.ylabel(\"tpr\")\n",
    "plt.title(\"ROC curve for KNN with k= 21\")\n",
    "plt.show()\n",
    "\n",
    "# Printing area under curve\n",
    "\n",
    "print(\"Area under ROC curve is ={:.3f} \".format(roc_auc_score(Y_test,predict_probab)))"
   ]
  },
  {
   "cell_type": "code",
   "execution_count": 79,
   "metadata": {},
   "outputs": [
    {
     "name": "stdout",
     "output_type": "stream",
     "text": [
      "Area under ROC curve is =0.681 \n"
     ]
    }
   ],
   "source": [
    "# Printing area under curve\n",
    "\n",
    "print(\"Area under ROC curve is ={:.3f} \".format(roc_auc_score(Y_test,predict_probab)))"
   ]
  },
  {
   "cell_type": "markdown",
   "metadata": {},
   "source": [
    "### [5.2.2] Applying KNN kd-tree on TFIDF,<font color='red'> SET 6</font>"
   ]
  },
  {
   "cell_type": "code",
   "execution_count": 80,
   "metadata": {},
   "outputs": [],
   "source": [
    "# In this section Tfidf will be used for vectorization\n",
    "# Splitting datasets into train and test datasets\n",
    "\n",
    "tf_idf_vect = TfidfVectorizer(max_features=5000)\n",
    "\n",
    "X_train,X_test,Y_train,Y_test = train_test_split(X,Y,test_size=0.3,random_state=42)\n",
    "\n",
    "# Now we will vectorize train and test datasets separately using Tfidf \n",
    "# Use fit_transform to vectorize train dataset and transform to vectorize test dataset\n",
    "X_train = tf_idf_vect.fit_transform(X_train)\n",
    "X_test = tf_idf_vect.transform(X_test)"
   ]
  },
  {
   "cell_type": "code",
   "execution_count": 87,
   "metadata": {},
   "outputs": [
    {
     "name": "stdout",
     "output_type": "stream",
     "text": [
      "Cross Validation Accuracy for k = 1 is 82.72% and auc is 0.51\n",
      "Cross Validation Accuracy for k = 3 is 83.21% and auc is 0.51\n",
      "Cross Validation Accuracy for k = 5 is 83.17% and auc is 0.52\n",
      "Cross Validation Accuracy for k = 7 is 83.24% and auc is 0.53\n",
      "Cross Validation Accuracy for k = 9 is 83.25% and auc is 0.53\n",
      "Cross Validation Accuracy for k = 11 is 83.25% and auc is 0.53\n",
      "Cross Validation Accuracy for k = 13 is 83.27% and auc is 0.53\n",
      "Cross Validation Accuracy for k = 15 is 83.25% and auc is 0.53\n",
      "Cross Validation Accuracy for k = 17 is 83.25% and auc is 0.55\n",
      "Cross Validation Accuracy for k = 19 is 83.25% and auc is 0.56\n",
      "Cross Validation Accuracy for k = 21 is 83.25% and auc is 0.56\n",
      "Cross Validation Accuracy for k = 23 is 83.25% and auc is 0.58\n",
      "Cross Validation Accuracy for k = 25 is 83.25% and auc is 0.59\n",
      "Cross Validation Accuracy for k = 27 is 83.24% and auc is 0.59\n",
      "Cross Validation Accuracy for k = 29 is 83.24% and auc is 0.60\n"
     ]
    }
   ],
   "source": [
    "# Performing 10 fold cross validation on time series split data\n",
    "\n",
    "auc_list=[]\n",
    "acc_list=[]\n",
    "for k in range(1,30,2):\n",
    "    # KNN Classifier\n",
    "    clf = KNeighborsClassifier(n_neighbors=k,algorithm='kd_tree',leaf_size=40)\n",
    "    i=0\n",
    "    acc=0.0\n",
    "    auc=0.0\n",
    "    \n",
    "    for train_index,test_index in tscv.split(X_train):\n",
    "        x_train = X_train[0:train_index[-1]][:] # row 0 to train_index(excluding)\n",
    "        y_train = Y_train[0:train_index[-1]][:] # row 0 to train_index(excluding)\n",
    "        x_test = X_train[train_index[-1]:test_index[-1]][:] # row from train_index to test_index(excluding) will be selected\n",
    "        y_test = Y_train[train_index[-1]:test_index[-1]][:] # row from train_index to test_index(excluding) will be selected\n",
    "    \n",
    "        clf.fit(x_train,y_train)\n",
    "    \n",
    "        predict_y = clf.predict(x_test)\n",
    "        predict_probab = clf.predict_proba(x_test)[:,1]\n",
    "        i += 1\n",
    "        acc += accuracy_score(y_test,predict_y,normalize=True) * float(100)\n",
    "        auc += roc_auc_score(y_test,predict_probab)\n",
    "        \n",
    "    auc_list.append(auc)\n",
    "    acc_list.append(acc)\n",
    "    \n",
    "    print(\"Cross Validation Accuracy for k = {:d} is {:.2f}% and auc is {:.2f}\".format(k,acc/i,auc/i))\n",
    "        "
   ]
  },
  {
   "cell_type": "code",
   "execution_count": 88,
   "metadata": {},
   "outputs": [
    {
     "data": {
      "image/png": "[encoded data removed]",
      "text/plain": [
       "<matplotlib.figure.Figure at 0x1a29e929b00>"
      ]
     },
     "metadata": {},
     "output_type": "display_data"
    }
   ],
   "source": [
    "import matplotlib.pyplot as plt\n",
    "\n",
    "# Plotting graph of auc and parameter\n",
    "\n",
    "plt.plot(param_list,auc_list)\n",
    "plt.xlabel(\"Parameter for K-NN\")\n",
    "plt.ylabel(\"Area Under Curve\")\n",
    "plt.title(\"Plot of parameter Vs AUC \")\n",
    "plt.show()"
   ]
  },
  {
   "cell_type": "code",
   "execution_count": 89,
   "metadata": {},
   "outputs": [
    {
     "data": {
      "image/png": "[encoded data removed]",
      "text/plain": [
       "<matplotlib.figure.Figure at 0x1a29e48d898>"
      ]
     },
     "metadata": {},
     "output_type": "display_data"
    }
   ],
   "source": [
    "import matplotlib.pyplot as plt\n",
    "\n",
    "# Plotting graph of accuracy and parameter\n",
    "\n",
    "plt.plot(param_list,acc_list)\n",
    "plt.xlabel(\"Parameter for K-NN\")\n",
    "plt.ylabel(\"Accuracy\")\n",
    "plt.title(\"Plot of parameter Vs Accuracy \")\n",
    "plt.show()"
   ]
  },
  {
   "cell_type": "code",
   "execution_count": 90,
   "metadata": {},
   "outputs": [
    {
     "name": "stdout",
     "output_type": "stream",
     "text": [
      "Final Accuracy is 84.26% and auc is 0.53\n"
     ]
    }
   ],
   "source": [
    "# Training final model on best auc and taking k = 25\n",
    "\n",
    "final_clf = KNeighborsClassifier(n_neighbors=25,algorithm='brute',leaf_size=30)\n",
    "\n",
    "final_clf.fit(X_train,Y_train)\n",
    "\n",
    "predict_y = final_clf.predict(X_test)\n",
    "predict_probab = final_clf.predict_proba(X_test)[:,1] # This returns only probability of +ve class \n",
    "\n",
    "acc = accuracy_score(Y_test,predict_y,normalize=True)* float(100)\n",
    "auc = roc_auc_score(Y_test,predict_probab)\n",
    "print(\"Final Accuracy is {:.2f}% and auc is {:.2f}\".format(acc,auc))\n",
    "\n",
    "#print(\"For k = 25 final accuracy is {:.2f}% and auc is {:.3f}%\".format(acc,auc))"
   ]
  },
  {
   "cell_type": "code",
   "execution_count": 91,
   "metadata": {},
   "outputs": [
    {
     "name": "stdout",
     "output_type": "stream",
     "text": [
      "=========== Confusion matrix ==========\n"
     ]
    },
    {
     "data": {
      "image/png": "[encoded data removed]",
      "text/plain": [
       "<matplotlib.figure.Figure at 0x1a29e48d438>"
      ]
     },
     "metadata": {},
     "output_type": "display_data"
    },
    {
     "name": "stdout",
     "output_type": "stream",
     "text": [
      "=========== Precision Matrix ==========\n"
     ]
    },
    {
     "data": {
      "image/png": "[encoded data removed]",
      "text/plain": [
       "<matplotlib.figure.Figure at 0x1a298beebe0>"
      ]
     },
     "metadata": {},
     "output_type": "display_data"
    },
    {
     "name": "stdout",
     "output_type": "stream",
     "text": [
      "=========== Recall Matrix =============\n"
     ]
    },
    {
     "data": {
      "image/png": "[encoded data removed]",
      "text/plain": [
       "<matplotlib.figure.Figure at 0x1a29c8bf1d0>"
      ]
     },
     "metadata": {},
     "output_type": "display_data"
    }
   ],
   "source": [
    "# Calling confusion_matrix_plot\n",
    "\n",
    "confusion_matrix_plot(Y_test,predict_y)"
   ]
  },
  {
   "cell_type": "code",
   "execution_count": 92,
   "metadata": {},
   "outputs": [
    {
     "name": "stdout",
     "output_type": "stream",
     "text": [
      "             precision    recall  f1-score   support\n",
      "\n",
      "          0       0.00      0.00      0.00      2176\n",
      "          1       0.84      1.00      0.91     11646\n",
      "\n",
      "avg / total       0.71      0.84      0.77     13822\n",
      "\n"
     ]
    }
   ],
   "source": [
    "from sklearn.metrics import classification_report\n",
    "\n",
    "print(classification_report(Y_test,predict_y))"
   ]
  },
  {
   "cell_type": "code",
   "execution_count": 93,
   "metadata": {},
   "outputs": [
    {
     "data": {
      "image/png": "[encoded data removed]",
      "text/plain": [
       "<matplotlib.figure.Figure at 0x1a29dfc3860>"
      ]
     },
     "metadata": {},
     "output_type": "display_data"
    }
   ],
   "source": [
    "# Plotting ROC Curve\n",
    "from sklearn.metrics import roc_curve\n",
    "\n",
    "fpr,tpr,threshold = roc_curve(Y_test,predict_y)\n",
    "\n",
    "plt.plot([0,1],[0,1])\n",
    "plt.plot(fpr,tpr)\n",
    "plt.xlabel(\"fpr\")\n",
    "plt.ylabel(\"tpr\")\n",
    "plt.title(\"ROC curve for KNN with k= 11\")\n",
    "plt.show()"
   ]
  },
  {
   "cell_type": "code",
   "execution_count": 94,
   "metadata": {},
   "outputs": [
    {
     "name": "stdout",
     "output_type": "stream",
     "text": [
      "Area under ROC curve is =0.528 \n"
     ]
    }
   ],
   "source": [
    "# Printing area under curve\n",
    "\n",
    "print(\"Area under ROC curve is ={:.3f} \".format(roc_auc_score(Y_test,predict_probab)))"
   ]
  },
  {
   "cell_type": "markdown",
   "metadata": {},
   "source": [
    "### [5.2.3] Applying KNN kd-tree on AVG W2V,<font color='red'> SET 3</font>"
   ]
  },
  {
   "cell_type": "code",
   "execution_count": 106,
   "metadata": {},
   "outputs": [
    {
     "name": "stdout",
     "output_type": "stream",
     "text": [
      "Cross Validation Accuracy for k = 1 is 82.08% and auc is 0.67\n",
      "Cross Validation Accuracy for k = 3 is 85.13% and auc is 0.77\n",
      "Cross Validation Accuracy for k = 5 is 85.80% and auc is 0.81\n",
      "Cross Validation Accuracy for k = 7 is 86.30% and auc is 0.83\n",
      "Cross Validation Accuracy for k = 9 is 86.54% and auc is 0.84\n",
      "Cross Validation Accuracy for k = 11 is 86.58% and auc is 0.85\n",
      "Cross Validation Accuracy for k = 13 is 86.59% and auc is 0.86\n",
      "Cross Validation Accuracy for k = 15 is 86.67% and auc is 0.86\n",
      "Cross Validation Accuracy for k = 17 is 86.71% and auc is 0.86\n",
      "Cross Validation Accuracy for k = 19 is 86.73% and auc is 0.87\n",
      "Cross Validation Accuracy for k = 21 is 86.72% and auc is 0.87\n",
      "Cross Validation Accuracy for k = 23 is 86.70% and auc is 0.87\n",
      "Cross Validation Accuracy for k = 25 is 86.69% and auc is 0.87\n",
      "Cross Validation Accuracy for k = 27 is 86.62% and auc is 0.87\n",
      "Cross Validation Accuracy for k = 29 is 86.65% and auc is 0.87\n"
     ]
    }
   ],
   "source": [
    "# 10 fold cross validation using time series splitting\n",
    "# Here X_train is train_sent_vectors and X_test is test_sent_vectors\n",
    "# Here vectorization results of previous section is used . Only KNN algorithm is changed\n",
    "\n",
    "auc_list=[]\n",
    "acc_list=[]\n",
    "for k in range(1,30,2):\n",
    "    # KNN Classifier\n",
    "    clf = KNeighborsClassifier(n_neighbors=k,algorithm='kd_tree',leaf_size=40,n_jobs=3)\n",
    "    i=0\n",
    "    acc=0.0\n",
    "    auc=0.0\n",
    "    for train_index,test_index in tscv.split(train_sent_vectors):\n",
    "        x_train = train_sent_vectors[0:train_index[-1]][:] # row 0 to train_index(excluding)\n",
    "        y_train = Y_train[0:train_index[-1]][:] # row 0 to train_index(excluding)\n",
    "        x_test = train_sent_vectors[train_index[-1]:test_index[-1]][:] # row from train_index to test_index will be selected\n",
    "        y_test = Y_train[train_index[-1]:test_index[-1]][:] # row from train_index to test_index(excluding) will be selected\n",
    "    \n",
    "        clf.fit(x_train,y_train)\n",
    "    \n",
    "        predict_y = clf.predict(x_test)\n",
    "        predict_probab = clf.predict_proba(x_test)[:,1]\n",
    "        i += 1\n",
    "        acc += accuracy_score(y_test,predict_y,normalize=True) * float(100)\n",
    "        auc += roc_auc_score(y_test,predict_probab)\n",
    "    \n",
    "    auc_list.append(auc)\n",
    "    acc_list.append(acc)\n",
    "    print(\"Cross Validation Accuracy for k = {:d} is {:.2f}% and auc is {:.2f}\".format(k,acc/i,auc/i))"
   ]
  },
  {
   "cell_type": "code",
   "execution_count": 107,
   "metadata": {},
   "outputs": [
    {
     "data": {
      "image/png": "[encoded data removed]",
      "text/plain": [
       "<matplotlib.figure.Figure at 0x1a29d2ec9e8>"
      ]
     },
     "metadata": {},
     "output_type": "display_data"
    }
   ],
   "source": [
    "import matplotlib.pyplot as plt\n",
    "\n",
    "# Plotting graph of auc and parameter\n",
    "\n",
    "plt.plot(param_list,auc_list)\n",
    "plt.xlabel(\"Parameter for K-NN\")\n",
    "plt.ylabel(\"Area Under Curve\")\n",
    "plt.title(\"Plot of parameter Vs AUC \")\n",
    "plt.show()"
   ]
  },
  {
   "cell_type": "code",
   "execution_count": 108,
   "metadata": {},
   "outputs": [
    {
     "data": {
      "image/png": "[encoded data removed]",
      "text/plain": [
       "<matplotlib.figure.Figure at 0x1a29d1fa940>"
      ]
     },
     "metadata": {},
     "output_type": "display_data"
    }
   ],
   "source": [
    "\n",
    "# Plotting graph of auc and parameter\n",
    "\n",
    "plt.plot(param_list,acc_list)\n",
    "plt.xlabel(\"Parameter for K-NN\")\n",
    "plt.ylabel(\"Accuracy\")\n",
    "plt.title(\"Plot of parameter Vs Accuracy \")\n",
    "plt.show()"
   ]
  },
  {
   "cell_type": "code",
   "execution_count": 118,
   "metadata": {},
   "outputs": [
    {
     "name": "stdout",
     "output_type": "stream",
     "text": [
      "Accuracy of model with k = 21 is 87.64% and auc is 0.88\n"
     ]
    }
   ],
   "source": [
    "# Training the final model\n",
    "final_clf = KNeighborsClassifier(n_neighbors=21,algorithm='kd_tree',leaf_size=30)\n",
    "\n",
    "final_clf.fit(train_sent_vectors,Y_train)\n",
    "\n",
    "predict_y = final_clf.predict(test_sent_vectors)\n",
    "predict_probab = final_clf.predict_proba(test_sent_vectors)[:,1] # Returns the class probabality of +ve class only\n",
    "\n",
    "acc = accuracy_score(Y_test,predict_y,normalize=True)*float(100)\n",
    "auc = roc_auc_score(Y_test,predict_probab)\n",
    "\n",
    "print(\"Accuracy of model with k = 21 is {:.2f}% and auc is {:.2f}\".format(acc,auc))"
   ]
  },
  {
   "cell_type": "code",
   "execution_count": 119,
   "metadata": {},
   "outputs": [
    {
     "name": "stdout",
     "output_type": "stream",
     "text": [
      "=========== Confusion matrix ==========\n"
     ]
    },
    {
     "data": {
      "image/png": "[encoded data removed]",
      "text/plain": [
       "<matplotlib.figure.Figure at 0x1a2a2c2e5f8>"
      ]
     },
     "metadata": {},
     "output_type": "display_data"
    },
    {
     "name": "stdout",
     "output_type": "stream",
     "text": [
      "=========== Precision Matrix ==========\n"
     ]
    },
    {
     "data": {
      "image/png": "[encoded data removed]",
      "text/plain": [
       "<matplotlib.figure.Figure at 0x1a29ebb75f8>"
      ]
     },
     "metadata": {},
     "output_type": "display_data"
    },
    {
     "name": "stdout",
     "output_type": "stream",
     "text": [
      "=========== Recall Matrix =============\n"
     ]
    },
    {
     "data": {
      "image/png": "[encoded data removed]",
      "text/plain": [
       "<matplotlib.figure.Figure at 0x1a29e5d71d0>"
      ]
     },
     "metadata": {},
     "output_type": "display_data"
    }
   ],
   "source": [
    "# Plotting confusion matrix , precision and recall matrix\n",
    "\n",
    "confusion_matrix_plot(Y_test,predict_y)"
   ]
  },
  {
   "cell_type": "code",
   "execution_count": 120,
   "metadata": {},
   "outputs": [
    {
     "name": "stdout",
     "output_type": "stream",
     "text": [
      "             precision    recall  f1-score   support\n",
      "\n",
      "          0       0.72      0.35      0.47      2176\n",
      "          1       0.89      0.97      0.93     11646\n",
      "\n",
      "avg / total       0.86      0.88      0.86     13822\n",
      "\n"
     ]
    }
   ],
   "source": [
    "# Printing the classification report\n",
    "print(classification_report(Y_test,predict_y))"
   ]
  },
  {
   "cell_type": "code",
   "execution_count": 121,
   "metadata": {},
   "outputs": [
    {
     "data": {
      "image/png": "[encoded data removed]",
      "text/plain": [
       "<matplotlib.figure.Figure at 0x1a29f24fcf8>"
      ]
     },
     "metadata": {},
     "output_type": "display_data"
    },
    {
     "name": "stdout",
     "output_type": "stream",
     "text": [
      "Area under ROC curve is =0.878 \n"
     ]
    }
   ],
   "source": [
    "# Plotting ROC Curve\n",
    "from sklearn.metrics import roc_curve\n",
    "\n",
    "fpr,tpr,threshold = roc_curve(Y_test,predict_y)\n",
    "\n",
    "plt.plot([0,1],[0,1])\n",
    "plt.plot(fpr,tpr)\n",
    "plt.xlabel(\"fpr\")\n",
    "plt.ylabel(\"tpr\")\n",
    "plt.title(\"ROC curve for KNN with k= 21\")\n",
    "plt.show()\n",
    "\n",
    "# Printing area under curve\n",
    "\n",
    "print(\"Area under ROC curve is ={:.3f} \".format(roc_auc_score(Y_test,predict_probab)))"
   ]
  },
  {
   "cell_type": "markdown",
   "metadata": {},
   "source": [
    "### [5.2.4] Applying KNN kd-tree on TFIDF W2V,<font color='red'> SET 4</font>"
   ]
  },
  {
   "cell_type": "code",
   "execution_count": 163,
   "metadata": {},
   "outputs": [
    {
     "name": "stdout",
     "output_type": "stream",
     "text": [
      "Cross Validation Accuracy for k = 1 is 82.08% and auc is 0.67\n",
      "Cross Validation Accuracy for k = 3 is 85.13% and auc is 0.77\n",
      "Cross Validation Accuracy for k = 5 is 85.80% and auc is 0.81\n",
      "Cross Validation Accuracy for k = 7 is 86.30% and auc is 0.83\n",
      "Cross Validation Accuracy for k = 9 is 86.54% and auc is 0.84\n",
      "Cross Validation Accuracy for k = 11 is 86.58% and auc is 0.85\n",
      "Cross Validation Accuracy for k = 13 is 86.59% and auc is 0.86\n",
      "Cross Validation Accuracy for k = 15 is 86.67% and auc is 0.86\n",
      "Cross Validation Accuracy for k = 17 is 86.71% and auc is 0.86\n",
      "Cross Validation Accuracy for k = 19 is 86.73% and auc is 0.87\n",
      "Cross Validation Accuracy for k = 21 is 86.72% and auc is 0.87\n",
      "Cross Validation Accuracy for k = 23 is 86.70% and auc is 0.87\n",
      "Cross Validation Accuracy for k = 25 is 86.69% and auc is 0.87\n",
      "Cross Validation Accuracy for k = 27 is 86.62% and auc is 0.87\n",
      "Cross Validation Accuracy for k = 29 is 86.65% and auc is 0.87\n"
     ]
    }
   ],
   "source": [
    "# 10 fold cross validation on time series splitting \n",
    "# Here we are using vectorized dataset from previous section\n",
    "\n",
    "acc_list = []\n",
    "auc_list = []\n",
    "\n",
    "for k in range(1,30,2):\n",
    "    # KNN Classifier\n",
    "    clf = KNeighborsClassifier(n_neighbors=k,algorithm='kd_tree',leaf_size=40)\n",
    "    i=0\n",
    "    acc=0.0\n",
    "    auc=0.0\n",
    "    for train_index,test_index in tscv.split(train_tfidf_sent_vectors):\n",
    "        x_train = train_sent_vectors[0:train_index[-1]][:] # row 0 to train_index(excluding)\n",
    "        y_train = Y_train[0:train_index[-1]][:] # row 0 to train_index(excluding)\n",
    "        x_test = train_sent_vectors[train_index[-1]:test_index[-1]][:] # row from train_index to test_index will be selected\n",
    "        y_test = Y_train[train_index[-1]:test_index[-1]][:] # row from train_index to test_index(excluding) will be selected\n",
    "    \n",
    "        clf.fit(x_train,y_train)\n",
    "    \n",
    "        predict_y = clf.predict(x_test)\n",
    "        predict_probab = clf.predict_proba(x_test)[:,1]\n",
    "        i += 1\n",
    "        acc += accuracy_score(y_test,predict_y,normalize=True) * float(100)\n",
    "        auc += roc_auc_score(y_test,predict_probab)\n",
    "    \n",
    "    acc_list.append(acc)\n",
    "    auc_list.append(auc)\n",
    "    print(\"Cross Validation Accuracy for k = {:d} is {:.2f}% and auc is {:.2f}\".format(k,acc/i,auc/i))"
   ]
  },
  {
   "cell_type": "code",
   "execution_count": 164,
   "metadata": {},
   "outputs": [
    {
     "data": {
      "image/png": "[encoded data removed]",
      "text/plain": [
       "<matplotlib.figure.Figure at 0x1a29e48d278>"
      ]
     },
     "metadata": {},
     "output_type": "display_data"
    }
   ],
   "source": [
    "# Plotting graph of auc and parameter\n",
    "\n",
    "plt.plot(param_list,auc_list)\n",
    "plt.xlabel(\"Parameter for K-NN\")\n",
    "plt.ylabel(\"Area Under Curve\")\n",
    "plt.title(\"Plot of parameter Vs AUC \")\n",
    "plt.show()"
   ]
  },
  {
   "cell_type": "code",
   "execution_count": 165,
   "metadata": {},
   "outputs": [
    {
     "data": {
      "image/png": "[encoded data removed]",
      "text/plain": [
       "<matplotlib.figure.Figure at 0x1a2c4750320>"
      ]
     },
     "metadata": {},
     "output_type": "display_data"
    }
   ],
   "source": [
    "# Plotting graph of acc and parameter\n",
    "\n",
    "plt.plot(param_list,acc_list)\n",
    "plt.xlabel(\"Parameter for K-NN\")\n",
    "plt.ylabel(\"Accuracy\")\n",
    "plt.title(\"Plot of parameter Vs Accuracy\")\n",
    "plt.show()"
   ]
  },
  {
   "cell_type": "code",
   "execution_count": 170,
   "metadata": {},
   "outputs": [
    {
     "name": "stdout",
     "output_type": "stream",
     "text": [
      "Accuracy of model with k = 21 is 84.26% and auc is 0.50\n"
     ]
    }
   ],
   "source": [
    "# Training the final model\n",
    "final_clf = KNeighborsClassifier(n_neighbors=21,algorithm='kd_tree',leaf_size=40)\n",
    "\n",
    "final_clf.fit(train_tfidf_sent_vectors,Y_train)\n",
    "\n",
    "predict_y = final_clf.predict(test_tfidf_sent_vectors)\n",
    "predict_probab = final_clf.predict_proba(test_tfidf_sent_vectors)[:,1] # Returns the class probabality of +ve class only\n",
    "\n",
    "acc = accuracy_score(Y_test,predict_y,normalize=True)*float(100)\n",
    "auc = roc_auc_score(Y_test,predict_probab)\n",
    "\n",
    "print(\"Accuracy of model with k = 21 is {:.2f}% and auc is {:.2f}\".format(acc,auc))"
   ]
  },
  {
   "cell_type": "code",
   "execution_count": 171,
   "metadata": {},
   "outputs": [
    {
     "name": "stdout",
     "output_type": "stream",
     "text": [
      "=========== Confusion matrix ==========\n"
     ]
    },
    {
     "data": {
      "image/png": "[encoded data removed]",
      "text/plain": [
       "<matplotlib.figure.Figure at 0x1a2c47502b0>"
      ]
     },
     "metadata": {},
     "output_type": "display_data"
    },
    {
     "name": "stdout",
     "output_type": "stream",
     "text": [
      "=========== Precision Matrix ==========\n"
     ]
    },
    {
     "data": {
      "image/png": "[encoded data removed]",
      "text/plain": [
       "<matplotlib.figure.Figure at 0x1a2c37a2a90>"
      ]
     },
     "metadata": {},
     "output_type": "display_data"
    },
    {
     "name": "stdout",
     "output_type": "stream",
     "text": [
      "=========== Recall Matrix =============\n"
     ]
    },
    {
     "data": {
      "image/png": "[encoded data removed]",
      "text/plain": [
       "<matplotlib.figure.Figure at 0x1a29e4bcc18>"
      ]
     },
     "metadata": {},
     "output_type": "display_data"
    },
    {
     "name": "stdout",
     "output_type": "stream",
     "text": [
      "             precision    recall  f1-score   support\n",
      "\n",
      "          0       0.00      0.00      0.00      2176\n",
      "          1       0.84      1.00      0.91     11646\n",
      "\n",
      "avg / total       0.71      0.84      0.77     13822\n",
      "\n"
     ]
    }
   ],
   "source": [
    "# Plotting confusion matrix , precision and recall matrix\n",
    "\n",
    "confusion_matrix_plot(Y_test,predict_y)\n",
    "\n",
    "# Printing the classification report\n",
    "print(classification_report(Y_test,predict_y))"
   ]
  },
  {
   "cell_type": "code",
   "execution_count": 172,
   "metadata": {},
   "outputs": [
    {
     "data": {
      "image/png": "[encoded data removed]",
      "text/plain": [
       "<matplotlib.figure.Figure at 0x1a29fcab0b8>"
      ]
     },
     "metadata": {},
     "output_type": "display_data"
    },
    {
     "name": "stdout",
     "output_type": "stream",
     "text": [
      "Area under ROC curve is =0.500 \n"
     ]
    }
   ],
   "source": [
    "# Plotting ROC Curve\n",
    "from sklearn.metrics import roc_curve\n",
    "\n",
    "fpr,tpr,threshold = roc_curve(Y_test,predict_y)\n",
    "\n",
    "plt.plot([0,1],[0,1])\n",
    "plt.plot(fpr,tpr)\n",
    "plt.xlabel(\"fpr\")\n",
    "plt.ylabel(\"tpr\")\n",
    "plt.title(\"ROC curve for KNN with k= 21\")\n",
    "plt.show()\n",
    "\n",
    "# Printing area under curve\n",
    "\n",
    "print(\"Area under ROC curve is ={:.3f} \".format(roc_auc_score(Y_test,predict_probab)))"
   ]
  },
  {
   "cell_type": "markdown",
   "metadata": {},
   "source": [
    "<h1>The model that we have trained are performing good on positive class but not that good on negative class</h1>\n",
    "<h1>Therefore we are trying to analyse positive and negative reviews seperately and remove some most common words.</h1>"
   ]
  },
  {
   "cell_type": "code",
   "execution_count": 31,
   "metadata": {},
   "outputs": [
    {
     "name": "stdout",
     "output_type": "stream",
     "text": [
      "(38479, 11)\n",
      "(7592, 11)\n"
     ]
    }
   ],
   "source": [
    "# Seperating positive reviews and negative reviews for analysis\n",
    "positive_review = final[final.Score == 1]\n",
    "negative_review = final[final.Score == 0]\n",
    "print(positive_review.shape)\n",
    "print(negative_review.shape)"
   ]
  },
  {
   "cell_type": "code",
   "execution_count": 32,
   "metadata": {},
   "outputs": [
    {
     "name": "stdout",
     "output_type": "stream",
     "text": [
      "(38479,)\n",
      "(7592,)\n"
     ]
    }
   ],
   "source": [
    "positive_text = positive_review[\"Cleaned_review\"]\n",
    "negative_text = negative_review[\"Cleaned_review\"]\n",
    "print(positive_text.shape)\n",
    "print(negative_text.shape)"
   ]
  },
  {
   "cell_type": "code",
   "execution_count": 33,
   "metadata": {},
   "outputs": [],
   "source": [
    "pos_word_count = {}\n",
    "for sent in positive_text:\n",
    "    for word in sent.split():\n",
    "        if word not in pos_word_count:\n",
    "            pos_word_count[word] = 1\n",
    "        else:\n",
    "            pos_word_count[word] += 1\n"
   ]
  },
  {
   "cell_type": "code",
   "execution_count": 60,
   "metadata": {},
   "outputs": [
    {
     "name": "stdout",
     "output_type": "stream",
     "text": [
      "not 35145\n",
      "like 15694\n",
      "good 13981\n",
      "great 12935\n",
      "one 11207\n",
      "taste 10185\n",
      "tea 9412\n",
      "love 9368\n",
      "coffee 9368\n",
      "would 9174\n",
      "flavor 9113\n",
      "product 8827\n",
      "food 7418\n",
      "get 6950\n",
      "really 6542\n",
      "best 5976\n",
      "amazon 5860\n",
      "much 5799\n",
      "use 5786\n",
      "also 5730\n",
      "time 5701\n",
      "little 5625\n",
      "price 5289\n",
      "find 5120\n",
      "make 5116\n",
      "chocolate 5111\n",
      "well 4988\n",
      "tried 4987\n",
      "buy 4758\n",
      "dog 4519\n",
      "try 4510\n",
      "better 4448\n",
      "even 4385\n",
      "eat 4232\n",
      "first 3782\n",
      "sugar 3726\n",
      "found 3651\n",
      "cup 3596\n",
      "drink 3528\n",
      "bag 3519\n",
      "used 3499\n",
      "water 3473\n",
      "sweet 3406\n",
      "delicious 3383\n",
      "free 3368\n",
      "could 3352\n",
      "bit 3251\n",
      "made 3216\n",
      "day 3166\n",
      "favorite 3121\n",
      "recommend 3121\n",
      "store 3098\n",
      "two 3065\n",
      "way 3056\n",
      "since 3038\n",
      "bought 3027\n",
      "mix 3005\n",
      "nice 2982\n",
      "think 2921\n",
      "hot 2868\n",
      "give 2857\n",
      "dogs 2848\n",
      "loves 2834\n",
      "tastes 2828\n",
      "treats 2809\n",
      "many 2783\n",
      "order 2782\n",
      "still 2724\n",
      "every 2711\n",
      "makes 2703\n",
      "always 2668\n",
      "flavors 2659\n",
      "perfect 2646\n",
      "add 2642\n",
      "without 2633\n",
      "know 2619\n",
      "easy 2617\n",
      "box 2605\n",
      "organic 2597\n",
      "years 2584\n",
      "want 2514\n",
      "right 2495\n",
      "milk 2485\n",
      "got 2455\n",
      "healthy 2443\n",
      "never 2427\n",
      "lot 2397\n",
      "quality 2370\n",
      "keep 2352\n",
      "brand 2332\n",
      "treat 2324\n",
      "stuff 2304\n",
      "ever 2297\n",
      "less 2294\n",
      "snack 2286\n",
      "fresh 2200\n",
      "enough 2183\n",
      "small 2179\n",
      "chips 2168\n",
      "say 2164\n",
      "enjoy 2161\n",
      "something 2113\n",
      "need 2102\n",
      "definitely 2101\n",
      "salt 2101\n",
      "put 2092\n",
      "cat 2074\n",
      "eating 2069\n",
      "old 2044\n",
      "regular 2041\n",
      "different 2035\n",
      "happy 2022\n",
      "using 2007\n",
      "long 1998\n",
      "tasty 1984\n",
      "high 1963\n",
      "highly 1962\n",
      "far 1960\n",
      "strong 1931\n",
      "back 1930\n",
      "wonderful 1929\n",
      "excellent 1921\n",
      "size 1915\n",
      "buying 1913\n",
      "hard 1911\n",
      "whole 1908\n",
      "ordered 1904\n",
      "local 1898\n",
      "sure 1896\n",
      "low 1895\n",
      "products 1886\n",
      "ingredients 1852\n",
      "popcorn 1840\n",
      "green 1832\n",
      "dark 1829\n",
      "though 1817\n",
      "chicken 1811\n",
      "oil 1809\n",
      "however 1786\n",
      "thing 1771\n",
      "big 1760\n",
      "natural 1760\n",
      "shipping 1745\n",
      "calories 1733\n",
      "pretty 1725\n",
      "work 1722\n",
      "looking 1704\n",
      "take 1702\n",
      "quite 1688\n",
      "see 1683\n",
      "fat 1683\n",
      "butter 1668\n",
      "diet 1643\n",
      "people 1624\n",
      "year 1619\n",
      "actually 1617\n",
      "last 1616\n",
      "rice 1616\n",
      "foods 1610\n",
      "gluten 1608\n",
      "stores 1595\n",
      "texture 1580\n",
      "pack 1554\n",
      "feel 1552\n",
      "package 1551\n",
      "bags 1549\n",
      "around 1542\n",
      "per 1539\n",
      "cats 1536\n",
      "new 1533\n",
      "full 1533\n",
      "anything 1513\n",
      "tasting 1499\n",
      "another 1499\n",
      "cups 1493\n",
      "bread 1486\n",
      "almost 1485\n",
      "sauce 1480\n",
      "real 1472\n",
      "brands 1469\n",
      "bar 1468\n",
      "purchase 1459\n",
      "going 1450\n",
      "grocery 1448\n",
      "family 1448\n",
      "worth 1446\n",
      "cookies 1446\n",
      "expensive 1440\n",
      "half 1437\n",
      "loved 1434\n",
      "added 1425\n",
      "may 1422\n",
      "bars 1414\n",
      "protein 1393\n",
      "usually 1392\n",
      "morning 1388\n",
      "home 1387\n",
      "getting 1386\n",
      "tasted 1381\n",
      "fruit 1354\n"
     ]
    }
   ],
   "source": [
    "import collections\n",
    "pos_word_counter = collections.Counter(pos_word_count)\n",
    "\n",
    "words_most_com = []\n",
    "words_least_com = []\n",
    "\n",
    "for word,count in pos_word_counter.most_common(200):\n",
    "    words_most_com.append(word)\n",
    "    print(word,count)\n"
   ]
  },
  {
   "cell_type": "code",
   "execution_count": 64,
   "metadata": {},
   "outputs": [],
   "source": [
    "# Collecting most important positive words together\n",
    "imp_pos_words = ['good','great','love','loves','loved','best','really','well','better','delicious',\n",
    "                 'recommend','nice','loves','tastes','treats','perfect','organic','enjoy','definitely','happy','tasty',\n",
    "                 'wonderful','excellent','pretty']"
   ]
  },
  {
   "cell_type": "code",
   "execution_count": 61,
   "metadata": {},
   "outputs": [
    {
     "name": "stdout",
     "output_type": "stream",
     "text": [
      "avg len of reviews 37.480235972868314\n"
     ]
    }
   ],
   "source": [
    "# Calculating average len of positive reviews\n",
    "len_sum = 0\n",
    "for sent in positive_text:\n",
    "    len_sum += len(sent.split())\n",
    "\n",
    "print(\"avg len of reviews\",len_sum/38479)"
   ]
  },
  {
   "cell_type": "code",
   "execution_count": 62,
   "metadata": {},
   "outputs": [
    {
     "name": "stdout",
     "output_type": "stream",
     "text": [
      "avg len of reviews 8.557524883702799\n"
     ]
    }
   ],
   "source": [
    "len_sum = 0\n",
    "for sent in negative_text:\n",
    "    len_sum += len(sent.split())\n",
    "\n",
    "print(\"avg len of reviews\",len_sum/38479)"
   ]
  },
  {
   "cell_type": "code",
   "execution_count": 35,
   "metadata": {},
   "outputs": [],
   "source": [
    "neg_word_count = {}\n",
    "for sent in negative_text:\n",
    "    for word in sent.split():\n",
    "        if word not in neg_word_count:\n",
    "            neg_word_count[word] = 1\n",
    "        else:\n",
    "            neg_word_count[word] += 1\n"
   ]
  },
  {
   "cell_type": "code",
   "execution_count": 63,
   "metadata": {},
   "outputs": [
    {
     "name": "stdout",
     "output_type": "stream",
     "text": [
      "not 12513\n",
      "like 4189\n",
      "would 3254\n",
      "taste 3114\n",
      "product 2989\n",
      "one 2498\n",
      "good 1953\n",
      "flavor 1869\n",
      "coffee 1737\n",
      "food 1557\n",
      "even 1529\n",
      "get 1527\n",
      "tea 1497\n",
      "amazon 1348\n",
      "buy 1334\n",
      "much 1318\n",
      "really 1307\n",
      "could 1253\n",
      "first 1116\n",
      "tried 1103\n",
      "dog 1095\n",
      "time 1092\n",
      "bought 1073\n",
      "box 1033\n",
      "water 1027\n",
      "better 1002\n",
      "bad 994\n",
      "made 987\n",
      "try 946\n",
      "eat 933\n",
      "chocolate 927\n",
      "also 881\n",
      "know 875\n",
      "great 855\n",
      "bag 837\n",
      "use 833\n",
      "love 830\n",
      "drink 820\n",
      "two 816\n",
      "sugar 813\n",
      "make 808\n",
      "little 805\n",
      "thought 799\n",
      "got 787\n",
      "way 764\n",
      "price 751\n",
      "well 747\n",
      "used 744\n",
      "something 740\n",
      "never 739\n",
      "ordered 731\n",
      "still 727\n",
      "think 722\n",
      "order 722\n",
      "tastes 716\n",
      "find 695\n",
      "back 663\n",
      "disappointed 663\n",
      "cup 663\n",
      "old 654\n",
      "money 650\n",
      "ingredients 631\n",
      "away 627\n",
      "brand 626\n",
      "found 616\n",
      "products 608\n",
      "tasted 608\n",
      "however 601\n",
      "since 597\n",
      "give 578\n",
      "stuff 575\n",
      "received 570\n",
      "package 568\n",
      "different 567\n",
      "dogs 566\n",
      "store 566\n",
      "say 564\n",
      "many 553\n",
      "reviews 550\n",
      "new 547\n",
      "sweet 539\n",
      "see 537\n",
      "sure 531\n",
      "want 531\n",
      "hot 526\n",
      "another 516\n",
      "company 511\n",
      "item 510\n",
      "coconut 507\n",
      "smell 504\n",
      "mix 499\n",
      "ever 494\n",
      "treats 494\n",
      "going 492\n",
      "quality 491\n",
      "ginger 491\n",
      "maybe 474\n",
      "purchased 473\n",
      "may 472\n",
      "people 471\n",
      "buying 470\n",
      "thing 466\n",
      "bit 463\n",
      "less 461\n",
      "free 458\n",
      "almost 455\n",
      "recommend 455\n",
      "cans 453\n",
      "looking 451\n",
      "hard 443\n",
      "anything 443\n",
      "small 443\n",
      "bags 442\n",
      "purchase 440\n",
      "best 433\n",
      "nothing 429\n",
      "organic 426\n",
      "though 425\n",
      "actually 424\n",
      "eating 424\n",
      "flavors 421\n",
      "put 416\n",
      "lot 415\n",
      "natural 411\n",
      "texture 411\n",
      "said 409\n",
      "last 408\n",
      "half 407\n",
      "whole 407\n",
      "real 406\n",
      "high 391\n",
      "salt 390\n",
      "strong 390\n",
      "shipping 388\n",
      "cat 386\n",
      "chicken 385\n",
      "problem 385\n",
      "milk 379\n",
      "day 378\n",
      "plastic 375\n",
      "oil 372\n",
      "pack 371\n",
      "gave 371\n",
      "right 370\n",
      "years 369\n",
      "opened 368\n",
      "trying 367\n",
      "review 365\n",
      "look 364\n",
      "pretty 363\n",
      "enough 357\n",
      "using 357\n",
      "cookies 352\n",
      "cups 351\n",
      "every 350\n",
      "juice 350\n",
      "case 348\n",
      "chips 348\n",
      "take 347\n",
      "work 345\n",
      "regular 344\n",
      "tasting 342\n",
      "big 342\n",
      "might 341\n",
      "read 339\n",
      "waste 338\n",
      "far 336\n",
      "bottle 334\n",
      "wanted 332\n",
      "either 331\n",
      "boxes 331\n",
      "local 330\n",
      "packaging 329\n",
      "low 329\n",
      "awful 327\n",
      "popcorn 324\n",
      "horrible 322\n",
      "probably 321\n",
      "worth 319\n",
      "size 319\n",
      "dry 317\n",
      "came 317\n",
      "green 317\n",
      "long 316\n",
      "bitter 316\n",
      "instead 311\n",
      "jerky 310\n",
      "least 309\n",
      "kind 309\n",
      "return 306\n",
      "without 298\n",
      "three 296\n",
      "getting 296\n",
      "took 295\n",
      "went 290\n",
      "rather 288\n",
      "several 288\n",
      "unfortunately 288\n",
      "need 286\n",
      "worst 286\n"
     ]
    }
   ],
   "source": [
    "import collections\n",
    "neg_word_counter = collections.Counter(neg_word_count)\n",
    "\n",
    "for word,count in neg_word_counter.most_common(200):\n",
    "    print(word,count)"
   ]
  },
  {
   "cell_type": "code",
   "execution_count": 65,
   "metadata": {},
   "outputs": [],
   "source": [
    "# Collecting important negative words\n",
    "neg_imp_words = ['not','like','bad','great','love','disappointed','different','best','waste','waful','horrible',\n",
    "                 'bitter','jerky','return','unfortunately','worst']"
   ]
  },
  {
   "cell_type": "markdown",
   "metadata": {},
   "source": [
    "<h1>Observations</h1>\n",
    "<h2>Clearly we can see that top most occuring word in both positive and negative reviews are \"not\" and \"like\".</h2>"
   ]
  },
  {
   "cell_type": "code",
   "execution_count": 67,
   "metadata": {},
   "outputs": [
    {
     "name": "stdout",
     "output_type": "stream",
     "text": [
      "38479\n"
     ]
    }
   ],
   "source": [
    "# Therefore we are removing \"not\" word from positive review set and like \"from\" both datasets.\n",
    "# And after this we will analyse how does our models perform\n",
    "\n",
    "cleaned_pos_text = []\n",
    "for sent in positive_text:\n",
    "    sentence = []\n",
    "    s = \"\"\n",
    "    for word in sent.split():\n",
    "        if(word == \"not\"):\n",
    "            continue\n",
    "        if(word in imp_pos_words):\n",
    "            sentence.append(word)\n",
    "        else:\n",
    "            continue\n",
    "    s = \" \".join(e.lower() for e in sentence)\n",
    "    cleaned_pos_text.append(s.strip())\n",
    "\n",
    "print(len(cleaned_pos_text))"
   ]
  },
  {
   "cell_type": "code",
   "execution_count": 68,
   "metadata": {},
   "outputs": [
    {
     "name": "stdout",
     "output_type": "stream",
     "text": [
      "7592\n"
     ]
    }
   ],
   "source": [
    "# For negative reviews\n",
    "cleaned_neg_text = []\n",
    "for sent in negative_text:\n",
    "    sentence = []\n",
    "    for word in sent.split():\n",
    "        if(word == \"like\"):\n",
    "            continue\n",
    "        if(word in neg_imp_words):\n",
    "            sentence = \"\".join(word.lower())\n",
    "        else:\n",
    "            continue\n",
    "            \n",
    "    s = \" \".join(e.lower() for e in sentence)\n",
    "    cleaned_neg_text.append(s.strip())\n",
    "    \n",
    "\n",
    "print(len(cleaned_neg_text))"
   ]
  },
  {
   "cell_type": "code",
   "execution_count": 69,
   "metadata": {},
   "outputs": [],
   "source": [
    "# Storing class labels of both positive and negative data points\n",
    "\n",
    "positive_score = positive_review[\"Score\"]\n",
    "negative_score = negative_review[\"Score\"]\n",
    "\n",
    "# Now we will combine positive and negative reviews\n",
    "\n",
    "review_lst = cleaned_pos_text + cleaned_neg_text\n",
    "\n",
    "review_label = list(positive_score) + list(negative_score)"
   ]
  },
  {
   "cell_type": "code",
   "execution_count": 70,
   "metadata": {},
   "outputs": [
    {
     "data": {
      "text/html": [
       "<div>\n",
       "<style scoped>\n",
       "    .dataframe tbody tr th:only-of-type {\n",
       "        vertical-align: middle;\n",
       "    }\n",
       "\n",
       "    .dataframe tbody tr th {\n",
       "        vertical-align: top;\n",
       "    }\n",
       "\n",
       "    .dataframe thead th {\n",
       "        text-align: right;\n",
       "    }\n",
       "</style>\n",
       "<table border=\"1\" class=\"dataframe\">\n",
       "  <thead>\n",
       "    <tr style=\"text-align: right;\">\n",
       "      <th></th>\n",
       "      <th>Class</th>\n",
       "      <th>Text</th>\n",
       "    </tr>\n",
       "  </thead>\n",
       "  <tbody>\n",
       "    <tr>\n",
       "      <th>0</th>\n",
       "      <td>1</td>\n",
       "      <td>love</td>\n",
       "    </tr>\n",
       "    <tr>\n",
       "      <th>1</th>\n",
       "      <td>1</td>\n",
       "      <td>pretty</td>\n",
       "    </tr>\n",
       "    <tr>\n",
       "      <th>2</th>\n",
       "      <td>1</td>\n",
       "      <td>great</td>\n",
       "    </tr>\n",
       "    <tr>\n",
       "      <th>3</th>\n",
       "      <td>1</td>\n",
       "      <td>love</td>\n",
       "    </tr>\n",
       "    <tr>\n",
       "      <th>4</th>\n",
       "      <td>1</td>\n",
       "      <td>really good</td>\n",
       "    </tr>\n",
       "  </tbody>\n",
       "</table>\n",
       "</div>"
      ],
      "text/plain": [
       "   Class         Text\n",
       "0      1         love\n",
       "1      1       pretty\n",
       "2      1        great\n",
       "3      1         love\n",
       "4      1  really good"
      ]
     },
     "execution_count": 70,
     "metadata": {},
     "output_type": "execute_result"
    }
   ],
   "source": [
    "# Converting them into dataframe\n",
    "final_dataset = pd.DataFrame({\"Text\":review_lst , \"Class\":review_label})\n",
    "final_dataset.head()"
   ]
  },
  {
   "cell_type": "code",
   "execution_count": 71,
   "metadata": {},
   "outputs": [
    {
     "name": "stdout",
     "output_type": "stream",
     "text": [
      "(32249,) (13822,)\n",
      "1    26945\n",
      "0     5304\n",
      "Name: Class, dtype: int64 1    11534\n",
      "0     2288\n",
      "Name: Class, dtype: int64\n"
     ]
    }
   ],
   "source": [
    "from sklearn.model_selection import train_test_split\n",
    "\n",
    "# Splitting data into train and test\n",
    "X = final_dataset[\"Text\"]\n",
    "Y = final_dataset[\"Class\"]\n",
    "\n",
    "X_train,X_test,Y_train,Y_test = train_test_split(X,Y,test_size=0.3,random_state=42)\n",
    "print(X_train.shape,X_test.shape)\n",
    "print(Y_train.value_counts(),Y_test.value_counts())"
   ]
  },
  {
   "cell_type": "markdown",
   "metadata": {},
   "source": [
    "<h1> Using bag of words</h1>"
   ]
  },
  {
   "cell_type": "code",
   "execution_count": 72,
   "metadata": {},
   "outputs": [],
   "source": [
    "# BagOfWords for bigrams and unigrams\n",
    "bow_model = CountVectorizer(ngram_range=(1,2)) # Initializing the model\n",
    "\n",
    "# vectorizing train dataset\n",
    "vect_train = bow_model.fit_transform(X_train)\n",
    "\n",
    "# vectorizing test dataset\n",
    "vect_test = bow_model.transform(X_test)"
   ]
  },
  {
   "cell_type": "code",
   "execution_count": 73,
   "metadata": {},
   "outputs": [
    {
     "name": "stdout",
     "output_type": "stream",
     "text": [
      "Cross Validation Accuracy for k = 1 is 83.57% and auc is 0.50\n",
      "Cross Validation Accuracy for k = 3 is 83.57% and auc is 0.95\n",
      "Cross Validation Accuracy for k = 5 is 89.98% and auc is 0.95\n",
      "Cross Validation Accuracy for k = 7 is 89.21% and auc is 0.95\n",
      "Cross Validation Accuracy for k = 9 is 89.93% and auc is 0.95\n",
      "Cross Validation Accuracy for k = 11 is 91.46% and auc is 0.95\n",
      "Cross Validation Accuracy for k = 13 is 91.46% and auc is 0.95\n",
      "Cross Validation Accuracy for k = 15 is 91.46% and auc is 0.95\n",
      "Cross Validation Accuracy for k = 17 is 91.46% and auc is 0.95\n",
      "Cross Validation Accuracy for k = 19 is 90.69% and auc is 0.95\n",
      "Cross Validation Accuracy for k = 21 is 90.68% and auc is 0.95\n",
      "Cross Validation Accuracy for k = 23 is 91.45% and auc is 0.95\n",
      "Cross Validation Accuracy for k = 25 is 90.68% and auc is 0.95\n",
      "Cross Validation Accuracy for k = 27 is 90.68% and auc is 0.95\n",
      "Cross Validation Accuracy for k = 29 is 91.44% and auc is 0.95\n"
     ]
    }
   ],
   "source": [
    "from sklearn.neighbors import KNeighborsClassifier\n",
    "from sklearn.model_selection import TimeSeriesSplit\n",
    "from sklearn.metrics import accuracy_score\n",
    "from sklearn.metrics import roc_auc_score\n",
    "\n",
    "\n",
    "# Initializing time series splitter\n",
    "tscv = TimeSeriesSplit(n_splits=10)\n",
    "\n",
    "# Now we will perform 10 fold cross validation on time split data\n",
    "\n",
    "acc_list = []\n",
    "auc_list = []\n",
    "\n",
    "for k in range(1,30,2):\n",
    "    # KNN Classifier\n",
    "    clf = KNeighborsClassifier(n_neighbors=k,algorithm='brute',leaf_size=40)\n",
    "    i=0\n",
    "    acc=0.0\n",
    "    auc=0.0\n",
    "    for train_index,test_index in tscv.split(vect_train):\n",
    "        x_train = vect_train[0:train_index[-1]][:] # row 0 to train_index(excluding)\n",
    "        y_train = Y_train[0:train_index[-1]][:] # row 0 to train_index(excluding)\n",
    "        x_test = vect_train[train_index[-1]:test_index[-1]][:] # row from train_index to test_index will be selected\n",
    "        y_test = Y_train[train_index[-1]:test_index[-1]][:] # row from train_index to test_index(excluding) will be selected\n",
    "    \n",
    "        clf.fit(x_train,y_train)\n",
    "    \n",
    "        predict_y = clf.predict(x_test)\n",
    "        predict_probab = clf.predict_proba(x_test)[:,1]\n",
    "        i += 1\n",
    "        acc += accuracy_score(y_test,predict_y,normalize=True) * float(100)\n",
    "        auc += roc_auc_score(y_test,predict_probab)\n",
    "    \n",
    "    acc_list.append(acc)\n",
    "    auc_list.append(auc)\n",
    "    print(\"Cross Validation Accuracy for k = {:d} is {:.2f}% and auc is {:.2f}\".format(k,acc/i,auc/i))\n"
   ]
  },
  {
   "cell_type": "code",
   "execution_count": 74,
   "metadata": {},
   "outputs": [
    {
     "data": {
      "image/png": "[encoded data removed]",
      "text/plain": [
       "<matplotlib.figure.Figure at 0x184beb511d0>"
      ]
     },
     "metadata": {},
     "output_type": "display_data"
    }
   ],
   "source": [
    "# Plotting graph of auc and parameter\n",
    "\n",
    "param_list = [1,3,5,7,9,11,13,15,17,19,21,23,25,27,29]\n",
    "\n",
    "plt.plot(param_list,auc_list)\n",
    "plt.xlabel(\"Parameter for K-NN\")\n",
    "plt.ylabel(\"Area Under Curve\")\n",
    "plt.title(\"Plot of parameter Vs AUC \")\n",
    "plt.show()"
   ]
  },
  {
   "cell_type": "code",
   "execution_count": 75,
   "metadata": {},
   "outputs": [
    {
     "data": {
      "image/png": "[encoded data removed]",
      "text/plain": [
       "<matplotlib.figure.Figure at 0x184c21c0048>"
      ]
     },
     "metadata": {},
     "output_type": "display_data"
    }
   ],
   "source": [
    "# Plotting graph of accuracy and parameter\n",
    "\n",
    "plt.plot(param_list,acc_list)\n",
    "plt.xlabel(\"Parameter for K-NN\")\n",
    "plt.ylabel(\"Accuracy\")\n",
    "plt.title(\"Plot of parameter Vs Accuracy \")\n",
    "plt.show()"
   ]
  },
  {
   "cell_type": "code",
   "execution_count": 77,
   "metadata": {},
   "outputs": [
    {
     "name": "stdout",
     "output_type": "stream",
     "text": [
      "Accuracy of model with k = 13 is 91.49% and auc is 0.95\n"
     ]
    }
   ],
   "source": [
    "# Training the final model\n",
    "final_clf = KNeighborsClassifier(n_neighbors=13,algorithm='brute',leaf_size=40)\n",
    "\n",
    "final_clf.fit(vect_train,Y_train)\n",
    "\n",
    "predict_y = final_clf.predict(vect_test)\n",
    "predict_probab = final_clf.predict_proba(vect_test)[:,1] # Returns the class probabality of +ve class only\n",
    "\n",
    "acc = accuracy_score(Y_test,predict_y,normalize=True)*float(100)\n",
    "auc = roc_auc_score(Y_test,predict_probab)\n",
    "\n",
    "print(\"Accuracy of model with k = 13 is {:.2f}% and auc is {:.2f}\".format(acc,auc))"
   ]
  },
  {
   "cell_type": "code",
   "execution_count": 80,
   "metadata": {},
   "outputs": [
    {
     "name": "stdout",
     "output_type": "stream",
     "text": [
      "=========== Confusion matrix ==========\n"
     ]
    },
    {
     "data": {
      "image/png": "[encoded data removed]",
      "text/plain": [
       "<matplotlib.figure.Figure at 0x184bc867b70>"
      ]
     },
     "metadata": {},
     "output_type": "display_data"
    },
    {
     "name": "stdout",
     "output_type": "stream",
     "text": [
      "=========== Precision Matrix ==========\n"
     ]
    },
    {
     "data": {
      "image/png": "[encoded data removed]",
      "text/plain": [
       "<matplotlib.figure.Figure at 0x184bc1aaef0>"
      ]
     },
     "metadata": {},
     "output_type": "display_data"
    },
    {
     "name": "stdout",
     "output_type": "stream",
     "text": [
      "=========== Recall Matrix =============\n"
     ]
    },
    {
     "data": {
      "image/png": "[encoded data removed]",
      "text/plain": [
       "<matplotlib.figure.Figure at 0x184bd8cea90>"
      ]
     },
     "metadata": {},
     "output_type": "display_data"
    },
    {
     "name": "stdout",
     "output_type": "stream",
     "text": [
      "             precision    recall  f1-score   support\n",
      "\n",
      "          0       0.66      1.00      0.80      2288\n",
      "          1       1.00      0.90      0.95     11534\n",
      "\n",
      "avg / total       0.94      0.91      0.92     13822\n",
      "\n"
     ]
    }
   ],
   "source": [
    "from sklearn.metrics import classification_report\n",
    "# Plotting confusion matrix , precision and recall matrix\n",
    "\n",
    "confusion_matrix_plot(Y_test,predict_y)\n",
    "\n",
    "# Printing the classification report\n",
    "print(classification_report(Y_test,predict_y))"
   ]
  },
  {
   "cell_type": "code",
   "execution_count": 81,
   "metadata": {},
   "outputs": [
    {
     "data": {
      "image/png": "[encoded data removed]",
      "text/plain": [
       "<matplotlib.figure.Figure at 0x184bc867a58>"
      ]
     },
     "metadata": {},
     "output_type": "display_data"
    },
    {
     "name": "stdout",
     "output_type": "stream",
     "text": [
      "Area under ROC curve is =0.949 \n"
     ]
    }
   ],
   "source": [
    "# Plotting ROC Curve\n",
    "from sklearn.metrics import roc_curve\n",
    "\n",
    "fpr,tpr,threshold = roc_curve(Y_test,predict_y)\n",
    "\n",
    "plt.plot([0,1],[0,1])\n",
    "plt.plot(fpr,tpr)\n",
    "plt.xlabel(\"fpr\")\n",
    "plt.ylabel(\"tpr\")\n",
    "plt.title(\"ROC curve for KNN with k= 21\")\n",
    "plt.show()\n",
    "\n",
    "# Printing area under curve\n",
    "\n",
    "print(\"Area under ROC curve is ={:.3f} \".format(roc_auc_score(Y_test,predict_probab)))"
   ]
  },
  {
   "cell_type": "markdown",
   "metadata": {},
   "source": [
    "<h3>Observation</h3>\n",
    "<h5> Surpringly the accuracy and area under ROC increased drastically when only most important words were used as features</h5>"
   ]
  },
  {
   "cell_type": "markdown",
   "metadata": {},
   "source": [
    "# [6] Conclusions"
   ]
  },
  {
   "cell_type": "code",
   "execution_count": 95,
   "metadata": {},
   "outputs": [
    {
     "name": "stdout",
     "output_type": "stream",
     "text": [
      "+--------------------------+--------+----------+------+-----------+--------+----------+\n",
      "|        Model Type        | Best K | Accuracy | AUC  | Precision | Recall | f1-score |\n",
      "+--------------------------+--------+----------+------+-----------+--------+----------+\n",
      "|           BOW            |   21   |  84.05%  | 0.67 |    0.80   |  0.84  |   0.80   |\n",
      "|          TfIdf           |   25   |  84.26%  | 0.51 |    0.71   |  0.84  |   0.77   |\n",
      "|         Avg W2V          |   17   |  87.77   | 0.87 |    0.86   |  0.88  |   0.86   |\n",
      "|    TfIdf Weighted W2V    |   21   |  84.26   | 0.50 |    0.71   |  0.84  |   0.77   |\n",
      "| BOW on improved features |   13   |  91.49   | 0.95 |    0.94   |  0.91  |   0.92   |\n",
      "+--------------------------+--------+----------+------+-----------+--------+----------+\n"
     ]
    }
   ],
   "source": [
    "from prettytable import PrettyTable\n",
    "\n",
    "x = PrettyTable()\n",
    "\n",
    "\n",
    "x.field_names = [\"Model Type\",\"Best K\",\"Accuracy\",\"AUC\",\"Precision\",\"Recall\",\"f1-score\"]\n",
    "\n",
    "x.add_row([\"BOW\",\"21\",\"84.05%\",\"0.67\",\"0.80\",\"0.84\",\"0.80\"])\n",
    "x.add_row([\"TfIdf\",\"25\",\"84.26%\",\"0.51\",\"0.71\",\"0.84\",\"0.77\"])\n",
    "x.add_row([\"Avg W2V\",\"17\",\"87.77\",\"0.87\",\"0.86\",\"0.88\",\"0.86\"])\n",
    "x.add_row([\"TfIdf Weighted W2V\",\"21\",\"84.26\",\"0.50\",\"0.71\",\"0.84\",\"0.77\"])\n",
    "x.add_row([\"BOW on improved features\",\"13\",\"91.49\",\"0.95\",\"0.94\",\"0.91\",\"0.92\"])\n",
    "print(x)"
   ]
  },
  {
   "cell_type": "code",
   "execution_count": null,
   "metadata": {},
   "outputs": [],
   "source": []
  }
 ],
 "metadata": {
  "kernelspec": {
   "display_name": "Python 3",
   "language": "python",
   "name": "python3"
  },
  "language_info": {
   "codemirror_mode": {
    "name": "ipython",
    "version": 3
   },
   "file_extension": ".py",
   "mimetype": "text/x-python",
   "name": "python",
   "nbconvert_exporter": "python",
   "pygments_lexer": "ipython3",
   "version": "3.6.4"
  }
 },
 "nbformat": 4,
 "nbformat_minor": 2
}
